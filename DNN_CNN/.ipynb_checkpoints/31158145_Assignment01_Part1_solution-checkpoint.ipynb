{
 "cells": [
  {
   "cell_type": "markdown",
   "metadata": {
    "id": "JUjMwMI8Kotk"
   },
   "source": [
    "# <span style=\"color:#0b486b\">  FIT5215: Deep Learning (2023)</span>\n",
    "***\n",
    "*CE/Lecturer:* Dr **Trung Le** | trunglm@monash.edu <br/>\n",
    "*Head Tutor:* Mr **Tuan Nguyen** | tuan.Ng@monash.edu  <br/>\n",
    "<br/>\n",
    "Department of Data Science and AI, Faculty of Information Technology, Monash University, Australia\n",
    "***"
   ]
  },
  {
   "cell_type": "markdown",
   "metadata": {
    "id": "_V4popnCKotl"
   },
   "source": [
    "# <span style=\"color:#0b486b\">  Student Information</span>\n",
    "***\n",
    "Surname: **NG**  <br/>\n",
    "Firstname: **YI JIE**    <br/>\n",
    "Student ID: **31158145**    <br/>\n",
    "Email: **yngg0039@student.monash.edu**    <br/>\n",
    "Your tutorial time: **Monday 10:00am to 12:00pm**    <br/>\n",
    "***"
   ]
  },
  {
   "cell_type": "markdown",
   "metadata": {
    "id": "OXkDASf9Kotm"
   },
   "source": [
    "# <span style=\"color:#0b486b\">Deep Neural Networks</span>\n",
    "### Due: <span style=\"color:red\">11:59pm Sunday, 10 September 2023</span>  (Sunday)\n",
    "\n",
    "#### <span style=\"color:red\">Important note:</span> This is an **individual** assignment. It contributes **20%** to your final mark. Read the assignment instruction carefully."
   ]
  },
  {
   "cell_type": "markdown",
   "metadata": {
    "id": "vjYl9uH9Kotm"
   },
   "source": [
    "## <span style=\"color:#0b486b\">Instruction</span>\n",
    "\n",
    "This notebook has been prepared for you to complete Assignment 1. The theme of this assignment is about practical knowledge and skills in deep neural networks, including feedforward and convolutional neural networks. Some sections have been partially completed to help you get started. **The total marks for this notebook is 100**.\n",
    "\n",
    "* Before getting started, you should read the entire notebook carefully once to understand what you need to do. <br/>\n",
    "\n",
    "* For each cell marked with **#YOU ARE REQUIRED TO INSERT YOUR CODES IN THIS CELL**, there will be places where you **must** supply your own codes when instructed. <br>\n",
    "\n",
    "This assignment contains **three** parts:\n",
    "\n",
    "* **Part 1**: Questions on theory and knowledge on deep learning **[35 points], 35%**\n",
    "* **Part 2**: Coding assessment on TensorFlow for Deep Neural Networks (DNN) **[25 points], 25%**\n",
    "* **Part 3**: Coding assessment on TensorFlow for Convolution Neural Networks (CNN) **[40 points], 40%**\n",
    "\n",
    "**Hint**: This assignment was essentially designed based on the lectures and tutorials sessions covered from Week 1 to Week 5. You are strongly recommended to go through these contents thoroughly which might help you to complete this assignment."
   ]
  },
  {
   "cell_type": "markdown",
   "metadata": {
    "id": "ejnZYAlwKotm"
   },
   "source": [
    "## <span style=\"color:#0b486b\">What to submit</span>\n",
    "\n",
    "This assignment is to be completed individually and submitted to Moodle unit site. **By the due date, you are required to submit one  <span style=\"color:red; font-weight:bold\">single zip file, named xxx_assignment01_solution.zip</span> where `xxx` is your student ID, to the corresponding Assignment (Dropbox) in Moodle**."
   ]
  },
  {
   "cell_type": "markdown",
   "metadata": {
    "id": "XqrLa-wdKotm"
   },
   "source": [
    "***For example, if your student ID is <span style=\"color:red; font-weight:bold\">12356</span>, then gather all of your assignment solution to folder, create a zip file named <span style=\"color:red; font-weight:bold\">123456_assignment01_solution.zip</span> and submit this file.***"
   ]
  },
  {
   "cell_type": "markdown",
   "metadata": {
    "id": "4zmFDQNuKotm"
   },
   "source": [
    "Within this zip folder, you **must** submit the following files:\n",
    "1.\t**Assignment01_solution.ipynb**:  this is your Python notebook solution source file.\n",
    "1.\t**Assignment01_output.html**: this is the output of your Python notebook solution *exported* in html format.\n",
    "1.\tAny **extra files or folder** needed to complete your assignment (e.g., images used in your answers)."
   ]
  },
  {
   "cell_type": "markdown",
   "metadata": {
    "id": "OWCaucwIKotm"
   },
   "source": [
    "Since the notebook is quite big to load and work together, one recommended option is to split solution into three parts and work on them seperately. In that case, replace **Assignment01_solution.ipynb** by three notebooks: **Assignment01_Part1_solution.ipynb**, **Assignment01_Part2_solution.ipynb** and **Assignment01_Part3_solution.ipynb**"
   ]
  },
  {
   "cell_type": "markdown",
   "metadata": {
    "id": "RU12JR7wKotn"
   },
   "source": [
    "**You can run your codes on Google Colab. In this case, you have to make a copy of your Google colab notebook including the traces and progresses of model training before submitting.**\n",
    "\n",
    "You also need to store your trained models to folder <span style=\"color:red; font-weight:bold\">*./models*</span> with recognizable file names (e.g., Part3_Sec3_2_model.h5)."
   ]
  },
  {
   "cell_type": "markdown",
   "metadata": {
    "id": "rFhxcQ7CKotn"
   },
   "source": [
    "## <span style=\"color:#0b486b\">Part 1: Theory and Knowledge Questions</span>\n",
    "<div style=\"text-align: right\"><span style=\"color:red; font-weight:bold\">[Total marks for this part: 35 points]<span></div>"
   ]
  },
  {
   "cell_type": "markdown",
   "metadata": {
    "id": "Kb108MU2Kotn"
   },
   "source": [
    "The first part of this assignment is to demonstrate your knowledge in deep learning that you have acquired from the lectures and tutorials materials. Most of the contents in this assignment are drawn from **the lectures and tutorials from weeks 1 to 3**. Going through these materials before attempting this part is highly recommended."
   ]
  },
  {
   "cell_type": "markdown",
   "metadata": {
    "id": "Yqu9xPJNKotn"
   },
   "source": [
    "####  <span style=\"color:red\">**Question 1.1**</span> **Activation function plays an important role in modern Deep NNs. For each of the activation function below, state its output range, find its derivative (show your steps), and plot the activation fuction and its derivative**\n",
    "\n",
    "<span style=\"color:red\">**(a)**</span> Exponential linear unit (ELU): $\\text{ELU}(x)=\\begin{cases}\n",
    "0.1\\left(\\exp(x)-1\\right) & \\text{if}\\,x\\leq0\\\\\n",
    "x & \\text{if}\\,x>0\n",
    "\\end{cases}$\n",
    "<div style=\"text-align: right\"><span style=\"color:red\">[2 points]</span></div>\n",
    "\n",
    "<span style=\"color:red\">**(b)**</span> Gaussian Error Linear Unit (GELU): $\\text{GELU}(x)=x\\Phi(x)$ where $\\Phi(x)$ is the `probability cummulative function` of the standard Gaussian distribution or $\\Phi(x) = \\mathbb{P}\\left(X\\leq x\\right)$ where $X\\sim\\mathcal{N}\\left(0,1\\right)$. In addition, the GELU activation fuction (the link for the [main paper](https://arxiv.org/pdf/1606.08415v5.pdf)) has been currently widely used in the state-of-the-art Vision for Transformers (e.g., here is the link for [the main ViT paper](https://arxiv.org/pdf/2010.11929v2.pdf)).\n",
    "<div style=\"text-align: right\"><span style=\"color:red\">[2 points]</span></div>"
   ]
  },
  {
   "cell_type": "markdown",
   "metadata": {
    "id": "XGvUUvUSKotn"
   },
   "source": [
    "*Your ansewers here*\n",
    "\n",
    "\n",
    "(a)\n",
    "\n",
    "when x <= 0:\n",
    "\n",
    "    maximum output  = 0.1(exp(0)-1)\n",
    "                    = 0.1(0)\n",
    "                    = 0\n",
    "                    \n",
    "    minimum output  = 0.1(exp(-∞)-1)\n",
    "                    = 0.1(-1)\n",
    "                    = -0.1\n",
    "                    \n",
    "when x > 0:\n",
    "\n",
    "    maximum output  = ∞\n",
    "    \n",
    "    minimum output  > 0\n",
    "    \n",
    "This makes the **output range** of activation function inclusively in between -0.1 and ∞ :\n",
    "\n",
    "    -0.1 <= x <= ∞ where x is the output value\n",
    "    \n",
    "   \n",
    "Deriative of activation function, ELU(x)':\n",
    "    \n",
    "    when x <= 0:\n",
    "            \n",
    "            ELU(x)'        = 0.1exp(x) - 0.1\n",
    "                \n",
    "                           = 0.1exp(x) * 1\n",
    "                           \n",
    "                           = 0.1exp(x)\n",
    "                           \n",
    "    when x > 0:\n",
    "            \n",
    "            ELU(x)' = x\n",
    "            \n",
    "                    = 1\n",
    "    \n",
    "**Output range** of ELU(x)': 0 <= x <= 1 where x is the output value of the ELU(x)'"
   ]
  },
  {
   "cell_type": "code",
   "execution_count": 1,
   "metadata": {
    "colab": {
     "base_uri": "https://localhost:8080/",
     "height": 445
    },
    "id": "1i-7s96iKotn",
    "outputId": "27f48077-9a6c-48ea-d825-e738cfb44dcf"
   },
   "outputs": [
    {
     "data": {
      "image/png": "[encoded data removed]",
      "text/plain": [
       "<Figure size 1000x500 with 1 Axes>"
      ]
     },
     "metadata": {},
     "output_type": "display_data"
    }
   ],
   "source": [
    "# Import libraries\n",
    "import matplotlib.pyplot as plt\n",
    "import numpy as np\n",
    "import math\n",
    "\n",
    "# Creating vectors X and Y\n",
    "x = np.linspace(-5, 5, 100)\n",
    "y1 = []\n",
    "for i in x:\n",
    "    if i <= 0:\n",
    "        y1.append(0.1*(math.exp(i)-1))\n",
    "    else:\n",
    "        y1.append(i)\n",
    "\n",
    "fig = plt.figure(figsize = (10, 5))\n",
    "# Create the plot\n",
    "plt.plot(x, y1,label=\"ELU(x)\")\n",
    "leg = plt.legend(loc='upper center')\n",
    "\n",
    "\n",
    "# ELU(x)'\n",
    "y2 = []\n",
    "for j in x:\n",
    "    if j <= 0:\n",
    "        y2.append(0.1*(math.exp(j)))\n",
    "    else:\n",
    "        y2.append(1)\n",
    "\n",
    "# Create the plot\n",
    "plt.plot(x, y2,label=\"ELU(x)'\")\n",
    "leg = plt.legend(loc='upper center')\n",
    "\n",
    "\n",
    "# Show the plot\n",
    "plt.show()"
   ]
  },
  {
   "cell_type": "markdown",
   "metadata": {
    "id": "9x1hIE72Koto"
   },
   "source": [
    "(b)\n",
    "GELU = 0.5(x)(1+tanh(sqrt(2/pi))* (x+0.044715* x^3)))\n",
    "\n",
    "when x = -∞, tanh(x) = -1\n",
    "\n",
    "0.5(-∞) * (0) = 0\n",
    "\n",
    "when x = ∞, tanh(x) = 1\n",
    "\n",
    "0.5(∞) * (1) = ∞\n",
    "\n",
    "**output range** of GELU = 0 <= x <= ∞\n",
    "\n",
    "\n",
    "GELU' = 0.5(x)(1+tanh(((sqrt(2))(((8943x^3)/200000)+x)/sqrt(pi))))\n",
    "\n",
    "since tanh is still here, output of deriative will be the same\n",
    "\n",
    "**output range** of GELU = 0 <= x <= ∞"
   ]
  },
  {
   "cell_type": "code",
   "execution_count": 2,
   "metadata": {
    "colab": {
     "base_uri": "https://localhost:8080/",
     "height": 445
    },
    "id": "OM9O_dnCKoto",
    "outputId": "bf258cfe-70ce-4541-9d4e-f10e16c4edca"
   },
   "outputs": [
    {
     "data": {
      "image/png": "[encoded data removed]",
      "text/plain": [
       "<Figure size 1000x500 with 1 Axes>"
      ]
     },
     "metadata": {},
     "output_type": "display_data"
    }
   ],
   "source": [
    "# Creating vectors X and Y\n",
    "X = np.linspace(-5, 5, 100)\n",
    "y1 = []\n",
    "for x in X:\n",
    "    y1.append(0.5*x*(1+(math.tanh(math.sqrt(2/(math.pi))*(x+(0.044715*(x**3)))))))\n",
    "\n",
    "\n",
    "fig = plt.figure(figsize = (10, 5))\n",
    "# Create the plot\n",
    "plt.plot(X, y1,label=\"GELU(x)\")\n",
    "leg = plt.legend(loc='upper center')\n",
    "\n",
    "\n",
    "# GELU(x)'\n",
    "y2 = []\n",
    "for x2 in X:\n",
    "    y2.append(0.5*x2*(1+(math.tanh((((math.sqrt(2)*(((8943*(x2**3)/200000)+x2)))/(math.sqrt(math.pi))))))))\n",
    "\n",
    "# Create the plot\n",
    "plt.plot(X, y2,label=\"GELU(x)'\")\n",
    "leg = plt.legend(loc='upper center')\n",
    "\n",
    "\n",
    "# Show the plot\n",
    "plt.show()"
   ]
  },
  {
   "cell_type": "markdown",
   "metadata": {
    "id": "UdaUU3-zKotp"
   },
   "source": [
    "<span style=\"color:#0b486b\"> **Numpy is possibly being used in the following questions. You need to import numpy here.** </span>"
   ]
  },
  {
   "cell_type": "code",
   "execution_count": 3,
   "metadata": {
    "id": "ywboxrlbKotp"
   },
   "outputs": [],
   "source": [
    "import numpy as np"
   ]
  },
  {
   "cell_type": "markdown",
   "metadata": {
    "id": "aM7TlDK1Kotp"
   },
   "source": [
    "####  <span style=\"color:red\">**Question 1.2**</span> **Assume that we feed a data point $x$ with a ground-truth label $y=3$ to the feed-forward neural network with the `ReLU activation` function as shown in the following figure**\n",
    "<img src=\"Figures/Q2_P1.png\" width=\"500\" align=\"center\"/>\n",
    "\n",
    "\n",
    "<span style=\"color:red\">**(a)**</span>  What is the numerical value of the latent presentation $h^1(x)$?\n",
    "<div style=\"text-align: right\"><span style=\"color:red\">[1 point]</span></div>\n",
    "\n",
    "<span style=\"color:red\">**(b)**</span>  What is the numerical value of the latent presentation $h^2(x)$?\n",
    "<div style=\"text-align: right\"><span style=\"color:red\">[1 point]</span></div>\n",
    "\n",
    "<span style=\"color:red\">**(c)**</span>  What is the numerical value of the logit $h^3(x)$?\n",
    "<div style=\"text-align: right\"><span style=\"color:red\">[1 point]</span></div>\n",
    "\n",
    "\n",
    "<span style=\"color:red\">**(d)**</span>  What is the corresonding prediction probabilities $p(x)$?\n",
    "<div style=\"text-align: right\"><span style=\"color:red\">[1 point]</span></div>\n",
    "\n",
    "<span style=\"color:red\">**(e)**</span>  What is the predicted label $\\hat{y}$? Is it a correct and an incorect prediction? Remind that $y=3$.\n",
    "<div style=\"text-align: right\"><span style=\"color:red\">[3 point]</span></div>\n",
    "\n",
    "\n",
    "<span style=\"color:red\">**(f)**</span>  What is the cross-entropy loss caused by the feed-forward neural network at $(x,y)$? Remind that $y=3$.\n",
    "<div style=\"text-align: right\"><span style=\"color:red\">[1 point]</span></div>\n",
    "\n",
    "<span style=\"color:red\">**(g)**</span>  Why the cross-entropy loss caused by the feed-forward neural network at $(x,y)$ (i.e., $\\text{CE}(1_y, p(x))$) is always non-negative? When does this $\\text{CE}(1_y, p(x))$ loss get the value $0$? Note that you need to answer this question for a general pair $(x,y)$ and a general feed-forward neural network with for example $M=4$ classes?   \n",
    "<div style=\"text-align: right\"><span style=\"color:red\">[3 point]</span></div>\n",
    "\n",
    "\n",
    "**You need to show both formulas and numerical results for earning full mark. Although it is optional, it is great if you show your numpy code for your computation.**"
   ]
  },
  {
   "cell_type": "markdown",
   "metadata": {
    "id": "69XxjYYYKotp"
   },
   "source": [
    "(a) RELU((W1 * X) + b1) where W1 is weight 1, * is dot product or matrix multiplication while b1 is bias 1.\n",
    "\n",
    "\n",
    "RELU((W1 * X) + b1) = RELU ([-1, -3.5, -6, -2])\n",
    "\n",
    "                    = [0, 0, 0, 0]"
   ]
  },
  {
   "cell_type": "code",
   "execution_count": 4,
   "metadata": {
    "colab": {
     "base_uri": "https://localhost:8080/"
    },
    "id": "VXgGY8lSKotp",
    "outputId": "63252dd9-64b0-4fc1-ca9b-7fa7a48c1512"
   },
   "outputs": [
    {
     "name": "stdout",
     "output_type": "stream",
     "text": [
      "logit h1:  [-1.  -3.5 -6.  -2. ]\n",
      "h1:  [0. 0. 0. 0.]\n"
     ]
    }
   ],
   "source": [
    "# activation function\n",
    "def RELU(x):\n",
    "    return max(0, x)\n",
    "\n",
    "# parameter for first layer of model\n",
    "x = np.array([1,-1,-2])\n",
    "\n",
    "W1 = np.array([[1,-1,2],[-1,0.5,1],[-2,1,2],[0,0,1]])\n",
    "b1 = np.array([1,0,1,0])\n",
    "\n",
    "# first layer\n",
    "# Wx+b\n",
    "logit_h1 = (W1.dot(x)) + b1\n",
    "print(\"logit h1: \",logit_h1)\n",
    "\n",
    "h1 = np.zeros((4))\n",
    "for i in range(len(logit_h1)):\n",
    "    h1[i] = RELU(logit_h1[i])\n",
    "\n",
    "print(\"h1: \",h1)"
   ]
  },
  {
   "cell_type": "markdown",
   "metadata": {
    "id": "pnPRZxVrKotp"
   },
   "source": [
    "(b) RELU((W2 * h1) + b2) = RELU ([0, 0.5, 1])\n",
    "\n",
    "                    = [0, 0.5, 1]"
   ]
  },
  {
   "cell_type": "code",
   "execution_count": 5,
   "metadata": {
    "colab": {
     "base_uri": "https://localhost:8080/"
    },
    "id": "FPjmetL2Kotp",
    "outputId": "cb7bc935-e25c-49be-aa97-a3f3f59758c7"
   },
   "outputs": [
    {
     "name": "stdout",
     "output_type": "stream",
     "text": [
      "logit h2:  [0.  0.5 1. ]\n",
      "h2:  [0.  0.5 1. ]\n"
     ]
    }
   ],
   "source": [
    "# parameter for second layer of model\n",
    "\n",
    "W2 = np.array([[-1,1,0,1],[1,1,0,-2],[0.5,-1,2,0]])\n",
    "b2 = np.array([0,0.5,1])\n",
    "\n",
    "# second layer\n",
    "# Wx+b\n",
    "logit_h2 = (W2.dot(h1)) + b2\n",
    "print(\"logit h2: \",logit_h2)\n",
    "\n",
    "h2 = np.zeros((3))\n",
    "for i in range(len(logit_h2)):\n",
    "    h2[i] = RELU(logit_h2[i])\n",
    "\n",
    "print(\"h2: \",h2)"
   ]
  },
  {
   "cell_type": "markdown",
   "metadata": {
    "id": "nfCUPQq_Kotp"
   },
   "source": [
    "(c) (W3 * h2) + b3 = [-2, 2, -0.5, 3.5]"
   ]
  },
  {
   "cell_type": "code",
   "execution_count": 6,
   "metadata": {
    "colab": {
     "base_uri": "https://localhost:8080/"
    },
    "id": "CYopw3i2Kotp",
    "outputId": "4e339703-926d-4c7e-baca-1501c452a994"
   },
   "outputs": [
    {
     "name": "stdout",
     "output_type": "stream",
     "text": [
      "h3:  [-2.   2.  -0.5  3.5]\n"
     ]
    }
   ],
   "source": [
    "# parameter for third layer of model\n",
    "W3 = np.array([[1,-2,0],[0,2,0],[1,-1,1],[0.5,1,2]])\n",
    "b3 = np.array([-1,1,-1,1])\n",
    "\n",
    "# third layer\n",
    "# Wx+b\n",
    "h3 = (W3.dot(h2)) + b3\n",
    "print(\"h3: \",h3)"
   ]
  },
  {
   "cell_type": "markdown",
   "metadata": {
    "id": "QbGxL0yPKotp"
   },
   "source": [
    "(d) softmax(h3) = [0.00328114, 0.17914438, 0.01470507, 0.80286941]"
   ]
  },
  {
   "cell_type": "code",
   "execution_count": 7,
   "metadata": {
    "colab": {
     "base_uri": "https://localhost:8080/"
    },
    "id": "oyI9V0BBKotp",
    "outputId": "71cbab40-7edc-4b27-f778-16a7cab40629"
   },
   "outputs": [
    {
     "name": "stdout",
     "output_type": "stream",
     "text": [
      "predict_y:  [0.00328114 0.17914438 0.01470507 0.80286941]\n"
     ]
    }
   ],
   "source": [
    "# softmax function\n",
    "def softmax(values):\n",
    "    softmax_list = np.zeros(len(values))\n",
    "    sum_values = 0\n",
    "    for x in values:\n",
    "        sum_values += (math.exp(x))\n",
    "\n",
    "    for y in range(len(values)):\n",
    "        softmax_list[y] = math.exp(values[y])/sum_values\n",
    "    return softmax_list\n",
    "\n",
    "\n",
    "predict_y = softmax(h3)\n",
    "\n",
    "print(\"predict_y: \",predict_y)"
   ]
  },
  {
   "cell_type": "markdown",
   "metadata": {
    "id": "VBKlaevjKotq"
   },
   "source": [
    "(e) The predicted 𝑦̂ value takes the highest probability from softmax(h3). In this case it will be label = 4 which is wrong comparing to the truth value of label = 3.\n"
   ]
  },
  {
   "cell_type": "markdown",
   "metadata": {
    "id": "t6MgG0kwKotq"
   },
   "source": [
    "(f) To calculate the CE loss, convert the truth value into one hot vector which indicating to the label 3 is 1, [0,0,1,0]. Calculate the CE loss between [0,0,1,0] with [0.00328114, 0.17914438, 0.01470507, 0.80286941].\n",
    "\n",
    "CE_loss = 4.219563205900562"
   ]
  },
  {
   "cell_type": "code",
   "execution_count": 8,
   "metadata": {
    "colab": {
     "base_uri": "https://localhost:8080/"
    },
    "id": "cOdgGiLYKotq",
    "outputId": "95fd7422-fd99-433d-f62b-93fe1d001ec4"
   },
   "outputs": [
    {
     "name": "stdout",
     "output_type": "stream",
     "text": [
      "CE loss:  4.219563205900562\n"
     ]
    }
   ],
   "source": [
    "def CE_loss(one_hot, prediction):\n",
    "    CE_loss = 0\n",
    "    for x in range(len(one_hot)):\n",
    "        CE_loss += (-1 * (one_hot[x]*np.log(prediction[x])))\n",
    "    return CE_loss\n",
    "\n",
    "print(\"CE loss: \",CE_loss([0,0,1,0], predict_y))"
   ]
  },
  {
   "cell_type": "markdown",
   "metadata": {
    "id": "8Rott8c9Kotq"
   },
   "source": [
    "(g) Assume that we have general pair of (x,𝑦) input where x is the test data while y is the corresponding label. .We also have a general feed-forward neural network with 𝑀=4 which means x will have 4 classes or labels with corresponding probabilities of [p1,p2,p3,p4]. In this case, y will have one hot vector of [y1,y2,y3,y4] where yi = 1 = truth label and the rest will be 0.\n",
    "\n",
    "The reason why CE_loss will alawys be non negative is because from the formula itself, we have -(1/n)n∑i=1 (ln pi)(yi). The output range for ln(x) where 0<x<1 will always be negative. Therefore, -(1/n)(ln(x)) will gurantee that the CE loss is non negative.\n",
    "\n",
    "When CE loss = 0, this indicates to the prefect prediction of x and y. For instance, in one hot vector of y, yi = 1 while the prediction for x after going through the network, all probability for other classes are 0 exept pi is 1. This makes the CE loss claculation solely depends on -(1)(ln(1)) = 0.\n",
    "\n",
    "∴ CE_loss = 0 only occurs when the perfect prediction happens."
   ]
  },
  {
   "cell_type": "markdown",
   "metadata": {
    "id": "KH927ytvKotq"
   },
   "source": [
    "For **Question 1.3**, you have two options: **(i)** *do forward, backward propagation, and SGD update for `one data example`* (**15 points**) and **(ii)** *do forward, backward propagation, and SGD update for `a batch of data examples`* (**20 points**). You can choose either **(i)** or **(ii)** to proceed.   "
   ]
  },
  {
   "cell_type": "markdown",
   "metadata": {
    "id": "KnmsHt3pKotq"
   },
   "source": [
    "### <span style=\"color:red\">**Option 1**</span>\n",
    "<div style=\"text-align: right\"><span style=\"color:red; font-weight:bold\">[Total marks for this option: 15 points]<span></div>"
   ]
  },
  {
   "cell_type": "markdown",
   "metadata": {
    "id": "XdNhDGuFKotq"
   },
   "source": [
    "####  <span style=\"color:red\">**Question 1.3**</span> **Assume that we are constructing a multilayered feed-forward neural network for a classification problem with three classes where the model parameters will be generated randomly using your student ID. The architecture of this network is ($3 (Input)\\rightarrow 5(ELU) \\rightarrow 3(Output)$) as shown in the following figure. Note that the ELU has the same formula as the one in Q1.1.**\n",
    "\n",
    "<img src=\"./Figures/Q3_P1_1.png\" width=\"500\" align=\"center\"/>\n",
    "\n",
    "We feed a data example $x$ with the label $y$ as shown in the figure. Answer the following questions."
   ]
  },
  {
   "cell_type": "markdown",
   "metadata": {
    "id": "5FZ6-GA0Kotq"
   },
   "source": [
    "**You need to show both formulas, numerical results, and your numpy code for your computation for earning full marks.**"
   ]
  },
  {
   "cell_type": "code",
   "execution_count": 9,
   "metadata": {
    "id": "n9m3yWAiKotq"
   },
   "outputs": [],
   "source": [
    "#Code to generate random matrices and biases for W1, b1, W2, b2\n",
    "import numpy as np\n",
    "student_id = 31158145           #insert your student id here for example 1234\n",
    "np.random.seed(student_id)\n",
    "W1 = np.random.rand(5,3)\n",
    "b1 = np.random.rand(5,1)\n",
    "W2 = np.random.rand(3,5)\n",
    "b2 = np.random.rand(3,1)"
   ]
  },
  {
   "cell_type": "markdown",
   "metadata": {
    "id": "_5sbm5EQKotq"
   },
   "source": [
    "**Forward propagation**\n",
    "\n",
    "<span style=\"color:red\">**(a)**</span>  What is the value of $\\bar{h}^{1}(x)$?\n",
    "<div style=\"text-align: right\"><span style=\"color:red\">[1 point]</span></div>\n"
   ]
  },
  {
   "cell_type": "markdown",
   "metadata": {
    "id": "c60wLSliKotq"
   },
   "source": [
    "*Show your fomular*\n",
    "\n"
   ]
  },
  {
   "cell_type": "code",
   "execution_count": 10,
   "metadata": {
    "id": "BsdHA_bpKotr"
   },
   "outputs": [],
   "source": [
    "# Show your code\n",
    "\n"
   ]
  },
  {
   "cell_type": "markdown",
   "metadata": {
    "id": "cZv9WRUnKotr"
   },
   "source": [
    "<span style=\"color:red\">**(b)**</span>  What is the value of $h^{1}(x)$?\n",
    "<div style=\"text-align: right\"><span style=\"color:red\">[1 point]</span></div>"
   ]
  },
  {
   "cell_type": "markdown",
   "metadata": {
    "id": "KvmPAjT-Kotr",
    "tags": []
   },
   "source": [
    "*Show your fomular*\n",
    "\n"
   ]
  },
  {
   "cell_type": "code",
   "execution_count": 11,
   "metadata": {
    "id": "2AEzd_ErKotr"
   },
   "outputs": [],
   "source": [
    "#Show your code\n",
    "\n"
   ]
  },
  {
   "cell_type": "markdown",
   "metadata": {
    "id": "w2-NE6FpKotr"
   },
   "source": [
    "<span style=\"color:red\">**(c)**</span>  What is the predicted value $\\hat{y}$?\n",
    "<div style=\"text-align: right\"><span style=\"color:red\">[1 point]</span></div>"
   ]
  },
  {
   "cell_type": "markdown",
   "metadata": {
    "id": "hh5RuGofKotr"
   },
   "source": [
    "*Show your fomular*\n",
    "\n"
   ]
  },
  {
   "cell_type": "code",
   "execution_count": 12,
   "metadata": {
    "id": "M2bjLQWXKotr"
   },
   "outputs": [],
   "source": [
    "#Show your code\n",
    "\n"
   ]
  },
  {
   "cell_type": "markdown",
   "metadata": {
    "id": "JnCzs9TuKotr"
   },
   "source": [
    "<span style=\"color:red\">**(d)**</span>  Suppose that we use the cross-entropy (CE) loss. What is the value of the CE loss $l$?\n",
    "<div style=\"text-align: right\"><span style=\"color:red\">[1 point]</span></div>"
   ]
  },
  {
   "cell_type": "markdown",
   "metadata": {
    "id": "JH2XxKQyKotr"
   },
   "source": [
    "*Show your fomular*\n",
    "\n"
   ]
  },
  {
   "cell_type": "code",
   "execution_count": 13,
   "metadata": {
    "id": "eCUps-ykKotr"
   },
   "outputs": [],
   "source": [
    "#Show your code\n",
    "\n"
   ]
  },
  {
   "cell_type": "markdown",
   "metadata": {
    "id": "5xoVdxSGKots"
   },
   "source": [
    "**Backward propagation**\n",
    "\n",
    "<span style=\"color:red\">**(e)**</span> What are the derivatives $\\frac{\\partial l}{\\partial h^{2}},\\frac{\\partial l}{\\partial W^{2}}$, and $\\frac{\\partial l}{\\partial b^{2}}$?\n",
    "<div style=\"text-align: right\"><span style=\"color:red\">[4 points]</span></div>"
   ]
  },
  {
   "cell_type": "markdown",
   "metadata": {
    "id": "EpatDIw1Kots"
   },
   "source": [
    "*Show your fomular*\n",
    "\n"
   ]
  },
  {
   "cell_type": "code",
   "execution_count": 14,
   "metadata": {
    "id": "8Aoiq-c5Kots"
   },
   "outputs": [],
   "source": [
    "#Show your code\n",
    "\n"
   ]
  },
  {
   "cell_type": "markdown",
   "metadata": {
    "id": "z3HlHaOnKots"
   },
   "source": [
    "<span style=\"color:red\">**(f)**</span> What are the derivatives $\\frac{\\partial l}{\\partial h^{1}}, \\frac{\\partial l}{\\partial \\bar{h}^{1}},\\frac{\\partial l}{\\partial W^{1}}$, and $\\frac{\\partial l}{\\partial b^{1}}$?\n",
    "<div style=\"text-align: right\"><span style=\"color:red\">[4 points]</span></div>"
   ]
  },
  {
   "cell_type": "markdown",
   "metadata": {
    "id": "fms1ZnJOKots"
   },
   "source": [
    "*Show your fomular*\n",
    "\n"
   ]
  },
  {
   "cell_type": "code",
   "execution_count": 15,
   "metadata": {
    "id": "tONUf24sKots"
   },
   "outputs": [],
   "source": [
    "#Show your code\n",
    "\n"
   ]
  },
  {
   "cell_type": "markdown",
   "metadata": {
    "id": "YAw1WorMKots"
   },
   "source": [
    "**SGD update**\n",
    "\n",
    "<span style=\"color:red\">**(g)**</span> Assume that we use SGD with learning rate $\\eta=0.01$ to update the model parameters. What are the values of $W^2, b^2$ and $W^1, b^1$ after updating?\n",
    "<div style=\"text-align: right\"><span style=\"color:red\">[3 points]</span></div>"
   ]
  },
  {
   "cell_type": "markdown",
   "metadata": {
    "id": "v6kQxCXHKots"
   },
   "source": [
    "*Show your fomular*\n",
    "\n"
   ]
  },
  {
   "cell_type": "code",
   "execution_count": 16,
   "metadata": {
    "id": "MyknfHQ6Kots"
   },
   "outputs": [],
   "source": [
    "#Show your code\n",
    "\n"
   ]
  },
  {
   "cell_type": "markdown",
   "metadata": {
    "id": "C0TR7XGOKots"
   },
   "source": [
    "### <span style=\"color:red\">**Option 2**</span>\n",
    "<div style=\"text-align: right\"><span style=\"color:red; font-weight:bold\">[Total marks for this option: 20 points]<span></div>"
   ]
  },
  {
   "cell_type": "markdown",
   "metadata": {
    "id": "kXZG_V2oKots"
   },
   "source": [
    "####  <span style=\"color:red\">**Question 1.3**</span> **Assume that we are constructing a multilayered feed-forward neural network for a classification problem with three classes where the model parameters will be generated randomly using your student ID. The architecture of this network is ($3 (Input)\\rightarrow 5(ELU) \\rightarrow 3(Output)$) as shown in the following figure. Note that the ELU has the same formula as the one in Q1.1.**\n",
    "\n",
    "<img src=\"./Figures/Q3_P1_2.png\" width=\"500\" align=\"center\"/>\n",
    "\n",
    "We feed a batch $X$ with the labels $Y$ as shown in the figure. Note that $x^{T}$ represents the transpose vector of the vector $x$. Answer the following questions."
   ]
  },
  {
   "cell_type": "markdown",
   "metadata": {
    "id": "sf4PicfwKott"
   },
   "source": [
    "**You need to show both formulas, numerical results, and your numpy code for your computation for earning full marks.**"
   ]
  },
  {
   "cell_type": "code",
   "execution_count": 17,
   "metadata": {
    "id": "kGz20ByPKott"
   },
   "outputs": [],
   "source": [
    "#Code to generate random matrices and biases for W1, b1, W2, b2\n",
    "import numpy as np\n",
    "student_id = 31158145           #insert your student id here for example 1234\n",
    "np.random.seed(student_id)\n",
    "W1 = np.random.rand(5,3)\n",
    "b1 = np.random.rand(5,1)\n",
    "W2 = np.random.rand(3,5)\n",
    "b2 = np.random.rand(3,1)"
   ]
  },
  {
   "cell_type": "markdown",
   "metadata": {
    "id": "61SV92eZKott"
   },
   "source": [
    "**Forward propagation**\n",
    "\n",
    "<span style=\"color:red\">**(a)**</span>  What is the value of $\\bar{h}^{1}(x)$?\n",
    "<div style=\"text-align: right\"><span style=\"color:red\">[1 point]</span></div>\n"
   ]
  },
  {
   "cell_type": "markdown",
   "metadata": {
    "id": "2Kl5e0IEKott"
   },
   "source": [
    "*Show your formula*\n",
    "\n",
    "ℎ¯1(𝑥) = (Xt * W1) + b1 where W1 is weight 1, * is dot product or matrix multiplication while b1 is bias 1 and Xt is the transpose of X."
   ]
  },
  {
   "cell_type": "code",
   "execution_count": 18,
   "metadata": {
    "colab": {
     "base_uri": "https://localhost:8080/"
    },
    "id": "S_JOe_K-Kott",
    "outputId": "4cf8838c-d4cb-45c0-d2d3-c8d6e0485b7c"
   },
   "outputs": [
    {
     "name": "stdout",
     "output_type": "stream",
     "text": [
      "h0\n",
      "[[ 1.  -1.  -1.5 -1.   0. ]\n",
      " [-1.   2.   1.   2.   2.5]\n",
      " [ 1.  -1.   0.  -1.   1.5]]\n",
      "\n",
      "Weight 1\n",
      "[[0.85091403 0.65172009 0.23294102]\n",
      " [0.20296634 0.32273309 0.52311136]\n",
      " [0.24261495 0.31197307 0.82205892]\n",
      " [0.92801443 0.0773592  0.73518028]\n",
      " [0.83881553 0.29063122 0.31818091]]\n",
      "\n",
      "logit_h1\n",
      "[[ 0.46933517  0.25678534 -0.58745074  0.25678534  2.01591197]\n",
      " [ 0.90256616  0.41861006  0.51750515  0.41861006  2.09072133]\n",
      " [ 0.86092217 -0.33250637  0.05627201 -0.33250637  2.12124242]\n",
      " [ 2.19896213 -0.8953497  -0.70153583 -0.8953497   1.90929503]\n",
      " [ 1.71236922  0.27026998 -0.12158809  0.27026998  2.04985341]]\n"
     ]
    }
   ],
   "source": [
    "#Show your code\n",
    "h0 = np.array([[1,-1,1], [-1,2,-1], [-1.5,1,0], [-1,2,-1], [0,2.5,1.5]]).transpose()\n",
    "\n",
    "print(\"h0\")\n",
    "print(h0)\n",
    "print()\n",
    "print(\"Weight 1\")\n",
    "print(W1)\n",
    "print()\n",
    "# Wx+b\n",
    "logit_h1 = W1.dot(h0) + b1\n",
    "# logit_h1 = (W1.dot(x)) + b1\n",
    "print(\"logit_h1\")\n",
    "print(logit_h1)\n"
   ]
  },
  {
   "cell_type": "markdown",
   "metadata": {
    "id": "s3XoRip1Kott"
   },
   "source": [
    "<span style=\"color:red\">**(b)**</span>  What is the value of $h^{1}(x)$?\n",
    "<div style=\"text-align: right\"><span style=\"color:red\">[1 point]</span></div>"
   ]
  },
  {
   "cell_type": "markdown",
   "metadata": {
    "id": "cSVdd7ypKott"
   },
   "source": [
    "*Show your formula*\n",
    "\n",
    "ℎ1(𝑥) = ELU(ℎ¯1)"
   ]
  },
  {
   "cell_type": "code",
   "execution_count": 19,
   "metadata": {
    "colab": {
     "base_uri": "https://localhost:8080/"
    },
    "id": "obg7mkq9Kott",
    "outputId": "365597eb-b58d-4a00-de53-725d70180a37"
   },
   "outputs": [
    {
     "name": "stdout",
     "output_type": "stream",
     "text": [
      "h1\n",
      "[[ 0.46933517  0.25678534 -0.04442578  0.25678534  2.01591197]\n",
      " [ 0.90256616  0.41861006  0.51750515  0.41861006  2.09072133]\n",
      " [ 0.86092217 -0.02828759  0.05627201 -0.02828759  2.12124242]\n",
      " [ 2.19896213 -0.05915353 -0.05041768 -0.05915353  1.90929503]\n",
      " [ 1.71236922  0.27026998 -0.0114487   0.27026998  2.04985341]]\n"
     ]
    }
   ],
   "source": [
    "#Show your code\n",
    "\n",
    "def ELU(x):\n",
    "    if x <= 0:\n",
    "        return (0.1*(math.exp(x)-1))\n",
    "    else:\n",
    "        return (x)\n",
    "\n",
    "h1 = np.zeros((5,5))\n",
    "\n",
    "for i in range(len(logit_h1)):\n",
    "    for j in range(len(logit_h1[0])):\n",
    "        h1[i][j] = ELU(logit_h1[i][j])\n",
    "\n",
    "print(\"h1\")\n",
    "print(h1)"
   ]
  },
  {
   "cell_type": "markdown",
   "metadata": {
    "id": "CN_mbdjLKott"
   },
   "source": [
    "<span style=\"color:red\">**(c)**</span>  What is the predicted value $\\hat{y}$?\n",
    "<div style=\"text-align: right\"><span style=\"color:red\">[1 point]</span></div>"
   ]
  },
  {
   "cell_type": "markdown",
   "metadata": {
    "id": "iEQbfeEjKotu"
   },
   "source": [
    "*Show your formula*\n",
    "\n",
    "ℎ¯2(𝑥) = (W2 * h2) + b2\n",
    "\n",
    "𝑦 = softmax(ℎ¯2(𝑥))\n",
    "\n",
    "predicted value = class having max probability"
   ]
  },
  {
   "cell_type": "code",
   "execution_count": 20,
   "metadata": {
    "colab": {
     "base_uri": "https://localhost:8080/"
    },
    "id": "PWHbUkPxKotu",
    "outputId": "1a89767f-67c3-4e92-8fe5-70fa4cb613e3"
   },
   "outputs": [
    {
     "name": "stdout",
     "output_type": "stream",
     "text": [
      "predict_y\n",
      "[[0.13730047 0.63787282 0.22482671]\n",
      " [0.31631265 0.39867892 0.28500843]\n",
      " [0.30280734 0.39728969 0.29990298]\n",
      " [0.31631265 0.39867892 0.28500843]\n",
      " [0.0822311  0.7359718  0.1817971 ]]\n",
      "\n",
      "predict value: (class) for each x input\n",
      "[2, 2, 2, 2, 2]\n"
     ]
    }
   ],
   "source": [
    "#Show your code\n",
    "h2 = (W2.dot(h1)) + b2\n",
    "h2 = h2.transpose()\n",
    "predict_y = np.zeros((5,3))\n",
    "for i in range(len(h2)):\n",
    "    predict_y[i] = softmax(h2[i])\n",
    "\n",
    "print(\"predict_y\")\n",
    "print(predict_y)\n",
    "print()\n",
    "\n",
    "predicted_value = []\n",
    "for x in range(len(predict_y)):\n",
    "    predicted_value.append(np.argmax(predict_y[x])+1)\n",
    "\n",
    "print(\"predict value: (class) for each x input\")\n",
    "print(predicted_value)"
   ]
  },
  {
   "cell_type": "markdown",
   "metadata": {
    "id": "VWSBvrHhKotu"
   },
   "source": [
    "<span style=\"color:red\">**(d)**</span>  Suppose that we use the cross-entropy (CE) loss. What is the value of the CE loss $l$?\n",
    "<div style=\"text-align: right\"><span style=\"color:red\">[1 point]</span></div>"
   ]
  },
  {
   "cell_type": "markdown",
   "metadata": {
    "id": "lw56kCMxKotu"
   },
   "source": [
    "*Show your formula*\n",
    "(1/n)(n∑i=1)𝐶𝐸_loss(1𝑦, 𝑝(𝑥)) = (1/n)(n∑i=1)(−𝑙𝑜𝑔(𝑝𝑦(𝑥)))"
   ]
  },
  {
   "cell_type": "code",
   "execution_count": 21,
   "metadata": {
    "colab": {
     "base_uri": "https://localhost:8080/"
    },
    "id": "x7Bf6VhVKotu",
    "outputId": "ae003894-fd8c-4aba-8719-6c701a84dffb"
   },
   "outputs": [
    {
     "name": "stdout",
     "output_type": "stream",
     "text": [
      "CE loss:  0.8525048795716941\n"
     ]
    }
   ],
   "source": [
    "#Show your code\n",
    "\n",
    "truth_labels = np.array([[0,1,0], [1,0,0], [0,0,1], [1,0,0], [0,1,0]])\n",
    "\n",
    "total_loss = 0\n",
    "for x in range(5):\n",
    "    total_loss += (CE_loss(truth_labels[x], predict_y[x]))\n",
    "\n",
    "print(\"CE loss: \", (total_loss/5))"
   ]
  },
  {
   "cell_type": "markdown",
   "metadata": {
    "id": "LjMAt4ECKotu"
   },
   "source": [
    "**Backward propagation**\n",
    "\n",
    "<span style=\"color:red\">**(e)**</span> What are the derivatives $\\frac{\\partial l}{\\partial h^{2}},\\frac{\\partial l}{\\partial W^{2}}$, and $\\frac{\\partial l}{\\partial b^{2}}$?\n",
    "<div style=\"text-align: right\"><span style=\"color:red\">[6 points]</span></div>"
   ]
  },
  {
   "cell_type": "markdown",
   "metadata": {
    "id": "Y47SuSnDKotu"
   },
   "source": [
    "*Show your formula*\n",
    "\n",
    "h1' = X(W1) + b1 -> h1 = ELU(h1') -> h2 = h1(W2) + b2 -> p = softmax(h2) -> 𝑙=−𝑚𝑒𝑎𝑛(𝑦∗𝑙𝑜𝑔(𝑝)+(1−𝑦)∗𝑙𝑜𝑔(1−𝑝))\n",
    "\n",
    "    g2     = ∂𝑙/∂ℎ2  \n",
    "           = -1(m=y) + (exp(h2n)/ (n∑i=1)exp(h2i))\n",
    "           = -1y + softmax(h3)\n",
    "           = pT - 1y where pT = output of softmax while 1y will be one hot vector\n",
    "       \n",
    "    ∂𝑙/∂W2  = (∂𝑙/∂h2) (∂h2/∂W2)\n",
    "           = (g2)T (h2)T\n",
    "\n",
    "    ∂𝑙/∂b2  = (∂𝑙/∂h2) (∂h2/∂b2)\n",
    "           = (g2)T (1)\n",
    "           = (g2)T\n",
    "           \n",
    "Since the we fit a mini batch and the output of ∂𝑙/∂b2 P will be 5x5. To update and form a 5x1 bias, mean of each row from P will be calculated for bias update.\n",
    "    \n",
    "    ∂𝑙/∂b2 = ((∂𝑙/∂b2)i / 5)) where i is the row\n"
   ]
  },
  {
   "cell_type": "code",
   "execution_count": 22,
   "metadata": {
    "id": "karY1vhFKotu"
   },
   "outputs": [
    {
     "name": "stdout",
     "output_type": "stream",
     "text": [
      "∂𝑙/∂ℎ2\n",
      "[[ 0.13730047 -0.36212718  0.22482671]\n",
      " [-0.68368735  0.39867892  0.28500843]\n",
      " [ 0.30280734  0.39728969 -0.70009702]\n",
      " [-0.68368735  0.39867892  0.28500843]\n",
      " [ 0.0822311  -0.2640282   0.1817971 ]]\n",
      "\n",
      "∂𝑙/∂W2\n",
      "[[-0.13436364 -0.11984738  0.34835642  0.52454015  0.03064371]\n",
      " [-0.51511672 -0.33947165 -0.87203017 -1.36760863 -0.95036109]\n",
      " [ 0.64948036  0.45931904  0.52367375  0.84306848  0.91971739]]\n",
      "\n",
      "∂𝑙/∂b2\n",
      "[[-0.16900716]\n",
      " [ 0.11369843]\n",
      " [ 0.05530873]]\n",
      "\n"
     ]
    }
   ],
   "source": [
    "#Show your code\n",
    "# g2 / ∂𝑙/∂ℎ2\n",
    "g2 = (predict_y - truth_labels)\n",
    "print(\"∂𝑙/∂ℎ2\")\n",
    "print(g2)\n",
    "print()\n",
    "\n",
    "# ∂𝑙/∂W2\n",
    "der_l_W2 = (g2.transpose()).dot((h1.transpose()))\n",
    "print(\"∂𝑙/∂W2\")\n",
    "print(der_l_W2)\n",
    "print()\n",
    "\n",
    "# ∂𝑙/∂b2\n",
    "der_l_b2_batch = g2.transpose()\n",
    "der_l_b2 = np.zeros((3,1))\n",
    "for k in range(3):\n",
    "    der_l_b2[k] = np.sum(der_l_b2_batch[k])/5\n",
    "\n",
    "print(\"∂𝑙/∂b2\")\n",
    "print(der_l_b2)\n",
    "print()"
   ]
  },
  {
   "cell_type": "markdown",
   "metadata": {
    "id": "Qg6OfpB-Kotu"
   },
   "source": [
    "<span style=\"color:red\">**(f)**</span> What are the derivatives $\\frac{\\partial l}{\\partial h^{1}}, \\frac{\\partial l}{\\partial \\bar{h}^{1}},\\frac{\\partial l}{\\partial W^{1}}$, and $\\frac{\\partial l}{\\partial b^{1}}$?\n",
    "<div style=\"text-align: right\"><span style=\"color:red\">[6 points]</span></div>"
   ]
  },
  {
   "cell_type": "markdown",
   "metadata": {
    "id": "v8dNFopuKotv"
   },
   "source": [
    "*Show your formula*\n",
    "\n",
    "           \n",
    "    h2     = (W2)(h1) + b2\n",
    "    \n",
    "    g1     = (∂𝑙/∂ℎ1)\n",
    "           = (∂l/∂ℎ2)(∂h2/∂ℎ1)\n",
    "           = (g2)(w2)\n",
    "           \n",
    "    h1     = ELU(ℎ¯1)\n",
    "    ∂h1/∂ℎ¯1 = ELU'(ℎ¯1)\n",
    "    \n",
    "    g¯1    = (∂𝑙/∂ℎ¯1)\n",
    "           = (∂𝑙/∂ℎ1)(∂h1/∂ℎ¯1)\n",
    "           = g1(ELU'(ℎ¯1))\n",
    "    \n",
    "    \n",
    "    h¯1     = W1(h0) + b1\n",
    "       \n",
    "    ∂𝑙/∂W1  = (∂𝑙/∂h1) (∂h¯1/∂W1)\n",
    "           = (g¯1)T (h0)T\n",
    "\n",
    "    ∂𝑙/∂b1  = (∂𝑙/∂h¯1) (∂h¯1/∂b1)\n",
    "           = (g¯1)T (1)\n",
    "           = (g¯1)T\n",
    "           \n",
    "Since the we fit a mini batch and the output of ∂𝑙/∂b1 P will be 5x5. To update and form a 5x1 bias, mean of each row from P will be calculated for bias update.\n",
    "    \n",
    "    ∂𝑙/∂b1 = ((∂𝑙/∂b1)i / 5)) where i is the row\n"
   ]
  },
  {
   "cell_type": "code",
   "execution_count": 23,
   "metadata": {
    "colab": {
     "base_uri": "https://localhost:8080/"
    },
    "id": "F0BGRboXKotv",
    "outputId": "1e3997e3-a594-49ca-fb5c-1e62ead4ea42"
   },
   "outputs": [
    {
     "name": "stdout",
     "output_type": "stream",
     "text": [
      "∂𝑙/∂ℎ1\n",
      "[[-0.11657453 -0.01944619 -0.03385873 -0.17136431  0.07846318]\n",
      " [ 0.26758644  0.06474553  0.09347583  0.46823712 -0.37328474]\n",
      " [ 0.00932864 -0.01556597 -0.01070664 -0.05005088  0.15821053]\n",
      " [ 0.26758644  0.06474553  0.09347583  0.46823712 -0.37328474]\n",
      " [-0.08032091 -0.01272362 -0.02280009 -0.1155579   0.04757746]]\n",
      "\n",
      "∂𝑙/∂ℎ¯1\n",
      "[[1.         1.         0.05557422 1.         1.        ]\n",
      " [1.         1.         1.         1.         1.        ]\n",
      " [1.         0.07171241 1.         0.07171241 1.        ]\n",
      " [1.         0.04084647 0.04958232 0.04084647 1.        ]\n",
      " [1.         1.         0.0885513  1.         1.        ]]\n",
      "\n",
      "∂𝑙/∂W1\n",
      "[[-0.66574038  0.99544668 -0.77222877]\n",
      " [-0.08516194  0.12130117 -0.10592178]\n",
      " [-0.08393229  0.18234875 -0.10302072]\n",
      " [-0.65334336  0.8536062  -0.83206412]\n",
      " [ 0.58771688 -1.29444797  0.89639886]]\n",
      "\n",
      "∂𝑙/∂b1\n",
      "[[ 0.06952122]\n",
      " [ 0.00682082]\n",
      " [ 0.01670066]\n",
      " [ 0.0393703 ]\n",
      " [-0.09246366]]\n",
      "\n"
     ]
    }
   ],
   "source": [
    "#Show your code\n",
    "\n",
    "# ELU(x)'\n",
    "def ELU_der(x):\n",
    "    if x <= 0:\n",
    "        return (0.1*(math.exp(x)))\n",
    "    else:\n",
    "        return 1\n",
    "\n",
    "g1 = g2.dot(W2)\n",
    "print(\"∂𝑙/∂ℎ1\")\n",
    "print(g1)\n",
    "print()\n",
    "\n",
    "der_h1_logit_h = np.zeros((5,5))\n",
    "\n",
    "for x in range(5):\n",
    "    for y in range(5):\n",
    "        der_h1_logit_h[x][y] = ELU_der(logit_h1[x][y])\n",
    "\n",
    "\n",
    "print(\"∂𝑙/∂ℎ¯1\")\n",
    "print(der_h1_logit_h)\n",
    "print()\n",
    "logit_g1 = g1 * der_h1_logit_h\n",
    "\n",
    "\n",
    "der_l_W1 = logit_g1.transpose().dot(h0.transpose())\n",
    "print(\"∂𝑙/∂W1\")\n",
    "print(der_l_W1)\n",
    "print()\n",
    "\n",
    "der_l_b1_batch = logit_g1.transpose()\n",
    "\n",
    "\n",
    "der_l_b1 = np.zeros((5,1))\n",
    "for k in range(5):\n",
    "    der_l_b1[k] = np.sum(der_l_b1_batch[k])/5\n",
    "    \n",
    "print(\"∂𝑙/∂b1\")\n",
    "print(der_l_b1)\n",
    "print()"
   ]
  },
  {
   "cell_type": "markdown",
   "metadata": {
    "id": "dD8e1eeYKotv"
   },
   "source": [
    "**SGD update**\n",
    "\n",
    "<span style=\"color:red\">**(g)**</span> Assume that we use SGD with learning rate $\\eta=0.01$ to update the model parameters. What are the values of $W^2, b^2$ and $W^1, b^1$ after updating?\n",
    "<div style=\"text-align: right\"><span style=\"color:red\">[4 points]</span></div>"
   ]
  },
  {
   "cell_type": "markdown",
   "metadata": {
    "id": "dd086gw9Kotv"
   },
   "source": [
    "*Show your formula*\n",
    "\n",
    "To update W2 and b2, formula is applied:\n",
    "\n",
    "    W2 = W2 - (learning rate)(∂𝑙/∂W2)\n",
    "    b2 = b2 - (learning rate)(∂𝑙/∂b2)\n",
    "           \n",
    "To update W1 and b1, formula is applied:\n",
    "\n",
    "    W1 = W1 - (learning rate)(∂𝑙/∂W1)\n",
    "    b1 = b1 - (learning rate)(∂𝑙/∂b1)\n",
    "    "
   ]
  },
  {
   "cell_type": "code",
   "execution_count": 24,
   "metadata": {
    "colab": {
     "base_uri": "https://localhost:8080/"
    },
    "id": "mXI0_TEIKotv",
    "outputId": "223ff1df-af16-4174-cdc2-a270621e2a1e"
   },
   "outputs": [
    {
     "name": "stdout",
     "output_type": "stream",
     "text": [
      "W2\n",
      "[[0.37314994 0.71813632 0.22141386 0.0391457  0.94663381]\n",
      " [0.86121315 0.82455649 0.39263771 0.8572277  0.40528532]\n",
      " [0.62679118 0.79372347 0.32519412 0.5609578  0.39898899]]\n",
      "\n",
      "b2\n",
      "[[0.15861126]\n",
      " [0.41996357]\n",
      " [0.13059539]]\n",
      "\n",
      "W1\n",
      "[[0.85757143 0.64176563 0.24066331]\n",
      " [0.20381796 0.32152008 0.52417057]\n",
      " [0.24345428 0.31014958 0.82308913]\n",
      " [0.93454786 0.06882313 0.74350092]\n",
      " [0.83293836 0.3035757  0.30921693]]\n",
      "\n",
      "b1\n",
      "[[0.03650499]\n",
      " [0.49915336]\n",
      " [0.10805436]\n",
      " [0.61273292]\n",
      " [0.84692863]]\n",
      "\n"
     ]
    }
   ],
   "source": [
    "#Show your code\n",
    "\n",
    "# learning rate\n",
    "alpha = 0.01\n",
    "\n",
    "W2 = W2 - (alpha*der_l_W2)\n",
    "b2 = b2 - (alpha*der_l_b2)\n",
    "\n",
    "W1 = W1 - (alpha*der_l_W1)\n",
    "b1 = b1 - (alpha*der_l_b1)\n",
    "\n",
    "print(\"W2\")\n",
    "print(W2)\n",
    "print()\n",
    "\n",
    "print(\"b2\")\n",
    "print(b2)\n",
    "print()\n",
    "\n",
    "print(\"W1\")\n",
    "print(W1)\n",
    "print()\n",
    "\n",
    "print(\"b1\")\n",
    "print(b1)\n",
    "print()"
   ]
  },
  {
   "cell_type": "markdown",
   "metadata": {
    "id": "6U4xpJfzKot3"
   },
   "source": [
    "---\n",
    "**<div style=\"text-align: center\"> <span style=\"color:black\">END OF PART 1</span> </div>**"
   ]
  }
 ],
 "metadata": {
  "accelerator": "GPU",
  "colab": {
   "gpuType": "T4",
   "provenance": []
  },
  "kernelspec": {
   "display_name": "Python 3 (ipykernel)",
   "language": "python",
   "name": "python3"
  },
  "language_info": {
   "codemirror_mode": {
    "name": "ipython",
    "version": 3
   },
   "file_extension": ".py",
   "mimetype": "text/x-python",
   "name": "python",
   "nbconvert_exporter": "python",
   "pygments_lexer": "ipython3",
   "version": "3.9.17"
  }
 },
 "nbformat": 4,
 "nbformat_minor": 1
}
