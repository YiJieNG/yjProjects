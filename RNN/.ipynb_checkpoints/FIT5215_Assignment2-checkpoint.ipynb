{
 "cells": [
  {
   "cell_type": "markdown",
   "metadata": {},
   "source": [
    "# <span style=\"color:#0b486b\">  FIT5215: Deep Learning (2023)</span>\n",
    "***\n",
    "*CE/Lecturer:* Dr **Trung Le** | trunglm@monash.edu <br/>\n",
    "*Head Tutor:* Mr **Tuan Nguyen** | tuan.nguyen@monash.edu <br/>\n",
    "<br/>\n",
    "Department of Data Science and AI, Faculty of Information Technology, Monash University, Australia\n",
    "***"
   ]
  },
  {
   "cell_type": "markdown",
   "metadata": {},
   "source": [
    "# <span style=\"color:#0b486b\">  Student Information</span>\n",
    "Surname: **NG**  <br/>\n",
    "Firstname: **YI JIE**    <br/>\n",
    "Student ID: **31158145**    <br/>\n",
    "Email: **yngg0039@student.monash.edu**    <br/>\n",
    "Your tutorial time: **Monday 10.00am to 12.00pm**    <br/>\n",
    "***"
   ]
  },
  {
   "cell_type": "markdown",
   "metadata": {},
   "source": [
    "## <span style=\"color:#0b486b\">Assignment 02: Neural Embedding and Sequence Modelling</span>\n",
    "### Due: <span style=\"color:red\">11:59pm 22 October 2023</span>  (Sunday)\n",
    "\n",
    "#### <span style=\"color:red\">Important note:</span> This is an **individual** assignment. It contributes **20%** to you final mark. Read the assignment instruction carefully."
   ]
  },
  {
   "cell_type": "markdown",
   "metadata": {},
   "source": [
    "## <span style=\"color:#0b486b\">Instructions</span>\n",
    "\n",
    "This notebook has been prepared for your to complete Assignment 2. The theme of this assignment is about practical machine learning knowledge and skills in deep neural networks, word embedding and text analytics. Some sections have been partially completed to help you get\n",
    "started. **The total marks for this notebook is 100**."
   ]
  },
  {
   "cell_type": "markdown",
   "metadata": {},
   "source": [
    "* Before you start, read the entire notebook carefully once to understand what you need to do. <br><br>\n",
    "* For each cell marked with **#YOU ARE REQUIRED TO INSERT YOUR CODES IN THIS CELL**, there will be places where you **must** supply your own codes when instructed. <br>\n",
    "\n",
    "This assignment contains **four** parts:\n",
    "\n",
    "* Part 1: Questions on downloading and preprocessing data **[5 points]**\n",
    "* Part 2: Questions on using Word2Vect to transform texts to vectors **[20 points]**\n",
    "* Part 3: Coding assessment on BERT and CLIP for a feature extraction **[15 points]**\n",
    "* Part 4: Coding assessment on RNNs for sequence modeling and neural embedding **[60 points]**\n",
    "\n",
    "\n",
    "**Hint**: This assignment was essentially designed based on the lectures and tutorials sessions covered from Weeks 6 to 10. You are strongly recommended to go through these contents thoroughly which might help you to complete this assignment."
   ]
  },
  {
   "cell_type": "markdown",
   "metadata": {},
   "source": [
    "## <span style=\"color:#0b486b\">What to submit</span>\n",
    "\n",
    "This assignment is to be completed individually and submitted to Moodle unit site. **By the due date, you are required to submit one  <span style=\"color:red; font-weight:bold\">single zip file, named xxx_assignment02_solution.zip</span> where `xxx` is your student ID, to the corresponding Assignment (Dropbox) in Moodle**. "
   ]
  },
  {
   "cell_type": "markdown",
   "metadata": {},
   "source": [
    "***For example, if your student ID is <span style=\"color:red; font-weight:bold\">12356</span>, then gather all of your assignment solution to folder, create a zip file named <span style=\"color:red; font-weight:bold\">123456_assignment02_solution.zip</span> and submit this file.***"
   ]
  },
  {
   "cell_type": "markdown",
   "metadata": {},
   "source": [
    "Within this zip folder, you **must** submit the following files:\n",
    "1.\t**Assignment02_solution.ipynb**:  this is your Python notebook solution source file.\n",
    "1.\t**Assignment02_output.html**: this is the output of your Python notebook solution *exported* in html format.\n",
    "1.\tAny **extra files or folder** needed to complete your assignment (e.g., images used in your answers)."
   ]
  },
  {
   "cell_type": "markdown",
   "metadata": {},
   "source": [
    "## <span style=\"color:#0b486b\">Set random seeds</span>"
   ]
  },
  {
   "cell_type": "markdown",
   "metadata": {},
   "source": [
    "We start with importing tensorflow and numpy and setting random seeds for TF and numpy. You can use any seeds you prefer."
   ]
  },
  {
   "cell_type": "code",
   "execution_count": 1,
   "metadata": {},
   "outputs": [],
   "source": [
    "import numpy as np\n",
    "import tensorflow as tf\n",
    "tf.random.set_seed(6789)\n",
    "np.random.seed(6789)"
   ]
  },
  {
   "cell_type": "markdown",
   "metadata": {},
   "source": [
    "## <span style=\"color:#0b486b\">Part 1: Download and preprocess the data</span>\n",
    "\n",
    "<div style=\"text-align: right\"><span style=\"color:red; font-weight:bold\">[Total marks for this part: 5 points]<span></div>"
   ]
  },
  {
   "cell_type": "markdown",
   "metadata": {},
   "source": [
    "The dataset we use for this assignment is a question classification dataset for which the train set consists of $5,500$ questions belonging to 6 coarse question categories including:\n",
    "- abbreviation (ABBR), \n",
    "- entity (ENTY), \n",
    "- description (DESC), \n",
    "- human (HUM), \n",
    "- location (LOC) and \n",
    "- numeric (NUM).\n"
   ]
  },
  {
   "cell_type": "markdown",
   "metadata": {},
   "source": [
    "Preprocessing data is an inital and important step in any machine learning or deep learning projects. The following *DataManager* class helps you to download data and preprocess data for the later questions of this assignment. "
   ]
  },
  {
   "cell_type": "code",
   "execution_count": 2,
   "metadata": {},
   "outputs": [],
   "source": [
    "import os\n",
    "import zipfile\n",
    "import collections\n",
    "from six.moves import range\n",
    "from six.moves.urllib.request import urlretrieve\n",
    "from sklearn import preprocessing\n",
    "from sklearn.model_selection import train_test_split\n",
    "import matplotlib.pyplot as plt\n",
    "plt.style.use('ggplot')\n",
    "\n",
    "class DataManager:\n",
    "    def __init__(self, verbose=True, maxlen= 50, random_state=6789):\n",
    "        self.verbose = verbose\n",
    "        self.max_sentence_len = 0\n",
    "        self.str_questions = list()\n",
    "        self.str_labels = list()\n",
    "        self.numeral_labels = list()\n",
    "        self.maxlen = maxlen\n",
    "        self.numeral_data = list()\n",
    "        self.random_state = random_state\n",
    "        self.random = np.random.RandomState(random_state)\n",
    "        \n",
    "    @staticmethod\n",
    "    def maybe_download(dir_name, file_name, url, verbose= True):\n",
    "        if not os.path.exists(dir_name):\n",
    "            os.mkdir(dir_name)\n",
    "        if not os.path.exists(os.path.join(dir_name, file_name)):\n",
    "            urlretrieve(url + file_name, os.path.join(dir_name, file_name))\n",
    "        if verbose:\n",
    "            print(\"Downloaded successfully {}\".format(file_name))\n",
    "    \n",
    "    def read_data(self, dir_name, file_names):\n",
    "        self.str_questions= list(); self.str_labels= list()\n",
    "        for file_name in file_names:\n",
    "            file_path= os.path.join(dir_name, file_name)\n",
    "            with open(file_path, \"r\", encoding=\"latin-1\") as f:\n",
    "                for row in f:\n",
    "                    row_str= row.split(\":\")\n",
    "                    label, question= row_str[0], row_str[1]\n",
    "                    question= question.lower()\n",
    "                    self.str_labels.append(label)\n",
    "                    self.str_questions.append(question[0:-1])\n",
    "                    if self.max_sentence_len < len(self.str_questions[-1]):\n",
    "                        self.max_sentence_len= len(self.str_questions[-1])\n",
    "         \n",
    "        # turns labels into numbers\n",
    "        le= preprocessing.LabelEncoder()\n",
    "        le.fit(self.str_labels)\n",
    "        self.numeral_labels = np.array(le.transform(self.str_labels))\n",
    "        self.str_classes= le.classes_\n",
    "        self.num_classes= len(self.str_classes)\n",
    "        if self.verbose:\n",
    "            print(\"\\nSample questions... \\n\")\n",
    "            print(self.str_questions[0:5])\n",
    "            print(\"Labels {}\\n\\n\".format(self.str_classes))\n",
    "    \n",
    "    def manipulate_data(self):\n",
    "        tokenizer = tf.keras.preprocessing.text.Tokenizer()\n",
    "        tokenizer.fit_on_texts(self.str_questions)\n",
    "        # convert texts to sequence of indices so we can put into embedding layer\n",
    "        self.numeral_data = tokenizer.texts_to_sequences(self.str_questions) \n",
    "        # padding for seq length\n",
    "        self.numeral_data = tf.keras.preprocessing.sequence.pad_sequences(self.numeral_data, padding='post', truncating= 'post', maxlen= self.maxlen)\n",
    "        self.word2idx = tokenizer.word_index\n",
    "        self.word2idx = {k:v for k,v in self.word2idx.items()}\n",
    "        self.idx2word = {v:k for k,v in self.word2idx.items()}\n",
    "        self.vocab_size = len(self.word2idx)\n",
    "    \n",
    "    def train_valid_split(self, train_ratio=0.9):\n",
    "        idxs = np.random.permutation(np.arange(len(self.str_questions)))\n",
    "        train_size = int(train_ratio*len(idxs)) +1\n",
    "        self.train_str_questions, self.valid_str_questions = self.str_questions[0:train_size], self.str_questions[train_size:]\n",
    "        self.train_numeral_data, self.valid_numeral_data = self.numeral_data[0:train_size], self.numeral_data[train_size:]\n",
    "        self.train_numeral_labels, self.valid_numeral_labels = self.numeral_labels[0:train_size], self.numeral_labels[train_size:]\n",
    "        self.tf_train_set = tf.data.Dataset.from_tensor_slices((self.train_numeral_data, self.train_numeral_labels))\n",
    "        self.tf_valid_set = tf.data.Dataset.from_tensor_slices((self.valid_numeral_data, self.valid_numeral_labels))\n"
   ]
  },
  {
   "cell_type": "code",
   "execution_count": 3,
   "metadata": {},
   "outputs": [
    {
     "name": "stdout",
     "output_type": "stream",
     "text": [
      "Loading data...\n",
      "Downloaded successfully train_1000.label\n",
      "Downloaded successfully TREC_10.label\n",
      "\n",
      "Sample questions... \n",
      "\n",
      "['manner how did serfdom develop in and then leave russia ?', 'cremat what films featured the character popeye doyle ?', \"manner how can i find a list of celebrities ' real names ?\", 'animal what fowl grabs the spotlight after the chinese year of the monkey ?', 'exp what is the full form of .com ?']\n",
      "Labels ['ABBR' 'DESC' 'ENTY' 'HUM' 'LOC' 'NUM']\n",
      "\n",
      "\n"
     ]
    }
   ],
   "source": [
    "print('Loading data...')\n",
    "DataManager.maybe_download(\"Data\", \"train_1000.label\", \"http://cogcomp.org/Data/QA/QC/\")\n",
    "DataManager.maybe_download(\"Data\", \"TREC_10.label\", \"http://cogcomp.org/Data/QA/QC/\")\n",
    "\n",
    "dm = DataManager(maxlen=100)\n",
    "dm.read_data(\"Data/\", [\"train_1000.label\", \"TREC_10.label\"])   # read data\n",
    "# If you want to play around with a bigger dataset, you can try train_set.label"
   ]
  },
  {
   "cell_type": "code",
   "execution_count": 4,
   "metadata": {},
   "outputs": [],
   "source": [
    "dm.manipulate_data()\n",
    "dm.train_valid_split(train_ratio=0.8)"
   ]
  },
  {
   "cell_type": "markdown",
   "metadata": {},
   "source": [
    "You now have a data manager, named *dm* containing the training and validiation sets in both text and numeric forms. Your task is to play around and read this code to figure out the meanings of some important attributes that will be used in the next parts."
   ]
  },
  {
   "cell_type": "markdown",
   "metadata": {},
   "source": [
    "#### <span style=\"color:red\">**Question 1.1**</span> \n",
    "**What is the purpose of `self.train_str_questions` and `self.train_numeral_labels`? Write your code to print out the first five questions with labels in the training set.**\n",
    "\n",
    "<div style=\"text-align: right\"><span style=\"color:red\">[1 point]</span></div> "
   ]
  },
  {
   "cell_type": "markdown",
   "metadata": {},
   "source": [
    "#Your answer here\n",
    "\n",
    "\n"
   ]
  },
  {
   "cell_type": "markdown",
   "metadata": {},
   "source": [
    "self.train_str_questions: the original string data to be trained which splitted from the datasets. \n",
    "\n",
    "self.train_numeral_labels: the label for the corresponding train data representing in numerical form transformed from string label."
   ]
  },
  {
   "cell_type": "code",
   "execution_count": 5,
   "metadata": {},
   "outputs": [
    {
     "name": "stdout",
     "output_type": "stream",
     "text": [
      "+ Text: manner how did serfdom develop in and then leave russia ?\n",
      "+ Label: DESC (1)\n",
      "\n",
      "+ Text: cremat what films featured the character popeye doyle ?\n",
      "+ Label: ENTY (2)\n",
      "\n",
      "+ Text: manner how can i find a list of celebrities ' real names ?\n",
      "+ Label: DESC (1)\n",
      "\n",
      "+ Text: animal what fowl grabs the spotlight after the chinese year of the monkey ?\n",
      "+ Label: ENTY (2)\n",
      "\n",
      "+ Text: exp what is the full form of .com ?\n",
      "+ Label: ABBR (0)\n",
      "\n"
     ]
    }
   ],
   "source": [
    "#Your code here\n",
    "for i in range(5):\n",
    "    print(\"+ Text: {}\\n+ Label: {} ({})\\n\".format(dm.train_str_questions[i], dm.str_labels[i], dm.train_numeral_labels[i]))"
   ]
  },
  {
   "cell_type": "markdown",
   "metadata": {},
   "source": [
    "#### <span style=\"color:red\">**Question 1.2**</span> \n",
    "**What is the purpose of `self.train_numeral_data`? Write your code to print out the first five questions in the numeric format with labels in the training set.**\n",
    "\n",
    "<div style=\"text-align: right\"><span style=\"color:red\">[1 point]</span></div> "
   ]
  },
  {
   "cell_type": "markdown",
   "metadata": {},
   "source": [
    "#Your answer here\n",
    "\n",
    "\n"
   ]
  },
  {
   "cell_type": "markdown",
   "metadata": {},
   "source": [
    "self.train_numeral_data: To convert texts to sequence of indices so we can put into embedding layer"
   ]
  },
  {
   "cell_type": "code",
   "execution_count": 6,
   "metadata": {},
   "outputs": [
    {
     "name": "stdout",
     "output_type": "stream",
     "text": [
      "+ Data: [  35   11   18 1030 1031    5   25  561 1032  562    0    0    0    0\n",
      "    0    0    0    0    0    0    0    0    0    0    0    0    0    0\n",
      "    0    0    0    0    0    0    0    0    0    0    0    0    0    0\n",
      "    0    0    0    0    0    0    0    0    0    0    0    0    0    0\n",
      "    0    0    0    0    0    0    0    0    0    0    0    0    0    0\n",
      "    0    0    0    0    0    0    0    0    0    0    0    0    0    0\n",
      "    0    0    0    0    0    0    0    0    0    0    0    0    0    0\n",
      "    0    0]\n",
      "+ Label: DESC (1)\n",
      "\n",
      "+ Data: [  43    2  563 1033    1  164 1034 1035    0    0    0    0    0    0\n",
      "    0    0    0    0    0    0    0    0    0    0    0    0    0    0\n",
      "    0    0    0    0    0    0    0    0    0    0    0    0    0    0\n",
      "    0    0    0    0    0    0    0    0    0    0    0    0    0    0\n",
      "    0    0    0    0    0    0    0    0    0    0    0    0    0    0\n",
      "    0    0    0    0    0    0    0    0    0    0    0    0    0    0\n",
      "    0    0    0    0    0    0    0    0    0    0    0    0    0    0\n",
      "    0    0]\n",
      "+ Label: ENTY (2)\n",
      "\n",
      "+ Data: [  35   11   45   40   60    7  389    4 1036   88  295  165    0    0\n",
      "    0    0    0    0    0    0    0    0    0    0    0    0    0    0\n",
      "    0    0    0    0    0    0    0    0    0    0    0    0    0    0\n",
      "    0    0    0    0    0    0    0    0    0    0    0    0    0    0\n",
      "    0    0    0    0    0    0    0    0    0    0    0    0    0    0\n",
      "    0    0    0    0    0    0    0    0    0    0    0    0    0    0\n",
      "    0    0    0    0    0    0    0    0    0    0    0    0    0    0\n",
      "    0    0]\n",
      "+ Label: DESC (1)\n",
      "\n",
      "+ Data: [  34    2 1037 1038    1 1039  232    1  564   50    4    1 1040    0\n",
      "    0    0    0    0    0    0    0    0    0    0    0    0    0    0\n",
      "    0    0    0    0    0    0    0    0    0    0    0    0    0    0\n",
      "    0    0    0    0    0    0    0    0    0    0    0    0    0    0\n",
      "    0    0    0    0    0    0    0    0    0    0    0    0    0    0\n",
      "    0    0    0    0    0    0    0    0    0    0    0    0    0    0\n",
      "    0    0    0    0    0    0    0    0    0    0    0    0    0    0\n",
      "    0    0]\n",
      "+ Label: ENTY (2)\n",
      "\n",
      "+ Data: [ 61   2   3   1 390 233   4 199   0   0   0   0   0   0   0   0   0   0\n",
      "   0   0   0   0   0   0   0   0   0   0   0   0   0   0   0   0   0   0\n",
      "   0   0   0   0   0   0   0   0   0   0   0   0   0   0   0   0   0   0\n",
      "   0   0   0   0   0   0   0   0   0   0   0   0   0   0   0   0   0   0\n",
      "   0   0   0   0   0   0   0   0   0   0   0   0   0   0   0   0   0   0\n",
      "   0   0   0   0   0   0   0   0   0   0]\n",
      "+ Label: ABBR (0)\n",
      "\n"
     ]
    }
   ],
   "source": [
    "#Your code here\n",
    "for i in range(5):\n",
    "    print(\"+ Data: {}\\n+ Label: {} ({})\\n\".format(dm.train_numeral_data[i], dm.str_labels[i], dm.train_numeral_labels[i]))"
   ]
  },
  {
   "cell_type": "markdown",
   "metadata": {},
   "source": [
    "#### <span style=\"color:red\">**Question 1.3**</span> \n",
    "**What is the purpose of two dictionaries: `self.word2idx` and `self.idx2word`? Write your code to print out the first five key-value pairs of those dictionaries.**\n",
    "\n",
    "<div style=\"text-align: right\"><span style=\"color:red\">[1 point]</span></div> "
   ]
  },
  {
   "cell_type": "markdown",
   "metadata": {},
   "source": [
    "#Your answer here\n",
    "\n",
    " \n",
    "\n"
   ]
  },
  {
   "cell_type": "markdown",
   "metadata": {},
   "source": [
    "self.word2idx: build a dictionary which maps the word to an unique id in numerical form\n",
    "\n",
    "self.idx2word: build a dictionary which allows reverse mapping from numerical id to word"
   ]
  },
  {
   "cell_type": "code",
   "execution_count": 7,
   "metadata": {},
   "outputs": [
    {
     "name": "stdout",
     "output_type": "stream",
     "text": [
      "+ key-value pair 1 : ('the', 1)\n",
      "+ key-value pair 2 : ('what', 2)\n",
      "+ key-value pair 3 : ('is', 3)\n",
      "+ key-value pair 4 : ('of', 4)\n",
      "+ key-value pair 5 : ('in', 5)\n",
      "\n",
      "+ key-value pair 1 : (1, 'the')\n",
      "+ key-value pair 2 : (2, 'what')\n",
      "+ key-value pair 3 : (3, 'is')\n",
      "+ key-value pair 4 : (4, 'of')\n",
      "+ key-value pair 5 : (5, 'in')\n"
     ]
    }
   ],
   "source": [
    "#Your code here\n",
    "for i in range(5):\n",
    "    print(\"+ key-value pair {} : {}\".format(i+1, list(dm.word2idx.items())[i])) \n",
    "print()\n",
    "for i in range(5):\n",
    "    print(\"+ key-value pair {} : {}\".format(i+1, list(dm.idx2word.items())[i])) "
   ]
  },
  {
   "cell_type": "markdown",
   "metadata": {},
   "source": [
    "#### <span style=\"color:red\">**Question 1.4**</span> \n",
    "**What is the purpose of `self.tf_train_set`? Write your code to print out the first five items of `self.tf_train_set`.**\n",
    "\n",
    "<div style=\"text-align: right\"><span style=\"color:red\">[1 point]</span></div> "
   ]
  },
  {
   "cell_type": "markdown",
   "metadata": {},
   "source": [
    "#Your answer here\n",
    "\n"
   ]
  },
  {
   "cell_type": "markdown",
   "metadata": {},
   "source": [
    "self.tf_train_set: convert the training set data from numpy to tf.keras for preprocessing purpose. Representation of tf.keras enhance the performance of RNN compared to tf.keras. "
   ]
  },
  {
   "cell_type": "code",
   "execution_count": 8,
   "metadata": {},
   "outputs": [
    {
     "name": "stdout",
     "output_type": "stream",
     "text": [
      "+ data : [  35   11   18 1030 1031    5   25  561 1032  562    0    0    0    0\n",
      "    0    0    0    0    0    0    0    0    0    0    0    0    0    0\n",
      "    0    0    0    0    0    0    0    0    0    0    0    0    0    0\n",
      "    0    0    0    0    0    0    0    0    0    0    0    0    0    0\n",
      "    0    0    0    0    0    0    0    0    0    0    0    0    0    0\n",
      "    0    0    0    0    0    0    0    0    0    0    0    0    0    0\n",
      "    0    0    0    0    0    0    0    0    0    0    0    0    0    0\n",
      "    0    0]\n",
      "+ label: DESC (1)\n",
      "\n",
      "+ data : [  43    2  563 1033    1  164 1034 1035    0    0    0    0    0    0\n",
      "    0    0    0    0    0    0    0    0    0    0    0    0    0    0\n",
      "    0    0    0    0    0    0    0    0    0    0    0    0    0    0\n",
      "    0    0    0    0    0    0    0    0    0    0    0    0    0    0\n",
      "    0    0    0    0    0    0    0    0    0    0    0    0    0    0\n",
      "    0    0    0    0    0    0    0    0    0    0    0    0    0    0\n",
      "    0    0    0    0    0    0    0    0    0    0    0    0    0    0\n",
      "    0    0]\n",
      "+ label: ENTY (2)\n",
      "\n",
      "+ data : [  35   11   45   40   60    7  389    4 1036   88  295  165    0    0\n",
      "    0    0    0    0    0    0    0    0    0    0    0    0    0    0\n",
      "    0    0    0    0    0    0    0    0    0    0    0    0    0    0\n",
      "    0    0    0    0    0    0    0    0    0    0    0    0    0    0\n",
      "    0    0    0    0    0    0    0    0    0    0    0    0    0    0\n",
      "    0    0    0    0    0    0    0    0    0    0    0    0    0    0\n",
      "    0    0    0    0    0    0    0    0    0    0    0    0    0    0\n",
      "    0    0]\n",
      "+ label: DESC (1)\n",
      "\n",
      "+ data : [  34    2 1037 1038    1 1039  232    1  564   50    4    1 1040    0\n",
      "    0    0    0    0    0    0    0    0    0    0    0    0    0    0\n",
      "    0    0    0    0    0    0    0    0    0    0    0    0    0    0\n",
      "    0    0    0    0    0    0    0    0    0    0    0    0    0    0\n",
      "    0    0    0    0    0    0    0    0    0    0    0    0    0    0\n",
      "    0    0    0    0    0    0    0    0    0    0    0    0    0    0\n",
      "    0    0    0    0    0    0    0    0    0    0    0    0    0    0\n",
      "    0    0]\n",
      "+ label: ENTY (2)\n",
      "\n",
      "+ data : [ 61   2   3   1 390 233   4 199   0   0   0   0   0   0   0   0   0   0\n",
      "   0   0   0   0   0   0   0   0   0   0   0   0   0   0   0   0   0   0\n",
      "   0   0   0   0   0   0   0   0   0   0   0   0   0   0   0   0   0   0\n",
      "   0   0   0   0   0   0   0   0   0   0   0   0   0   0   0   0   0   0\n",
      "   0   0   0   0   0   0   0   0   0   0   0   0   0   0   0   0   0   0\n",
      "   0   0   0   0   0   0   0   0   0   0]\n",
      "+ label: ABBR (0)\n",
      "\n"
     ]
    }
   ],
   "source": [
    "#Your code here\n",
    "my_items = dm.tf_train_set.take(5)\n",
    "counter = 0\n",
    "for data, label in my_items:\n",
    "    print(\"+ data : {}\".format(data))\n",
    "    print(\"+ label: {} ({})\\n\".format(dm.str_labels[counter], label))\n",
    "    counter += 1"
   ]
  },
  {
   "cell_type": "markdown",
   "metadata": {},
   "source": [
    "#### <span style=\"color:red\">**Question 1.5**</span> \n",
    "**What is the purpose of `self.tf_valid_set`? Write your code to print out the first five items of `self.tf_valid_set`.**\n",
    "\n",
    "<div style=\"text-align: right\"><span style=\"color:red\">[1 point]</span></div> "
   ]
  },
  {
   "cell_type": "markdown",
   "metadata": {},
   "source": [
    "#Your answer here\n",
    "\n"
   ]
  },
  {
   "cell_type": "markdown",
   "metadata": {},
   "source": [
    "self.tf_valid_set: Similar to the previous question, valid set data represented in tf.keras enhance the performance of RNN."
   ]
  },
  {
   "cell_type": "code",
   "execution_count": 9,
   "metadata": {},
   "outputs": [
    {
     "name": "stdout",
     "output_type": "stream",
     "text": [
      "+ data : [  23    2   23   13  243    3   53    1 3031   20    0    0    0    0\n",
      "    0    0    0    0    0    0    0    0    0    0    0    0    0    0\n",
      "    0    0    0    0    0    0    0    0    0    0    0    0    0    0\n",
      "    0    0    0    0    0    0    0    0    0    0    0    0    0    0\n",
      "    0    0    0    0    0    0    0    0    0    0    0    0    0    0\n",
      "    0    0    0    0    0    0    0    0    0    0    0    0    0    0\n",
      "    0    0    0    0    0    0    0    0    0    0    0    0    0    0\n",
      "    0    0]\n",
      "+ label: DESC (4)\n",
      "\n",
      "+ data : [   6   12   98    1 3032    0    0    0    0    0    0    0    0    0\n",
      "    0    0    0    0    0    0    0    0    0    0    0    0    0    0\n",
      "    0    0    0    0    0    0    0    0    0    0    0    0    0    0\n",
      "    0    0    0    0    0    0    0    0    0    0    0    0    0    0\n",
      "    0    0    0    0    0    0    0    0    0    0    0    0    0    0\n",
      "    0    0    0    0    0    0    0    0    0    0    0    0    0    0\n",
      "    0    0    0    0    0    0    0    0    0    0    0    0    0    0\n",
      "    0    0]\n",
      "+ label: ENTY (3)\n",
      "\n",
      "+ data : [  34    2   14    1  248   49  648  802   74 3033   53    0    0    0\n",
      "    0    0    0    0    0    0    0    0    0    0    0    0    0    0\n",
      "    0    0    0    0    0    0    0    0    0    0    0    0    0    0\n",
      "    0    0    0    0    0    0    0    0    0    0    0    0    0    0\n",
      "    0    0    0    0    0    0    0    0    0    0    0    0    0    0\n",
      "    0    0    0    0    0    0    0    0    0    0    0    0    0    0\n",
      "    0    0    0    0    0    0    0    0    0    0    0    0    0    0\n",
      "    0    0]\n",
      "+ label: DESC (2)\n",
      "\n",
      "+ data : [   8    2    3    1  557  210    4 3034    0    0    0    0    0    0\n",
      "    0    0    0    0    0    0    0    0    0    0    0    0    0    0\n",
      "    0    0    0    0    0    0    0    0    0    0    0    0    0    0\n",
      "    0    0    0    0    0    0    0    0    0    0    0    0    0    0\n",
      "    0    0    0    0    0    0    0    0    0    0    0    0    0    0\n",
      "    0    0    0    0    0    0    0    0    0    0    0    0    0    0\n",
      "    0    0    0    0    0    0    0    0    0    0    0    0    0    0\n",
      "    0    0]\n",
      "+ label: ENTY (5)\n",
      "\n",
      "+ data : [   8   22    3    1 1004 3035 3036  193    0    0    0    0    0    0\n",
      "    0    0    0    0    0    0    0    0    0    0    0    0    0    0\n",
      "    0    0    0    0    0    0    0    0    0    0    0    0    0    0\n",
      "    0    0    0    0    0    0    0    0    0    0    0    0    0    0\n",
      "    0    0    0    0    0    0    0    0    0    0    0    0    0    0\n",
      "    0    0    0    0    0    0    0    0    0    0    0    0    0    0\n",
      "    0    0    0    0    0    0    0    0    0    0    0    0    0    0\n",
      "    0    0]\n",
      "+ label: ABBR (4)\n",
      "\n"
     ]
    }
   ],
   "source": [
    "#Your code here\n",
    "my_items = dm.tf_valid_set.take(5)\n",
    "counter = 0\n",
    "for data, label in my_items:\n",
    "    print(\"+ data : {}\".format(data))\n",
    "    print(\"+ label: {} ({})\\n\".format(dm.str_labels[counter], label))\n",
    "    counter += 1"
   ]
  },
  {
   "cell_type": "markdown",
   "metadata": {},
   "source": [
    "## <span style=\"color:#0b486b\">Part 2: Using Word2Vect to transform texts to vectors </span>\n",
    "\n",
    "<div style=\"text-align: right\"><span style=\"color:red; font-weight:bold\">[Total marks for this part: 20 points]<span></div>"
   ]
  },
  {
   "cell_type": "markdown",
   "metadata": {},
   "source": [
    "In this part, you will be assessed on how to use a pretrained Word2Vect model for realizing a machine learning task. Basically, you will use this pretrained Word2Vect to transform the questions in the above dataset stored in the *data manager object dm* to numeric form for training a Support Vector Machine in sckit-learn.  "
   ]
  },
  {
   "cell_type": "code",
   "execution_count": 10,
   "metadata": {},
   "outputs": [],
   "source": [
    "import gensim.downloader as api\n",
    "from gensim.models import Word2Vec\n",
    "from sklearn.svm import SVC\n",
    "from sklearn.preprocessing import MinMaxScaler\n",
    "from sklearn.metrics import accuracy_score"
   ]
  },
  {
   "cell_type": "markdown",
   "metadata": {},
   "source": [
    "#### <span style=\"color:red\">**Question 2.1**</span> \n",
    "**Write code to download the pretrained model *glove-wiki-gigaword-100*. Note that this model transforms a word in its dictionary to a $100$ dimensional vector.**\n",
    "\n",
    "<div style=\"text-align: right\"><span style=\"color:red\">[2 points]</span></div> "
   ]
  },
  {
   "cell_type": "code",
   "execution_count": 11,
   "metadata": {},
   "outputs": [],
   "source": [
    "word2vect = api.load(\"glove-wiki-gigaword-100\") "
   ]
  },
  {
   "cell_type": "markdown",
   "metadata": {},
   "source": [
    "#### <span style=\"color:red\">**Question 2.2**</span> \n",
    "\n",
    "**Write code for the function *get_word_vector(word, model)* used to transform a word to a vector using the pretrained Word2Vect model *model*. Note that for a word not in the vocabulary of our *word2vect*, you need to return a vector $0$ with 100 dimensions.**\n",
    "\n",
    "<div style=\"text-align: right\"><span style=\"color:red\">[3 points]</span></div> "
   ]
  },
  {
   "cell_type": "code",
   "execution_count": 12,
   "metadata": {},
   "outputs": [],
   "source": [
    "def get_word_vector(word, model):\n",
    "    try:\n",
    "        vector = model.get_vector(word) #Insert your code here\n",
    "    except: #word not in the vocabulary\n",
    "        vector = np.zeros(100) #Insert your code here\n",
    "    return vector"
   ]
  },
  {
   "cell_type": "markdown",
   "metadata": {},
   "source": [
    "#### <span style=\"color:red\">**Question 2.3**</span> \n",
    "\n",
    "**Write the code for the function `get_sentence_vector(sentence, important_score=None, model= None)`. Note that this function will transform a sentence to a 100-dimensional vector using the pretrained model *model*. In addition, the list *important_score* which has the same length as the *sentence* specifies the important scores of the words in the sentence. In your code, you first need to apply *softmax* function over *important_score* to obtain the important weight *important_weight* which forms a probability over the words of the sentence. Furthermore, the final vector of the sentence will be weighted sum of the individual vectors for words and the weights in *important_weight*.**\n",
    "- $important\\_weight = softmax(important\\_score)$.\n",
    "- $final\\_vector= important\\_weight[1]\\times v[1] + important\\_weight[2]\\times v[2] + ...+ important\\_weight[L]\\times v[L]$ where $L$ is the length of the sentence and $v[i]$ is the vector representation of the $i-th$  word in this sentence.\n",
    "\n",
    "**Note that if `important_score=None` is set by default, your function should return the average of all representation vectors corresponding to set `important_score=[1,1,...,1]`.**\n",
    "\n",
    "<div style=\"text-align: right\"><span style=\"color:red\">[5 points]</span></div> "
   ]
  },
  {
   "cell_type": "code",
   "execution_count": 13,
   "metadata": {},
   "outputs": [],
   "source": [
    "import math\n",
    "\n",
    "def get_sentence_vector(sentence, important_score=None, model= None):\n",
    "    #Insert your code here\n",
    "    # code for checking important score and make the corresponding adjustment \n",
    "    if important_score == None:\n",
    "        important_score = np.zeros(len(sentence))\n",
    "        for x in range(len(sentence)):\n",
    "            important_score[x] = 1\n",
    "  \n",
    "    important_weight = np.zeros(len(important_score))\n",
    "    sum_values = 0\n",
    "    for x in important_score:\n",
    "        sum_values += (math.exp(x))\n",
    "\n",
    "    for y in range(len(important_weight)):\n",
    "        important_weight[y] = math.exp(important_score[y])/sum_values\n",
    "    \n",
    "    \n",
    "    final_vector = 0\n",
    "    for z in range(len(sentence)):\n",
    "        final_vector += (important_weight[z] * get_word_vector(sentence[z], model))\n",
    "    \n",
    "    return final_vector"
   ]
  },
  {
   "cell_type": "markdown",
   "metadata": {},
   "source": [
    "#### <span style=\"color:red\">**Question 2.4**</span> \n",
    "\n",
    "**Write code to transform the training questions in *dm.train_str_questions* to feature vectors. Note that after running the following cell, you must have $X\\_train$ which is an numpy array of the feature vectors and $y\\_train$ which is an array of numeric labels (*Hint: dm.train_numeral_labels*). You can add more lines to the following cell if necessary. In addition, you should decide the *important_score* by yourself. For example, you might reckon that the 1st score is 1, the 2nd score is decayed by 0.9, the 3rd is decayed by 0.9, and so on.**\n",
    "\n",
    "<div style=\"text-align: right\"><span style=\"color:red\">[2 points]</span></div> "
   ]
  },
  {
   "cell_type": "code",
   "execution_count": 14,
   "metadata": {},
   "outputs": [
    {
     "name": "stdout",
     "output_type": "stream",
     "text": [
      "Transform training set to feature vectors...\n",
      "[[-0.40567002  0.2688511   0.12303752 ... -0.43452567  0.19864938\n",
      "  -0.16978675]\n",
      " [-0.28863415  0.30026314 -0.0052233  ... -0.45679647  0.19918853\n",
      "  -0.16561505]\n",
      " [-0.33047596  0.28323042  0.12037525 ... -0.42717263  0.20406398\n",
      "  -0.08336753]\n",
      " ...\n",
      " [-0.24968223  0.31919044  0.05838137 ... -0.47703868  0.19080877\n",
      "  -0.1612748 ]\n",
      " [-0.17755428  0.3741416   0.15206659 ... -0.44778585  0.20509894\n",
      "  -0.09373724]\n",
      " [-0.24023077  0.30256766  0.05137032 ... -0.4385511   0.14719903\n",
      "  -0.08514029]]\n",
      "[1 2 1 ... 2 2 2]\n"
     ]
    }
   ],
   "source": [
    "print(\"Transform training set to feature vectors...\")\n",
    "\n",
    "my_train_data = dm.train_str_questions\n",
    "X_train = []\n",
    "y_train = []\n",
    "for x in range(len(my_train_data)):\n",
    "    my_important_score = []\n",
    "    important_decay = 1\n",
    "    for _ in range(len(my_train_data[x])):\n",
    "        my_important_score.append(1 * important_decay)\n",
    "        important_decay *= 0.9 \n",
    "    X_train.append(get_sentence_vector(my_train_data[x], important_score=my_important_score, model= word2vect)) #Insert your code here\n",
    "    y_train.append(dm.train_numeral_labels[x]) #Insert your code here\n",
    "\n",
    "X_train = np.array(X_train)\n",
    "y_train = np.array(y_train)\n",
    "\n",
    "print(np.array(X_train))\n",
    "print(np.array(y_train))"
   ]
  },
  {
   "cell_type": "markdown",
   "metadata": {},
   "source": [
    "#### <span style=\"color:red\">**Question 2.5**</span> \n",
    "\n",
    "**Write code to transform the training questions in *dm.valid_str_questions* to feature vectors. Note that after running the following cell, you must have $X\\_valid$ which is an numpy array of the feature vectors and $y\\_valid$ which is an array of numeric labels (*Hint: dm.valid_numeral_labels*). You can add more lines to the following cell if necessary. In addition, you should decide the *important_score* by yourself. For example, you might reckon that the 1st score is 1, the 2nd score is decayed by 0.9, the 3rd is decayed by 0.9, and so on.**\n",
    "\n",
    "<div style=\"text-align: right\"><span style=\"color:red\">[2 points]</span></div> "
   ]
  },
  {
   "cell_type": "code",
   "execution_count": 15,
   "metadata": {},
   "outputs": [
    {
     "name": "stdout",
     "output_type": "stream",
     "text": [
      "Transform valid set to feature vectors...\n",
      "[[-0.23445489  0.3181257   0.12655434 ... -0.49905512  0.16277237\n",
      "  -0.05210152]\n",
      " [-0.3950443   0.3186724   0.12786128 ... -0.44719163  0.07332351\n",
      "  -0.06822883]\n",
      " [-0.27865553  0.30705094  0.03221839 ... -0.418756    0.24763444\n",
      "  -0.06873033]\n",
      " ...\n",
      " [-0.24255916  0.26358387  0.03819679 ... -0.4927542   0.09138148\n",
      "  -0.10298856]\n",
      " [-0.19213279  0.35176507  0.1104513  ... -0.48998827  0.11405569\n",
      "  -0.11363636]\n",
      " [-0.3453338   0.36885926  0.10538714 ... -0.4810923   0.1602331\n",
      "  -0.08486876]]\n",
      "[4 3 2 5 4 3 5 1 1 5 5 4 4 1 2 1 2 5 1 1 5 1 2 4 2 5 1 4 3 5 3 1 5 2 1 4 1\n",
      " 4 5 4 1 1 1 1 4 1 1 1 2 3 4 2 2 1 4 5 2 1 5 3 3 5 2 5 1 1 4 5 1 2 1 1 3 1\n",
      " 1 1 5 0 2 4 3 0 1 4 1 1 1 1 1 4 2 5 2 1 1 2 5 2 2 0 5 1 5 5 4 3 4 3 5 4 4\n",
      " 5 1 4 1 3 4 2 4 1 5 0 2 5 0 1 5 5 1 1 5 2 2 5 4 1 2 1 5 5 2 5 3 5 3 2 1 5\n",
      " 1 5 4 2 2 1 3 5 5 1 2 1 1 2 5 1 5 2 2 1 4 5 2 1 1 2 5 4 1 0 1 3 3 2 3 5 5\n",
      " 1 3 1 1 3 1 2 5 1 1 1 5 5 4 3 2 5 0 5 4 1 4 5 1 3 2 4 0 2 1 1 1 3 3 5 4 2\n",
      " 1 4 2 1 4 1 3 1 2 4 3 1 1 1 5 0 2 3 2 4 2 3 2 4 3 5 2 2 2 2 5 5 5 2 4 1 1\n",
      " 3 2 4 5 4 2 1 3 1 1 1 1 2 5 2 2 1 4 2 4 2 2 2 1 4 1 4 5 2 2 1 1 2 5 5 3 2\n",
      " 5 2 1]\n"
     ]
    }
   ],
   "source": [
    "print(\"Transform valid set to feature vectors...\")\n",
    "\n",
    "my_valid_data = dm.valid_str_questions\n",
    "X_valid = []\n",
    "y_valid = []\n",
    "for x in range(len(my_valid_data)):\n",
    "    my_important_score = []\n",
    "    important_decay = 1\n",
    "    for _ in range(len(my_valid_data[x])):\n",
    "        my_important_score.append(1 * important_decay)\n",
    "        important_decay *= 0.9 \n",
    "    X_valid.append(get_sentence_vector(my_valid_data[x], important_score=my_important_score, model= word2vect)) #Insert your code here\n",
    "    y_valid.append(dm.valid_numeral_labels[x]) #Insert your code here\n",
    "\n",
    "X_valid = np.array(X_valid)\n",
    "y_valid = np.array(y_valid)\n",
    "\n",
    "print(np.array(X_valid))\n",
    "print(np.array(y_valid))\n"
   ]
  },
  {
   "cell_type": "markdown",
   "metadata": {},
   "source": [
    "#### <span style=\"color:red\">**Question 2.6**</span> \n",
    "\n",
    "**It is now to use *MinMaxScaler(feature_range=(-1,1))* in sckit-learn to scale both training and valid sets to the range $(-1,1)$.**\n",
    "\n",
    "<div style=\"text-align: right\"><span style=\"color:red\">[2 points]</span></div> "
   ]
  },
  {
   "cell_type": "code",
   "execution_count": 16,
   "metadata": {},
   "outputs": [],
   "source": [
    "scaler = MinMaxScaler(feature_range=(-1,1))\n",
    "scaler.fit(X_train)\n",
    "X_train = scaler.transform(X_train)#Insert your code here\n",
    "scaler.fit(X_valid)\n",
    "X_valid = scaler.transform(X_valid)#Insert your code here"
   ]
  },
  {
   "cell_type": "markdown",
   "metadata": {},
   "source": [
    "#### <span style=\"color:red\">**Question 2.7**</span> \n",
    "\n",
    "**Declare a support vector machine (the class *SVC*  in sckit-learn) with RBF kernel, $C=1$, $gamma= 2^{-3}$ and fit on the training set.**\n",
    "\n",
    "<div style=\"text-align: right\"><span style=\"color:red\">[2 points]</span></div> "
   ]
  },
  {
   "cell_type": "code",
   "execution_count": 17,
   "metadata": {},
   "outputs": [
    {
     "data": {
      "text/html": [
       "<style>#sk-container-id-1 {color: black;}#sk-container-id-1 pre{padding: 0;}#sk-container-id-1 div.sk-toggleable {background-color: white;}#sk-container-id-1 label.sk-toggleable__label {cursor: pointer;display: block;width: 100%;margin-bottom: 0;padding: 0.3em;box-sizing: border-box;text-align: center;}#sk-container-id-1 label.sk-toggleable__label-arrow:before {content: \"▸\";float: left;margin-right: 0.25em;color: #696969;}#sk-container-id-1 label.sk-toggleable__label-arrow:hover:before {color: black;}#sk-container-id-1 div.sk-estimator:hover label.sk-toggleable__label-arrow:before {color: black;}#sk-container-id-1 div.sk-toggleable__content {max-height: 0;max-width: 0;overflow: hidden;text-align: left;background-color: #f0f8ff;}#sk-container-id-1 div.sk-toggleable__content pre {margin: 0.2em;color: black;border-radius: 0.25em;background-color: #f0f8ff;}#sk-container-id-1 input.sk-toggleable__control:checked~div.sk-toggleable__content {max-height: 200px;max-width: 100%;overflow: auto;}#sk-container-id-1 input.sk-toggleable__control:checked~label.sk-toggleable__label-arrow:before {content: \"▾\";}#sk-container-id-1 div.sk-estimator input.sk-toggleable__control:checked~label.sk-toggleable__label {background-color: #d4ebff;}#sk-container-id-1 div.sk-label input.sk-toggleable__control:checked~label.sk-toggleable__label {background-color: #d4ebff;}#sk-container-id-1 input.sk-hidden--visually {border: 0;clip: rect(1px 1px 1px 1px);clip: rect(1px, 1px, 1px, 1px);height: 1px;margin: -1px;overflow: hidden;padding: 0;position: absolute;width: 1px;}#sk-container-id-1 div.sk-estimator {font-family: monospace;background-color: #f0f8ff;border: 1px dotted black;border-radius: 0.25em;box-sizing: border-box;margin-bottom: 0.5em;}#sk-container-id-1 div.sk-estimator:hover {background-color: #d4ebff;}#sk-container-id-1 div.sk-parallel-item::after {content: \"\";width: 100%;border-bottom: 1px solid gray;flex-grow: 1;}#sk-container-id-1 div.sk-label:hover label.sk-toggleable__label {background-color: #d4ebff;}#sk-container-id-1 div.sk-serial::before {content: \"\";position: absolute;border-left: 1px solid gray;box-sizing: border-box;top: 0;bottom: 0;left: 50%;z-index: 0;}#sk-container-id-1 div.sk-serial {display: flex;flex-direction: column;align-items: center;background-color: white;padding-right: 0.2em;padding-left: 0.2em;position: relative;}#sk-container-id-1 div.sk-item {position: relative;z-index: 1;}#sk-container-id-1 div.sk-parallel {display: flex;align-items: stretch;justify-content: center;background-color: white;position: relative;}#sk-container-id-1 div.sk-item::before, #sk-container-id-1 div.sk-parallel-item::before {content: \"\";position: absolute;border-left: 1px solid gray;box-sizing: border-box;top: 0;bottom: 0;left: 50%;z-index: -1;}#sk-container-id-1 div.sk-parallel-item {display: flex;flex-direction: column;z-index: 1;position: relative;background-color: white;}#sk-container-id-1 div.sk-parallel-item:first-child::after {align-self: flex-end;width: 50%;}#sk-container-id-1 div.sk-parallel-item:last-child::after {align-self: flex-start;width: 50%;}#sk-container-id-1 div.sk-parallel-item:only-child::after {width: 0;}#sk-container-id-1 div.sk-dashed-wrapped {border: 1px dashed gray;margin: 0 0.4em 0.5em 0.4em;box-sizing: border-box;padding-bottom: 0.4em;background-color: white;}#sk-container-id-1 div.sk-label label {font-family: monospace;font-weight: bold;display: inline-block;line-height: 1.2em;}#sk-container-id-1 div.sk-label-container {text-align: center;}#sk-container-id-1 div.sk-container {/* jupyter's `normalize.less` sets `[hidden] { display: none; }` but bootstrap.min.css set `[hidden] { display: none !important; }` so we also need the `!important` here to be able to override the default hidden behavior on the sphinx rendered scikit-learn.org. See: https://github.com/scikit-learn/scikit-learn/issues/21755 */display: inline-block !important;position: relative;}#sk-container-id-1 div.sk-text-repr-fallback {display: none;}</style><div id=\"sk-container-id-1\" class=\"sk-top-container\"><div class=\"sk-text-repr-fallback\"><pre>SVC(C=1, gamma=0.125)</pre><b>In a Jupyter environment, please rerun this cell to show the HTML representation or trust the notebook. <br />On GitHub, the HTML representation is unable to render, please try loading this page with nbviewer.org.</b></div><div class=\"sk-container\" hidden><div class=\"sk-item\"><div class=\"sk-estimator sk-toggleable\"><input class=\"sk-toggleable__control sk-hidden--visually\" id=\"sk-estimator-id-1\" type=\"checkbox\" checked><label for=\"sk-estimator-id-1\" class=\"sk-toggleable__label sk-toggleable__label-arrow\">SVC</label><div class=\"sk-toggleable__content\"><pre>SVC(C=1, gamma=0.125)</pre></div></div></div></div></div>"
      ],
      "text/plain": [
       "SVC(C=1, gamma=0.125)"
      ]
     },
     "execution_count": 17,
     "metadata": {},
     "output_type": "execute_result"
    }
   ],
   "source": [
    "svm = SVC(kernel='rbf', C=1, gamma=2**-3)\n",
    "#Insert your code for fitting svm on X_train\n",
    "\n",
    "# Fit the classifier on the training data\n",
    "svm.fit(X_train, y_train)"
   ]
  },
  {
   "cell_type": "markdown",
   "metadata": {},
   "source": [
    "#### <span style=\"color:red\">**Question 2.8**</span> \n",
    "\n",
    "**Finally, we use the trained *svm* to evaluate on the valid set $X\\_valid$.**\n",
    "\n",
    "<div style=\"text-align: right\"><span style=\"color:red\">[2 points]</span></div> "
   ]
  },
  {
   "cell_type": "code",
   "execution_count": 18,
   "metadata": {},
   "outputs": [
    {
     "name": "stdout",
     "output_type": "stream",
     "text": [
      "0.822742474916388\n"
     ]
    }
   ],
   "source": [
    "y_valid_pred= svm.predict(X_valid) #Insert your code\n",
    "acc = accuracy_score(y_valid_pred, y_valid) #Insert your code\n",
    "print(acc)"
   ]
  },
  {
   "cell_type": "markdown",
   "metadata": {},
   "source": [
    "## <span style=\"color:#0b486b\">Part 3: Sentence representation with BERT and CLIP </span>\n",
    "\n",
    "<div style=\"text-align: right\"><span style=\"color:red; font-weight:bold\">[Total marks for this part: 15 points]<span></div>"
   ]
  },
  {
   "cell_type": "markdown",
   "metadata": {},
   "source": [
    "#### <span style=\"color:red\">**Question 3.1**</span>\n",
    "**Use a pretrained BERT model to extract feaure vectors for the training and valid sets. You should choose an appropriate pretrained BERT model that fits your computational resource.**\n",
    "<div style=\"text-align: right\"><span style=\"color:red\">[4 points]</span></div>"
   ]
  },
  {
   "cell_type": "code",
   "execution_count": 19,
   "metadata": {
    "scrolled": true
   },
   "outputs": [],
   "source": [
    "# !pip install -U tensorflow-text -q --progress-bar off\n",
    "# !pip install tf-models-official -q --progress-bar off\n"
   ]
  },
  {
   "cell_type": "code",
   "execution_count": 20,
   "metadata": {
    "scrolled": true
   },
   "outputs": [
    {
     "name": "stderr",
     "output_type": "stream",
     "text": [
      "C:\\Users\\ngyij\\anaconda3\\envs\\my_tf2\\lib\\site-packages\\tensorflow_addons\\utils\\tfa_eol_msg.py:23: UserWarning: \n",
      "\n",
      "TensorFlow Addons (TFA) has ended development and introduction of new features.\n",
      "TFA has entered a minimal maintenance and release mode until a planned end of life in May 2024.\n",
      "Please modify downstream libraries to take dependencies from other repositories in our TensorFlow community (e.g. Keras, Keras-CV, and Keras-NLP). \n",
      "\n",
      "For more information see: https://github.com/tensorflow/addons/issues/2807 \n",
      "\n",
      "  warnings.warn(\n",
      "C:\\Users\\ngyij\\anaconda3\\envs\\my_tf2\\lib\\site-packages\\tensorflow_addons\\utils\\ensure_tf_install.py:53: UserWarning: Tensorflow Addons supports using Python ops for all Tensorflow versions above or equal to 2.11.0 and strictly below 2.14.0 (nightly versions are not supported). \n",
      " The versions of TensorFlow you are currently using is 2.10.0 and is not supported. \n",
      "Some things might work, some things might not.\n",
      "If you were to encounter a bug, do not file an issue.\n",
      "If you want to make sure you're using a tested and supported configuration, either change the TensorFlow version or the TensorFlow Addons's version. \n",
      "You can find the compatibility matrix in TensorFlow Addon's readme:\n",
      "https://github.com/tensorflow/addons\n",
      "  warnings.warn(\n"
     ]
    }
   ],
   "source": [
    "import os\n",
    "import shutil\n",
    "import numpy as np\n",
    "\n",
    "import tensorflow as tf\n",
    "import tensorflow_hub as hub\n",
    "import tensorflow_text as text\n",
    "from official.nlp import optimization  # to create AdamW optimizer\n",
    "import matplotlib.pyplot as plt\n",
    "tf.get_logger().setLevel('ERROR')\n",
    "\n",
    "global_seed = 123\n",
    "np.random.seed(global_seed)\n",
    "tf.random.set_seed(global_seed)"
   ]
  },
  {
   "cell_type": "code",
   "execution_count": 21,
   "metadata": {},
   "outputs": [
    {
     "name": "stdout",
     "output_type": "stream",
     "text": [
      "BERT model selected           : https://tfhub.dev/tensorflow/small_bert/bert_en_uncased_L-2_H-128_A-2/1\n",
      "Preprocess model auto-selected: https://tfhub.dev/tensorflow/bert_en_uncased_preprocess/3\n"
     ]
    }
   ],
   "source": [
    "tfhub_handle_encoder = 'https://tfhub.dev/tensorflow/small_bert/bert_en_uncased_L-2_H-128_A-2/1'\n",
    "tfhub_handle_preprocess = 'https://tfhub.dev/tensorflow/bert_en_uncased_preprocess/3'\n",
    "\n",
    "print(f'BERT model selected           : {tfhub_handle_encoder}')\n",
    "print(f'Preprocess model auto-selected: {tfhub_handle_preprocess}')"
   ]
  },
  {
   "cell_type": "code",
   "execution_count": 22,
   "metadata": {},
   "outputs": [],
   "source": [
    "bert_preprocess_model = hub.KerasLayer(tfhub_handle_preprocess)\n",
    "\n",
    "train_text_preprocessed = bert_preprocess_model(dm.train_str_questions)\n",
    "valid_text_preprocessed = bert_preprocess_model(dm.valid_str_questions)"
   ]
  },
  {
   "cell_type": "code",
   "execution_count": 23,
   "metadata": {},
   "outputs": [],
   "source": [
    "bert_model = hub.KerasLayer(tfhub_handle_encoder)\n",
    "train_bert_results = bert_model(train_text_preprocessed)\n",
    "valid_bert_results = bert_model(valid_text_preprocessed)"
   ]
  },
  {
   "cell_type": "markdown",
   "metadata": {},
   "source": [
    "#### <span style=\"color:red\">**Question 3.2**</span>\n",
    "**Conduct a feed-forward neural network to train on the training set of feature vectors extracted from BERT and then evaluate on the valid set.**\n",
    "<div style=\"text-align: right\"><span style=\"color:red\">[4 points]</span></div>"
   ]
  },
  {
   "cell_type": "code",
   "execution_count": 24,
   "metadata": {},
   "outputs": [],
   "source": [
    "def build_classifier_model():\n",
    "    text_input = tf.keras.layers.Input(shape=(train_bert_results['pooled_output'].shape[1]))\n",
    "    net = text_input\n",
    "    net = tf.keras.layers.Dropout(0.1)(net)\n",
    "    net = tf.keras.layers.Dense(6, activation='softmax', name='classifier')(net)\n",
    "    return tf.keras.Model(text_input, net)"
   ]
  },
  {
   "cell_type": "code",
   "execution_count": 25,
   "metadata": {},
   "outputs": [],
   "source": [
    "classifier_model = build_classifier_model()"
   ]
  },
  {
   "cell_type": "code",
   "execution_count": 26,
   "metadata": {},
   "outputs": [],
   "source": [
    "epochs = 3\n",
    "steps_per_epoch = tf.data.experimental.cardinality(dm.tf_train_set).numpy()\n",
    "num_train_steps = steps_per_epoch * epochs\n",
    "num_warmup_steps = int(0.1*num_train_steps)\n",
    "\n",
    "init_lr = 3e-5\n",
    "optimizer = optimization.create_optimizer(init_lr=init_lr,\n",
    "                                          num_train_steps=num_train_steps,\n",
    "                                          num_warmup_steps=num_warmup_steps,\n",
    "                                          optimizer_type='adamw')"
   ]
  },
  {
   "cell_type": "code",
   "execution_count": 27,
   "metadata": {},
   "outputs": [
    {
     "name": "stdout",
     "output_type": "stream",
     "text": [
      "Epoch 1/3\n",
      "38/38 [==============================] - 0s 6ms/step - loss: 2.5102 - accuracy: 0.1182 - val_loss: 2.4563 - val_accuracy: 0.1906\n",
      "Epoch 2/3\n",
      "38/38 [==============================] - 0s 2ms/step - loss: 2.4957 - accuracy: 0.1182 - val_loss: 2.4426 - val_accuracy: 0.1906\n",
      "Epoch 3/3\n",
      "38/38 [==============================] - 0s 2ms/step - loss: 2.4687 - accuracy: 0.1207 - val_loss: 2.4202 - val_accuracy: 0.1906\n"
     ]
    }
   ],
   "source": [
    "classifier_model.compile(optimizer=optimizer,loss=\"sparse_categorical_crossentropy\", metrics=[\"accuracy\"])\n",
    "\n",
    "train_data = (train_bert_results['pooled_output'])\n",
    "valid_data = (valid_bert_results['pooled_output'])\n",
    "\n",
    "history = classifier_model.fit(x = train_data, y = dm.train_numeral_labels,\n",
    "                               validation_data=(valid_data, dm.valid_numeral_labels), \n",
    "                               epochs=epochs)\n"
   ]
  },
  {
   "cell_type": "code",
   "execution_count": 28,
   "metadata": {},
   "outputs": [
    {
     "name": "stdout",
     "output_type": "stream",
     "text": [
      "10/10 [==============================] - 0s 834us/step - loss: 2.4202 - accuracy: 0.1906\n",
      "Loss: 2.42022442817688\n",
      "Accuracy: 0.19063545763492584\n"
     ]
    }
   ],
   "source": [
    "loss, accuracy = classifier_model.evaluate(valid_data,  dm.valid_numeral_labels)\n",
    "print(f'Loss: {loss}')\n",
    "print(f'Accuracy: {accuracy}')"
   ]
  },
  {
   "cell_type": "markdown",
   "metadata": {},
   "source": [
    "#### <span style=\"color:red\">**Question 3.3**</span>\n",
    "**Use a pretrained CLIP model to extract feaure vectors for the training and valid sets. You should choose an appropriate pretrained CLIP model that fits your computational resource.**\n",
    "<div style=\"text-align: right\"><span style=\"color:red\">[4 points]</span></div>"
   ]
  },
  {
   "cell_type": "code",
   "execution_count": 29,
   "metadata": {},
   "outputs": [
    {
     "name": "stderr",
     "output_type": "stream",
     "text": [
      "C:\\Users\\ngyij\\anaconda3\\envs\\my_tf2\\lib\\site-packages\\tqdm\\auto.py:21: TqdmWarning: IProgress not found. Please update jupyter and ipywidgets. See https://ipywidgets.readthedocs.io/en/stable/user_install.html\n",
      "  from .autonotebook import tqdm as notebook_tqdm\n"
     ]
    }
   ],
   "source": [
    "# !pip install transformers\n",
    "from transformers import CLIPProcessor, CLIPModel\n",
    "from transformers import AutoTokenizer, CLIPModel\n",
    "\n",
    "model = CLIPModel.from_pretrained(\"openai/clip-vit-base-patch32\")"
   ]
  },
  {
   "cell_type": "code",
   "execution_count": 30,
   "metadata": {},
   "outputs": [],
   "source": [
    "tokenizer = AutoTokenizer.from_pretrained(\"openai/clip-vit-base-patch32\")\n",
    "train_inputs = tokenizer(dm.train_str_questions, padding=True, return_tensors=\"pt\")\n",
    "train_text_features = model.get_text_features(**train_inputs).detach().numpy()\n",
    "\n",
    "valid_inputs = tokenizer(dm.valid_str_questions, padding=True, return_tensors=\"pt\")\n",
    "valid_text_features = model.get_text_features(**valid_inputs).detach().numpy()\n"
   ]
  },
  {
   "cell_type": "markdown",
   "metadata": {},
   "source": [
    "#### <span style=\"color:red\">**Question 3.4**</span>\n",
    "**Conduct a feed-forward neural network to train on the training set of feature vectors extracted from CLIP and then evaluate on the valid set.**\n",
    "<div style=\"text-align: right\"><span style=\"color:red\">[3 points]</span></div>"
   ]
  },
  {
   "cell_type": "code",
   "execution_count": 31,
   "metadata": {},
   "outputs": [
    {
     "name": "stdout",
     "output_type": "stream",
     "text": [
      "Epoch 1/10\n",
      "30/30 [==============================] - 1s 7ms/step - loss: 1.3104 - accuracy: 0.5583 - val_loss: 0.8240 - val_accuracy: 0.8008\n",
      "Epoch 2/10\n",
      "30/30 [==============================] - 0s 2ms/step - loss: 0.6137 - accuracy: 0.8229 - val_loss: 0.4797 - val_accuracy: 0.8506\n",
      "Epoch 3/10\n",
      "30/30 [==============================] - 0s 2ms/step - loss: 0.3068 - accuracy: 0.9229 - val_loss: 0.3610 - val_accuracy: 0.8755\n",
      "Epoch 4/10\n",
      "30/30 [==============================] - 0s 2ms/step - loss: 0.1634 - accuracy: 0.9646 - val_loss: 0.3151 - val_accuracy: 0.8880\n",
      "Epoch 5/10\n",
      "30/30 [==============================] - 0s 2ms/step - loss: 0.0872 - accuracy: 0.9917 - val_loss: 0.3197 - val_accuracy: 0.8921\n",
      "Epoch 6/10\n",
      "30/30 [==============================] - 0s 2ms/step - loss: 0.0473 - accuracy: 0.9979 - val_loss: 0.2795 - val_accuracy: 0.9046\n",
      "Epoch 7/10\n",
      "30/30 [==============================] - 0s 2ms/step - loss: 0.0273 - accuracy: 0.9990 - val_loss: 0.2824 - val_accuracy: 0.8963\n",
      "Epoch 8/10\n",
      "30/30 [==============================] - 0s 2ms/step - loss: 0.0170 - accuracy: 1.0000 - val_loss: 0.2898 - val_accuracy: 0.8921\n",
      "Epoch 9/10\n",
      "30/30 [==============================] - 0s 2ms/step - loss: 0.0123 - accuracy: 1.0000 - val_loss: 0.2888 - val_accuracy: 0.9046\n",
      "Epoch 10/10\n",
      "30/30 [==============================] - 0s 2ms/step - loss: 0.0090 - accuracy: 1.0000 - val_loss: 0.2818 - val_accuracy: 0.9087\n"
     ]
    },
    {
     "data": {
      "text/plain": [
       "<keras.callbacks.History at 0x2443b37a970>"
      ]
     },
     "execution_count": 31,
     "metadata": {},
     "output_type": "execute_result"
    }
   ],
   "source": [
    "#Insert your code for training here\n",
    "import numpy as np\n",
    "import tensorflow as tf\n",
    "from tensorflow import keras\n",
    "from sklearn.metrics import accuracy_score\n",
    "\n",
    "nn_model = keras.Sequential([\n",
    "    keras.layers.Input(shape=train_text_features.shape[1]),\n",
    "    keras.layers.Dense(128, activation=\"relu\"),\n",
    "    keras.layers.Dense(64, activation=\"relu\"),\n",
    "    keras.layers.Dense(6, activation=\"softmax\")  \n",
    "])\n",
    "\n",
    "# Compile the model\n",
    "nn_model.compile(optimizer=\"adam\", loss=\"sparse_categorical_crossentropy\", metrics=[\"accuracy\"])\n",
    "\n",
    "epochs = 10  \n",
    "batch_size = 32\n",
    "nn_model.fit(train_text_features, dm.train_numeral_labels, epochs=epochs, batch_size=batch_size, validation_split=0.2)\n"
   ]
  },
  {
   "cell_type": "code",
   "execution_count": 32,
   "metadata": {},
   "outputs": [
    {
     "name": "stdout",
     "output_type": "stream",
     "text": [
      "10/10 [==============================] - 0s 946us/step\n",
      "Validation Accuracy:0.919732441471572\n"
     ]
    }
   ],
   "source": [
    "#Insert your code for testing here\n",
    "valid_predictions = nn_model.predict(valid_text_features)\n",
    "valid_predictions = np.argmax(valid_predictions, axis=-1)\n",
    "accuracy = accuracy_score(dm.valid_numeral_labels, valid_predictions)\n",
    "\n",
    "print(\"Validation Accuracy:{}\".format(accuracy))"
   ]
  },
  {
   "cell_type": "markdown",
   "metadata": {},
   "source": [
    "## <span style=\"color:#0b486b\">Part 4: RNNs for sequence modeling and neural embedding </span>\n",
    "\n",
    "<div style=\"text-align: right\"><span style=\"color:red; font-weight:bold\">[Total marks for this part: 60 points]<span></div>"
   ]
  },
  {
   "cell_type": "markdown",
   "metadata": {},
   "source": [
    "### <span style=\"color:#0b486b\">4.1. One-directional RNNs for sequence modeling and neural embedding </span> ###\n",
    "\n",
    "<div style=\"text-align: right\"><span style=\"color:red; font-weight:bold\">[Total marks for this part: 10 points]<span></div>"
   ]
  },
  {
   "cell_type": "markdown",
   "metadata": {},
   "source": [
    "#### <span style=\"color:red\">**Question 4.1.1**</span> \n",
    "**In this part, you need to construct an RNN to learn from the dataset of interest. Basically, you are required first to construct the class UniRNN (Uni-directional RNN) with the following requirements:**\n",
    "- Attribute `data_manager (self.data_manager)`: specifies the data manager used to store data for the model.\n",
    "- Attribute `cell_type (self.cell_type)`: can receive three values including `basic_rnn`, `gru`, and `lstm` which specifies the memory cells formed a hidden layer.\n",
    "- `state_sizes (self.state_sizes)` indicates the list of the hidden sizes  of memory cells. For example, $state\\_sizes = [64, 128]$ means that you have two hidden layers in your network with hidden sizes of $64$ and $128$ respectively.\n",
    "\n",
    "**Note that when declaring an embedding layer for the network, you need to set *mask_zero=True* so that the padding zeros in the sentences will be masked and ignored. This helps to have variable length RNNs. For more detail, you can refer to this [link](https://www.tensorflow.org/guide/keras/masking_and_padding).**\n",
    "\n",
    "<div style=\"text-align: right\"><span style=\"color:red\">[7 points]</span></div>"
   ]
  },
  {
   "cell_type": "code",
   "execution_count": 33,
   "metadata": {},
   "outputs": [],
   "source": [
    "class UniRNN:\n",
    "    def __init__(self, cell_type= 'gru', embed_size= 128, state_sizes= [128, 64], data_manager= None):\n",
    "        self.cell_type = cell_type\n",
    "        self.state_sizes = state_sizes\n",
    "        self.embed_size = embed_size\n",
    "        \n",
    "        self.data_manager = data_manager\n",
    "        self.vocab_size = self.data_manager.vocab_size +1 \n",
    "        self.word2idx = self.data_manager.word2idx\n",
    "        self.embed_matrix = np.zeros((self.vocab_size, self.embed_size))\n",
    "        \n",
    "        self.model = None\n",
    "        \n",
    "    #return the correspoding memory cell\n",
    "    @staticmethod\n",
    "    def get_layer(cell_type= 'gru', state_size= 128, return_sequences= False, activation = 'tanh'):\n",
    "        if cell_type=='gru':\n",
    "            return tf.keras.layers.GRU(state_size, return_sequences=return_sequences)\n",
    "        elif cell_type== 'lstm':\n",
    "            return tf.keras.layers.LSTM(state_size, return_sequences=return_sequences)\n",
    "        else:\n",
    "            return tf.keras.layers.SimpleRNN(state_size, return_sequences=return_sequences)\n",
    "    \n",
    "    def build(self):\n",
    "        x = tf.keras.layers.Input(shape=[None])\n",
    "        self.embedding_layer = tf.keras.layers.Embedding(self.vocab_size, self.embed_size, mask_zero=True, trainable=True)\n",
    "        h = self.embedding_layer(x)\n",
    "        num_layers = len(self.state_sizes)\n",
    "        for i in range(num_layers):\n",
    "            if i != num_layers-1:\n",
    "                h = self.get_layer(cell_type= self.cell_type, state_size= self.state_sizes[i], return_sequences= True)(h)\n",
    "            else:\n",
    "                h = self.get_layer(cell_type= self.cell_type, state_size= self.state_sizes[i])(h)\n",
    "        h = tf.keras.layers.Dense(dm.num_classes, activation='softmax')(h)\n",
    "        self.model = tf.keras.Model(inputs=x, outputs=h)\n",
    "   \n",
    "    def compile_model(self, *args, **kwargs):\n",
    "        self.model.compile(*args, **kwargs)\n",
    "    \n",
    "    def fit(self, *args, **kwargs):\n",
    "        return self.model.fit(*args, **kwargs)\n",
    "    \n",
    "    def evaluate(self, *args, **kwargs):\n",
    "        self.model.evaluate(*args, **kwargs)       \n"
   ]
  },
  {
   "cell_type": "markdown",
   "metadata": {},
   "source": [
    "#### <span style=\"color:red\">**Question 4.1.2**</span> \n",
    "**Run with basic RNN ('basic_rnn') cell with $embed\\_size= 128, state\\_sizes= [64, 128], data\\_manager= dm$.**\n",
    "\n",
    "<div style=\"text-align: right\"><span style=\"color:red\">[1 points]</span></div>"
   ]
  },
  {
   "cell_type": "code",
   "execution_count": 34,
   "metadata": {},
   "outputs": [
    {
     "name": "stdout",
     "output_type": "stream",
     "text": [
      "Epoch 1/10\n",
      "19/19 [==============================] - 3s 74ms/step - loss: 1.0381 - accuracy: 0.6386 - val_loss: 0.4139 - val_accuracy: 0.9030\n",
      "Epoch 2/10\n",
      "19/19 [==============================] - 1s 60ms/step - loss: 0.2185 - accuracy: 0.9500 - val_loss: 0.2415 - val_accuracy: 0.9365\n",
      "Epoch 3/10\n",
      "19/19 [==============================] - 1s 61ms/step - loss: 0.1056 - accuracy: 0.9725 - val_loss: 0.2295 - val_accuracy: 0.9365\n",
      "Epoch 4/10\n",
      "19/19 [==============================] - 1s 60ms/step - loss: 0.0580 - accuracy: 0.9875 - val_loss: 0.1835 - val_accuracy: 0.9398\n",
      "Epoch 5/10\n",
      "19/19 [==============================] - 1s 59ms/step - loss: 0.0179 - accuracy: 0.9958 - val_loss: 0.1683 - val_accuracy: 0.9532\n",
      "Epoch 6/10\n",
      "19/19 [==============================] - 1s 60ms/step - loss: 0.0381 - accuracy: 0.9900 - val_loss: 0.3058 - val_accuracy: 0.9164\n",
      "Epoch 7/10\n",
      "19/19 [==============================] - 1s 60ms/step - loss: 0.0085 - accuracy: 0.9992 - val_loss: 0.1032 - val_accuracy: 0.9632\n",
      "Epoch 8/10\n",
      "19/19 [==============================] - 1s 60ms/step - loss: 0.0022 - accuracy: 1.0000 - val_loss: 0.1599 - val_accuracy: 0.9599\n",
      "Epoch 9/10\n",
      "19/19 [==============================] - 1s 60ms/step - loss: 0.0012 - accuracy: 1.0000 - val_loss: 0.1296 - val_accuracy: 0.9699\n",
      "Epoch 10/10\n",
      "19/19 [==============================] - 1s 59ms/step - loss: 5.6928e-04 - accuracy: 1.0000 - val_loss: 0.1417 - val_accuracy: 0.9632\n"
     ]
    },
    {
     "data": {
      "text/plain": [
       "<keras.callbacks.History at 0x244cb204c40>"
      ]
     },
     "execution_count": 34,
     "metadata": {},
     "output_type": "execute_result"
    }
   ],
   "source": [
    "uni_rnn = UniRNN(cell_type= 'basic_rnn', embed_size= 128, state_sizes= [64,128], data_manager= dm)\n",
    "uni_rnn.build()\n",
    "opt = tf.keras.optimizers.RMSprop(learning_rate=0.001)\n",
    "uni_rnn.compile_model(optimizer=opt, loss='sparse_categorical_crossentropy', metrics=['accuracy'])\n",
    "uni_rnn.fit(dm.tf_train_set.batch(64), epochs=10, validation_data = dm.tf_valid_set.batch(64))"
   ]
  },
  {
   "cell_type": "markdown",
   "metadata": {},
   "source": [
    "#### <span style=\"color:red\">**Question 4.1.3**</span> \n",
    "**Run with GRU ('gru') cell with $embed\\_size= 128, state\\_sizes= [64, 128], data\\_manager= dm$.**\n",
    "\n",
    "<div style=\"text-align: right\"><span style=\"color:red\">[1 points]</span></div>"
   ]
  },
  {
   "cell_type": "code",
   "execution_count": 35,
   "metadata": {},
   "outputs": [
    {
     "name": "stdout",
     "output_type": "stream",
     "text": [
      "Epoch 1/10\n",
      "19/19 [==============================] - 7s 171ms/step - loss: 1.5809 - accuracy: 0.3514 - val_loss: 1.1088 - val_accuracy: 0.6054\n",
      "Epoch 2/10\n",
      "19/19 [==============================] - 2s 95ms/step - loss: 0.6956 - accuracy: 0.7410 - val_loss: 0.4939 - val_accuracy: 0.8562\n",
      "Epoch 3/10\n",
      "19/19 [==============================] - 2s 95ms/step - loss: 0.2301 - accuracy: 0.9351 - val_loss: 0.2653 - val_accuracy: 0.9097\n",
      "Epoch 4/10\n",
      "19/19 [==============================] - 2s 95ms/step - loss: 0.1082 - accuracy: 0.9642 - val_loss: 0.1951 - val_accuracy: 0.9197\n",
      "Epoch 5/10\n",
      "19/19 [==============================] - 2s 95ms/step - loss: 0.0418 - accuracy: 0.9900 - val_loss: 0.2181 - val_accuracy: 0.9431\n",
      "Epoch 6/10\n",
      "19/19 [==============================] - 2s 95ms/step - loss: 0.0190 - accuracy: 0.9958 - val_loss: 0.1791 - val_accuracy: 0.9398\n",
      "Epoch 7/10\n",
      "19/19 [==============================] - 2s 95ms/step - loss: 0.0104 - accuracy: 0.9983 - val_loss: 0.1771 - val_accuracy: 0.9398\n",
      "Epoch 8/10\n",
      "19/19 [==============================] - 2s 95ms/step - loss: 0.0168 - accuracy: 0.9958 - val_loss: 0.1877 - val_accuracy: 0.9565\n",
      "Epoch 9/10\n",
      "19/19 [==============================] - 2s 95ms/step - loss: 0.0014 - accuracy: 1.0000 - val_loss: 0.2031 - val_accuracy: 0.9565\n",
      "Epoch 10/10\n",
      "19/19 [==============================] - 2s 98ms/step - loss: 7.1578e-04 - accuracy: 1.0000 - val_loss: 0.2198 - val_accuracy: 0.9565\n"
     ]
    },
    {
     "data": {
      "text/plain": [
       "<keras.callbacks.History at 0x244cbca9d60>"
      ]
     },
     "execution_count": 35,
     "metadata": {},
     "output_type": "execute_result"
    }
   ],
   "source": [
    "uni_rnn = UniRNN(cell_type= 'gru', embed_size= 128, state_sizes= [64,128], data_manager= dm)\n",
    "uni_rnn.build()\n",
    "opt = tf.keras.optimizers.RMSprop(learning_rate=0.001)\n",
    "uni_rnn.compile_model(optimizer=opt, loss='sparse_categorical_crossentropy', metrics=['accuracy'])\n",
    "uni_rnn.fit(dm.tf_train_set.batch(64), epochs=10, validation_data = dm.tf_valid_set.batch(64))"
   ]
  },
  {
   "cell_type": "markdown",
   "metadata": {},
   "source": [
    "#### <span style=\"color:red\">**Question 4.1.4**</span> \n",
    "**Run with LSTM ('lstm') cell with $embed\\_size= 128, state\\_sizes= [64, 128], data\\_manager= dm$.**\n",
    "\n",
    "<div style=\"text-align: right\"><span style=\"color:red\">[1 points]</span></div>"
   ]
  },
  {
   "cell_type": "code",
   "execution_count": 36,
   "metadata": {},
   "outputs": [
    {
     "name": "stdout",
     "output_type": "stream",
     "text": [
      "Epoch 1/10\n",
      "19/19 [==============================] - 7s 176ms/step - loss: 1.4114 - accuracy: 0.4771 - val_loss: 0.9502 - val_accuracy: 0.8194\n",
      "Epoch 2/10\n",
      "19/19 [==============================] - 2s 104ms/step - loss: 0.4285 - accuracy: 0.9026 - val_loss: 0.3325 - val_accuracy: 0.9097\n",
      "Epoch 3/10\n",
      "19/19 [==============================] - 2s 105ms/step - loss: 0.1793 - accuracy: 0.9409 - val_loss: 0.2080 - val_accuracy: 0.9130\n",
      "Epoch 4/10\n",
      "19/19 [==============================] - 2s 104ms/step - loss: 0.1045 - accuracy: 0.9675 - val_loss: 0.1735 - val_accuracy: 0.9431\n",
      "Epoch 5/10\n",
      "19/19 [==============================] - 2s 110ms/step - loss: 0.0629 - accuracy: 0.9867 - val_loss: 0.1494 - val_accuracy: 0.9431\n",
      "Epoch 6/10\n",
      "19/19 [==============================] - 2s 105ms/step - loss: 0.0352 - accuracy: 0.9908 - val_loss: 0.1060 - val_accuracy: 0.9632\n",
      "Epoch 7/10\n",
      "19/19 [==============================] - 2s 105ms/step - loss: 0.0168 - accuracy: 0.9992 - val_loss: 0.1351 - val_accuracy: 0.9565\n",
      "Epoch 8/10\n",
      "19/19 [==============================] - 2s 104ms/step - loss: 0.0078 - accuracy: 0.9992 - val_loss: 0.1461 - val_accuracy: 0.9599\n",
      "Epoch 9/10\n",
      "19/19 [==============================] - 2s 104ms/step - loss: 0.0042 - accuracy: 0.9992 - val_loss: 0.2224 - val_accuracy: 0.9599\n",
      "Epoch 10/10\n",
      "19/19 [==============================] - 2s 104ms/step - loss: 0.0240 - accuracy: 0.9958 - val_loss: 0.1365 - val_accuracy: 0.9699\n"
     ]
    },
    {
     "data": {
      "text/plain": [
       "<keras.callbacks.History at 0x244cb87bd90>"
      ]
     },
     "execution_count": 36,
     "metadata": {},
     "output_type": "execute_result"
    }
   ],
   "source": [
    "uni_rnn = UniRNN(cell_type= 'lstm', embed_size= 128, state_sizes= [64,128], data_manager= dm)\n",
    "uni_rnn.build()\n",
    "opt = tf.keras.optimizers.RMSprop(learning_rate=0.001)\n",
    "uni_rnn.compile_model(optimizer=opt, loss='sparse_categorical_crossentropy', metrics=['accuracy'])\n",
    "uni_rnn.fit(dm.tf_train_set.batch(64), epochs=10, validation_data = dm.tf_valid_set.batch(64))"
   ]
  },
  {
   "cell_type": "markdown",
   "metadata": {},
   "source": [
    "### <span style=\"color:#0b486b\">4.2. Bi-directional RNNs for sequence modeling and neural embedding </span> ###\n",
    "\n",
    "<div style=\"text-align: right\"><span style=\"color:red; font-weight:bold\">[Total marks for this part: 10 points]<span></div>"
   ]
  },
  {
   "cell_type": "markdown",
   "metadata": {},
   "source": [
    "#### <span style=\"color:red\">**Question 4.2.1**</span> \n",
    "**In what follow, you will investigate BiRNN. The task is similar to Part 5.1 but you need to write the code for an BiRNN. Note that the function *get_layer(cell_type= 'gru', state_size= 128, return_sequences= False, activation = 'tanh')* has to return the hidden layer with bidirectional memory cells (e.g., Basic RNN, GRU, and LSTM cells).**\n",
    "\n",
    "**Complete the code of the class *BiRNN*. Note that for the embedding layer you need to set *mask_zero=True*.**\n",
    "\n",
    "<div style=\"text-align: right\"><span style=\"color:red\">[7 points]</span></div>"
   ]
  },
  {
   "cell_type": "code",
   "execution_count": 37,
   "metadata": {},
   "outputs": [],
   "source": [
    "class BiRNN:\n",
    "    def __init__(self, cell_type= 'gru', embed_size= 128, state_sizes= [128, 64], data_manager= None):\n",
    "        self.cell_type = cell_type\n",
    "        self.state_sizes = state_sizes\n",
    "        self.embed_size = embed_size\n",
    "        \n",
    "        self.data_manager = data_manager\n",
    "        self.vocab_size = self.data_manager.vocab_size +1 \n",
    "        self.word2idx = self.data_manager.word2idx\n",
    "        self.embed_matrix = np.zeros((self.vocab_size, self.embed_size))\n",
    "        \n",
    "        self.model = None\n",
    "        \n",
    "    @staticmethod\n",
    "    def get_layer(cell_type= 'gru', state_size= 128, return_sequences= False, activation = 'tanh'):\n",
    "        if cell_type=='gru':\n",
    "            return tf.keras.layers.Bidirectional(tf.keras.layers.GRU(state_size, return_sequences=return_sequences))\n",
    "        elif cell_type== 'lstm':\n",
    "            return tf.keras.layers.Bidirectional(tf.keras.layers.LSTM(state_size, return_sequences=return_sequences))\n",
    "        else:\n",
    "            return tf.keras.layers.Bidirectional(tf.keras.layers.SimpleRNN(state_size, return_sequences=return_sequences))\n",
    "    \n",
    "    def build(self):\n",
    "        x = tf.keras.layers.Input(shape=[None])\n",
    "        self.embedding_layer = tf.keras.layers.Embedding(self.vocab_size, self.embed_size, mask_zero=True, trainable=True)\n",
    "        h = self.embedding_layer(x)\n",
    "        num_layers = len(self.state_sizes)\n",
    "        for i in range(num_layers):\n",
    "            if i != num_layers-1:\n",
    "                h = self.get_layer(cell_type= self.cell_type, state_size= self.state_sizes[i], return_sequences= True)(h)\n",
    "            else:\n",
    "                h = self.get_layer(cell_type= self.cell_type, state_size= self.state_sizes[i])(h)\n",
    "        h = tf.keras.layers.Dense(dm.num_classes, activation='softmax')(h)\n",
    "        self.model = tf.keras.Model(inputs=x, outputs=h)\n",
    "        \n",
    "    \n",
    "    def compile_model(self, *args, **kwargs):\n",
    "        self.model.compile(*args, **kwargs)\n",
    "    \n",
    "    def fit(self, *args, **kwargs):\n",
    "        return self.model.fit(*args, **kwargs)\n",
    "    \n",
    "    def evaluate(self, *args, **kwargs):\n",
    "        self.model.evaluate(*args, **kwargs)       \n"
   ]
  },
  {
   "cell_type": "markdown",
   "metadata": {},
   "source": [
    "#### <span style=\"color:red\">**Question 4.2.2**</span> \n",
    "**Run BiRNN for basic RNN ('basic_rnn') cell with $embed\\_size= 128, state\\_sizes= [64, 128], data\\_manager= dm$.**\n",
    "\n",
    "<div style=\"text-align: right\"><span style=\"color:red\">[1 points]</span></div>"
   ]
  },
  {
   "cell_type": "code",
   "execution_count": 38,
   "metadata": {},
   "outputs": [
    {
     "name": "stdout",
     "output_type": "stream",
     "text": [
      "Epoch 1/10\n",
      "19/19 [==============================] - 5s 134ms/step - loss: 0.6736 - accuracy: 0.7927 - val_loss: 0.2606 - val_accuracy: 0.9231\n",
      "Epoch 2/10\n",
      "19/19 [==============================] - 2s 116ms/step - loss: 0.1013 - accuracy: 0.9675 - val_loss: 0.1497 - val_accuracy: 0.9599\n",
      "Epoch 3/10\n",
      "19/19 [==============================] - 2s 116ms/step - loss: 0.0221 - accuracy: 0.9983 - val_loss: 0.1113 - val_accuracy: 0.9666\n",
      "Epoch 4/10\n",
      "19/19 [==============================] - 2s 116ms/step - loss: 0.0045 - accuracy: 1.0000 - val_loss: 0.1263 - val_accuracy: 0.9599\n",
      "Epoch 5/10\n",
      "19/19 [==============================] - 2s 116ms/step - loss: 0.0011 - accuracy: 1.0000 - val_loss: 0.1274 - val_accuracy: 0.9565\n",
      "Epoch 6/10\n",
      "19/19 [==============================] - 2s 116ms/step - loss: 3.4850e-04 - accuracy: 1.0000 - val_loss: 0.1287 - val_accuracy: 0.9632\n",
      "Epoch 7/10\n",
      "19/19 [==============================] - 2s 117ms/step - loss: 1.1648e-04 - accuracy: 1.0000 - val_loss: 0.1389 - val_accuracy: 0.9632\n",
      "Epoch 8/10\n",
      "19/19 [==============================] - 2s 117ms/step - loss: 4.0418e-05 - accuracy: 1.0000 - val_loss: 0.1510 - val_accuracy: 0.9666\n",
      "Epoch 9/10\n",
      "19/19 [==============================] - 2s 119ms/step - loss: 1.4472e-05 - accuracy: 1.0000 - val_loss: 0.1650 - val_accuracy: 0.9632\n",
      "Epoch 10/10\n",
      "19/19 [==============================] - 2s 117ms/step - loss: 5.3209e-06 - accuracy: 1.0000 - val_loss: 0.1807 - val_accuracy: 0.9632\n"
     ]
    },
    {
     "data": {
      "text/plain": [
       "<keras.callbacks.History at 0x24513066640>"
      ]
     },
     "execution_count": 38,
     "metadata": {},
     "output_type": "execute_result"
    }
   ],
   "source": [
    "bi_rnn = BiRNN(cell_type= 'basic_rnn', embed_size= 128, state_sizes= [64,128], data_manager= dm)\n",
    "bi_rnn.build()\n",
    "opt = tf.keras.optimizers.RMSprop(learning_rate=0.001)\n",
    "bi_rnn.compile_model(optimizer=opt, loss='sparse_categorical_crossentropy', metrics=['accuracy'])\n",
    "bi_rnn.fit(dm.tf_train_set.batch(64), epochs=10, validation_data = dm.tf_valid_set.batch(64))"
   ]
  },
  {
   "cell_type": "markdown",
   "metadata": {},
   "source": [
    "#### <span style=\"color:red\">**Question 4.2.3**</span> \n",
    "**Run BiRNN for GRU ('gru') cell with $embed\\_size= 128, state\\_sizes= [64, 128], data\\_manager= dm$.**\n",
    "\n",
    "<div style=\"text-align: right\"><span style=\"color:red\">[1 points]</span></div>"
   ]
  },
  {
   "cell_type": "code",
   "execution_count": 39,
   "metadata": {},
   "outputs": [
    {
     "name": "stdout",
     "output_type": "stream",
     "text": [
      "Epoch 1/10\n",
      "19/19 [==============================] - 14s 350ms/step - loss: 1.2932 - accuracy: 0.5529 - val_loss: 0.8426 - val_accuracy: 0.6990\n",
      "Epoch 2/10\n",
      "19/19 [==============================] - 4s 187ms/step - loss: 0.3694 - accuracy: 0.8934 - val_loss: 0.3629 - val_accuracy: 0.8963\n",
      "Epoch 3/10\n",
      "19/19 [==============================] - 4s 188ms/step - loss: 0.1163 - accuracy: 0.9642 - val_loss: 0.2734 - val_accuracy: 0.9130\n",
      "Epoch 4/10\n",
      "19/19 [==============================] - 4s 187ms/step - loss: 0.0429 - accuracy: 0.9900 - val_loss: 0.5246 - val_accuracy: 0.8930\n",
      "Epoch 5/10\n",
      "19/19 [==============================] - 4s 190ms/step - loss: 0.0227 - accuracy: 0.9950 - val_loss: 0.1718 - val_accuracy: 0.9532\n",
      "Epoch 6/10\n",
      "19/19 [==============================] - 4s 187ms/step - loss: 0.0025 - accuracy: 1.0000 - val_loss: 0.1594 - val_accuracy: 0.9565\n",
      "Epoch 7/10\n",
      "19/19 [==============================] - 4s 187ms/step - loss: 7.8231e-04 - accuracy: 1.0000 - val_loss: 0.1767 - val_accuracy: 0.9532\n",
      "Epoch 8/10\n",
      "19/19 [==============================] - 4s 187ms/step - loss: 2.5602e-04 - accuracy: 1.0000 - val_loss: 0.1962 - val_accuracy: 0.9565\n",
      "Epoch 9/10\n",
      "19/19 [==============================] - 4s 191ms/step - loss: 8.2154e-05 - accuracy: 1.0000 - val_loss: 0.2166 - val_accuracy: 0.9565\n",
      "Epoch 10/10\n",
      "19/19 [==============================] - 4s 187ms/step - loss: 2.7730e-05 - accuracy: 1.0000 - val_loss: 0.2447 - val_accuracy: 0.9565\n"
     ]
    },
    {
     "data": {
      "text/plain": [
       "<keras.callbacks.History at 0x2451afd1460>"
      ]
     },
     "execution_count": 39,
     "metadata": {},
     "output_type": "execute_result"
    }
   ],
   "source": [
    "bi_rnn = BiRNN(cell_type= 'gru', embed_size= 128, state_sizes= [64,128], data_manager= dm)\n",
    "bi_rnn.build()\n",
    "opt = tf.keras.optimizers.RMSprop(learning_rate=0.001)\n",
    "bi_rnn.compile_model(optimizer=opt, loss='sparse_categorical_crossentropy', metrics=['accuracy'])\n",
    "bi_rnn.fit(dm.tf_train_set.batch(64), epochs=10, validation_data = dm.tf_valid_set.batch(64))"
   ]
  },
  {
   "cell_type": "markdown",
   "metadata": {},
   "source": [
    "#### <span style=\"color:red\">**Question 4.2.4**</span> \n",
    "**Run BiRNN for LSTM ('lstm') cell with $embed\\_size= 128, state\\_sizes= [64, 128], data\\_manager= dm$.**\n",
    "\n",
    "<div style=\"text-align: right\"><span style=\"color:red\">[1 points]</span></div>"
   ]
  },
  {
   "cell_type": "code",
   "execution_count": 40,
   "metadata": {},
   "outputs": [
    {
     "name": "stdout",
     "output_type": "stream",
     "text": [
      "Epoch 1/10\n",
      "19/19 [==============================] - 14s 359ms/step - loss: 1.3887 - accuracy: 0.4846 - val_loss: 1.0150 - val_accuracy: 0.7726\n",
      "Epoch 2/10\n",
      "19/19 [==============================] - 4s 187ms/step - loss: 0.5261 - accuracy: 0.8501 - val_loss: 0.4911 - val_accuracy: 0.8094\n",
      "Epoch 3/10\n",
      "19/19 [==============================] - 4s 187ms/step - loss: 0.2039 - accuracy: 0.9417 - val_loss: 0.4061 - val_accuracy: 0.8930\n",
      "Epoch 4/10\n",
      "19/19 [==============================] - 4s 187ms/step - loss: 0.0615 - accuracy: 0.9850 - val_loss: 0.2571 - val_accuracy: 0.9365\n",
      "Epoch 5/10\n",
      "19/19 [==============================] - 4s 190ms/step - loss: 0.0199 - accuracy: 0.9958 - val_loss: 0.2426 - val_accuracy: 0.9498\n",
      "Epoch 6/10\n",
      "19/19 [==============================] - 4s 187ms/step - loss: 0.0407 - accuracy: 0.9925 - val_loss: 0.2529 - val_accuracy: 0.9565\n",
      "Epoch 7/10\n",
      "19/19 [==============================] - 4s 187ms/step - loss: 0.0042 - accuracy: 1.0000 - val_loss: 0.2494 - val_accuracy: 0.9565\n",
      "Epoch 8/10\n",
      "19/19 [==============================] - 4s 188ms/step - loss: 0.0019 - accuracy: 1.0000 - val_loss: 0.2660 - val_accuracy: 0.9565\n",
      "Epoch 9/10\n",
      "19/19 [==============================] - 4s 195ms/step - loss: 8.9681e-04 - accuracy: 1.0000 - val_loss: 0.2878 - val_accuracy: 0.9532\n",
      "Epoch 10/10\n",
      "19/19 [==============================] - 4s 188ms/step - loss: 3.6818e-04 - accuracy: 1.0000 - val_loss: 0.3145 - val_accuracy: 0.9532\n"
     ]
    },
    {
     "data": {
      "text/plain": [
       "<keras.callbacks.History at 0x24518bf8f10>"
      ]
     },
     "execution_count": 40,
     "metadata": {},
     "output_type": "execute_result"
    }
   ],
   "source": [
    "bi_rnn = BiRNN(cell_type= 'lstm', embed_size= 128, state_sizes= [64,128], data_manager= dm)\n",
    "bi_rnn.build()\n",
    "opt = tf.keras.optimizers.RMSprop(learning_rate=0.001)\n",
    "bi_rnn.compile_model(optimizer=opt, loss='sparse_categorical_crossentropy', metrics=['accuracy'])\n",
    "bi_rnn.fit(dm.tf_train_set.batch(64), epochs=10, validation_data = dm.tf_valid_set.batch(64))"
   ]
  },
  {
   "cell_type": "markdown",
   "metadata": {},
   "source": [
    "### <span style=\"color:#0b486b\">4.3. RNNs with various types, cells, and fine-tuning embedding matrix for sequence modeling and neural embedding </span> ###\n",
    "\n",
    "<div style=\"text-align: right\"><span style=\"color:red; font-weight:bold\">[Total marks for this part: 10 points]<span></div>"
   ]
  },
  {
   "cell_type": "markdown",
   "metadata": {},
   "source": [
    "#### <span style=\"color:red\">**Question 4.3.1**</span> \n",
    "\n",
    "**In what follows, you are required to combine the code in Part 1 and Part 2 to gain a general RNN which can be either Uni-directional RNN or Bi-directional RNN and the embedding matrix can be initialized using a pretrained Word2Vect.**\n",
    "\n",
    "**Below are the descriptions of the attributes of the class *RNN*:**\n",
    "- `run_mode (self.run_mode)` has three values (scratch, init-only, and init-fine-tune).\n",
    "  - `scratch` means training the embedding matrix from scratch.\n",
    "  - `init-only` means only initializing the embedding matrix with a pretrained Word2Vect but **not further doing** fine-tuning that matrix.\n",
    "  - `init-fine-tune` means both initializing the embedding matrix with a pretrained Word2Vect and **further doing** fine-tuning that matrix.\n",
    "- `network_type (self.network_type)` has two values (uni-directional and bi-directional) which correspond to either Uni-directional RNN or Bi-directional RNN.\n",
    "- `cell_type (self.cell_type)` has three values (simple-rnn, gru, and lstm) which specify the memory cell used in the network.\n",
    "- `embed_model (self.embed_model)` specifes the pretrained Word2Vect model used.\n",
    "-  `embed_size (self.embed_size)` specifes the embedding size. Note that when run_mode is either init-only' or 'init-fine-tune', this embedding size is extracted from embed_model for dimension compatability.\n",
    "- `state_sizes (self.state_sizes)` indicates the list of the hidden sizes  of memory cells. For example, $state\\_sizes = [64, 128]$ means that you have two hidden layers in your network with hidden sizes of $64$ and $128$ respectively.\n",
    "\n",
    "**Complete the code of the class *RNN*.**\n",
    "\n",
    "<div style=\"text-align: right\"><span style=\"color:red\">[6 points]</span></div>"
   ]
  },
  {
   "cell_type": "code",
   "execution_count": 41,
   "metadata": {},
   "outputs": [],
   "source": [
    "class RNN:\n",
    "    def __init__(self, run_mode = 'scratch', cell_type= 'gru', network_type = 'uni-directional', embed_model= 'glove-wiki-gigaword-100', \n",
    "                 embed_size= 128, state_sizes = [64, 64], data_manager = None):\n",
    "        self.run_mode = run_mode\n",
    "        self.data_manager = data_manager\n",
    "        self.cell_type = cell_type\n",
    "        self.network_type = network_type\n",
    "        self.state_sizes = state_sizes\n",
    "        self.embed_model = embed_model\n",
    "        self.embed_size = embed_size\n",
    "        if self.run_mode != 'scratch':\n",
    "            self.embed_size = int(self.embed_model.split(\"-\")[-1])\n",
    "        self.data_manager = data_manager\n",
    "        self.vocab_size = dm.vocab_size +1\n",
    "        self.word2idx = dm.word2idx\n",
    "        self.word2vect = api.load(self.embed_model) \n",
    "        self.embed_matrix = np.zeros(shape= [self.vocab_size, self.embed_size])\n",
    "    \n",
    "    def build_embedding_matrix(self):\n",
    "        #Insert your code here\n",
    "        self.word2vect = api.load(self.embed_model) # load embedding model\n",
    "        for word, idx in self.word2idx.items():\n",
    "            try:\n",
    "                self.embed_matrix[idx] = self.word2vect.word_vec(word) # assign weight for the corresponding word and index\n",
    "            except KeyError: # word cannot be found\n",
    "                pass  # zero vector\n",
    "    \n",
    "    @staticmethod\n",
    "    def get_layer(cell_type= 'gru', network_type= 'uni-directional', state_size= 128, return_sequences= False, activation = 'tanh'):\n",
    "        #Insert your code here\n",
    "        if network_type == 'uni-directional':\n",
    "            if cell_type=='gru':\n",
    "                return tf.keras.layers.GRU(state_size, return_sequences=return_sequences)\n",
    "            elif cell_type== 'lstm':\n",
    "                return tf.keras.layers.LSTM(state_size, return_sequences=return_sequences)\n",
    "            else:\n",
    "                return tf.keras.layers.SimpleRNN(state_size, return_sequences=return_sequences)\n",
    "            \n",
    "            \n",
    "        else:\n",
    "            if cell_type=='gru':\n",
    "                return tf.keras.layers.Bidirectional(tf.keras.layers.GRU(state_size, return_sequences=return_sequences))\n",
    "            elif cell_type== 'lstm':\n",
    "                return tf.keras.layers.Bidirectional(tf.keras.layers.LSTM(state_size, return_sequences=return_sequences))\n",
    "            else:\n",
    "                return tf.keras.layers.Bidirectional(tf.keras.layers.SimpleRNN(state_size, return_sequences=return_sequences))\n",
    "            \n",
    "    \n",
    "    def build(self):\n",
    "        #Insert your code here\n",
    "        x = tf.keras.layers.Input(shape=[None])\n",
    "        \n",
    "        if self.run_mode == \"scratch\":\n",
    "            self.embedding_layer = tf.keras.layers.Embedding(self.vocab_size, self.embed_size, mask_zero=True, trainable=True)\n",
    "            \n",
    "        elif self.run_mode == \"init-only\":\n",
    "            self.build_embedding_matrix()\n",
    "            self.embedding_layer = tf.keras.layers.Embedding(self.vocab_size, self.embed_size, mask_zero=True, trainable=False,\n",
    "                                                        weights=[self.embed_matrix])\n",
    "        else: # fine-tuned\n",
    "            self.build_embedding_matrix()\n",
    "            self.embedding_layer = tf.keras.layers.Embedding(self.vocab_size, self.embed_size, mask_zero=True, trainable=True,\n",
    "                                                        weights=[self.embed_matrix])\n",
    "        \n",
    "        h = self.embedding_layer(x)\n",
    "        num_layers = len(self.state_sizes)\n",
    "        for i in range(num_layers):\n",
    "            if i != num_layers-1:\n",
    "                h = self.get_layer(cell_type= self.cell_type, state_size= self.state_sizes[i], return_sequences= True)(h)\n",
    "            else:\n",
    "                h = self.get_layer(cell_type= self.cell_type, state_size= self.state_sizes[i])(h)\n",
    "        h = tf.keras.layers.Dense(dm.num_classes, activation='softmax')(h)\n",
    "        self.model = tf.keras.Model(inputs=x, outputs=h)\n",
    "        \n",
    "    def compile_model(self, *args, **kwargs):\n",
    "        self.model.compile(*args, **kwargs)\n",
    "    \n",
    "    def fit(self, *args, **kwargs):\n",
    "        return self.model.fit(*args, **kwargs)\n",
    "    \n",
    "    def evaluate(self, *args, **kwargs):\n",
    "        return self.model.evaluate(*args, **kwargs)       \n"
   ]
  },
  {
   "cell_type": "markdown",
   "metadata": {},
   "source": [
    "#### <span style=\"color:red\">**Question 4.3.2**</span> \n",
    "\n",
    "**Design the experiment to compare three running modes. Note that you should stick with fixed values for other attributes and only vary *run_mode*. Give your comments for the results.**\n",
    "\n",
    "<div style=\"text-align: right\"><span style=\"color:red\">[2 points]</span></div>"
   ]
  },
  {
   "cell_type": "code",
   "execution_count": 42,
   "metadata": {},
   "outputs": [
    {
     "name": "stdout",
     "output_type": "stream",
     "text": [
      "Epoch 1/10\n",
      "19/19 [==============================] - 7s 166ms/step - loss: 1.6029 - accuracy: 0.3231 - val_loss: 1.1021 - val_accuracy: 0.6756\n",
      "Epoch 2/10\n",
      "19/19 [==============================] - 2s 96ms/step - loss: 0.8295 - accuracy: 0.7002 - val_loss: 0.4115 - val_accuracy: 0.8963\n",
      "Epoch 3/10\n",
      "19/19 [==============================] - 2s 94ms/step - loss: 0.2948 - accuracy: 0.9209 - val_loss: 0.2199 - val_accuracy: 0.9465\n",
      "Epoch 4/10\n",
      "19/19 [==============================] - 2s 94ms/step - loss: 0.1172 - accuracy: 0.9775 - val_loss: 0.1833 - val_accuracy: 0.9532\n",
      "Epoch 5/10\n",
      "19/19 [==============================] - 2s 94ms/step - loss: 0.0669 - accuracy: 0.9817 - val_loss: 0.1513 - val_accuracy: 0.9532\n",
      "Epoch 6/10\n",
      "19/19 [==============================] - 2s 94ms/step - loss: 0.0277 - accuracy: 0.9950 - val_loss: 0.1299 - val_accuracy: 0.9632\n",
      "Epoch 7/10\n",
      "19/19 [==============================] - 2s 94ms/step - loss: 0.0246 - accuracy: 0.9917 - val_loss: 0.1427 - val_accuracy: 0.9599\n",
      "Epoch 8/10\n",
      "19/19 [==============================] - 2s 94ms/step - loss: 0.0056 - accuracy: 0.9992 - val_loss: 0.1449 - val_accuracy: 0.9632\n",
      "Epoch 9/10\n",
      "19/19 [==============================] - 2s 94ms/step - loss: 0.0033 - accuracy: 0.9992 - val_loss: 0.1720 - val_accuracy: 0.9565\n",
      "Epoch 10/10\n",
      "19/19 [==============================] - 2s 95ms/step - loss: 0.0015 - accuracy: 1.0000 - val_loss: 0.1908 - val_accuracy: 0.9565\n",
      "5/5 [==============================] - 0s 29ms/step - loss: 0.1908 - accuracy: 0.9565\n"
     ]
    },
    {
     "data": {
      "text/plain": [
       "[0.19084377586841583, 0.95652174949646]"
      ]
     },
     "execution_count": 42,
     "metadata": {},
     "output_type": "execute_result"
    }
   ],
   "source": [
    "# dm.train_valid_test_split()\n",
    "\n",
    "\n",
    "rnn1 = RNN(run_mode = 'scratch', cell_type= 'gru', network_type = 'uni-directional', embed_model= 'glove-wiki-gigaword-100', \n",
    "                 embed_size= 128, state_sizes = [64, 128], data_manager = dm)\n",
    "rnn1.build()\n",
    "opt = tf.keras.optimizers.RMSprop(learning_rate=0.001)\n",
    "rnn1.compile_model(optimizer=opt, loss='sparse_categorical_crossentropy', metrics=['accuracy'])\n",
    "rnn1.fit(dm.tf_train_set.batch(64), epochs=10, validation_data = dm.tf_valid_set.batch(64))\n",
    "\n",
    "rnn1.evaluate(dm.tf_valid_set.batch(64))"
   ]
  },
  {
   "cell_type": "code",
   "execution_count": 43,
   "metadata": {},
   "outputs": [
    {
     "name": "stderr",
     "output_type": "stream",
     "text": [
      "C:\\Users\\ngyij\\AppData\\Local\\Temp\\ipykernel_24372\\1809973733.py:24: DeprecationWarning: Call to deprecated `word_vec` (Use get_vector instead).\n",
      "  self.embed_matrix[idx] = self.word2vect.word_vec(word) # assign weight for the corresponding word and index\n"
     ]
    },
    {
     "name": "stdout",
     "output_type": "stream",
     "text": [
      "Epoch 1/10\n",
      "19/19 [==============================] - 7s 163ms/step - loss: 1.4413 - accuracy: 0.4271 - val_loss: 0.9653 - val_accuracy: 0.6823\n",
      "Epoch 2/10\n",
      "19/19 [==============================] - 2s 90ms/step - loss: 0.9219 - accuracy: 0.6420 - val_loss: 0.6688 - val_accuracy: 0.7592\n",
      "Epoch 3/10\n",
      "19/19 [==============================] - 2s 93ms/step - loss: 0.5793 - accuracy: 0.7960 - val_loss: 0.4276 - val_accuracy: 0.8395\n",
      "Epoch 4/10\n",
      "19/19 [==============================] - 2s 90ms/step - loss: 0.3145 - accuracy: 0.9042 - val_loss: 0.3039 - val_accuracy: 0.8829\n",
      "Epoch 5/10\n",
      "19/19 [==============================] - 2s 90ms/step - loss: 0.1978 - accuracy: 0.9417 - val_loss: 0.2840 - val_accuracy: 0.9197\n",
      "Epoch 6/10\n",
      "19/19 [==============================] - 2s 90ms/step - loss: 0.1290 - accuracy: 0.9600 - val_loss: 0.2694 - val_accuracy: 0.9298\n",
      "Epoch 7/10\n",
      "19/19 [==============================] - 2s 90ms/step - loss: 0.0907 - accuracy: 0.9725 - val_loss: 0.2197 - val_accuracy: 0.9431\n",
      "Epoch 8/10\n",
      "19/19 [==============================] - 2s 90ms/step - loss: 0.0879 - accuracy: 0.9750 - val_loss: 0.1629 - val_accuracy: 0.9465\n",
      "Epoch 9/10\n",
      "19/19 [==============================] - 2s 90ms/step - loss: 0.0577 - accuracy: 0.9833 - val_loss: 0.1842 - val_accuracy: 0.9465\n",
      "Epoch 10/10\n",
      "19/19 [==============================] - 2s 90ms/step - loss: 0.0549 - accuracy: 0.9792 - val_loss: 0.2074 - val_accuracy: 0.9365\n",
      "5/5 [==============================] - 0s 27ms/step - loss: 0.2074 - accuracy: 0.9365\n"
     ]
    },
    {
     "data": {
      "text/plain": [
       "[0.20739014446735382, 0.9364548325538635]"
      ]
     },
     "execution_count": 43,
     "metadata": {},
     "output_type": "execute_result"
    }
   ],
   "source": [
    "rnn2 = RNN(run_mode = 'init-only', cell_type= 'gru', network_type = 'uni-directional', embed_model= 'glove-wiki-gigaword-100', \n",
    "                 embed_size= 128, state_sizes = [64, 128], data_manager = dm)\n",
    "rnn2.build()\n",
    "opt = tf.keras.optimizers.RMSprop(learning_rate=0.001)\n",
    "rnn2.compile_model(optimizer=opt, loss='sparse_categorical_crossentropy', metrics=['accuracy'])\n",
    "rnn2.fit(dm.tf_train_set.batch(64), epochs=10, validation_data = dm.tf_valid_set.batch(64))\n",
    "\n",
    "rnn2.evaluate(dm.tf_valid_set.batch(64))"
   ]
  },
  {
   "cell_type": "code",
   "execution_count": 44,
   "metadata": {},
   "outputs": [
    {
     "name": "stderr",
     "output_type": "stream",
     "text": [
      "C:\\Users\\ngyij\\AppData\\Local\\Temp\\ipykernel_24372\\1809973733.py:24: DeprecationWarning: Call to deprecated `word_vec` (Use get_vector instead).\n",
      "  self.embed_matrix[idx] = self.word2vect.word_vec(word) # assign weight for the corresponding word and index\n"
     ]
    },
    {
     "name": "stdout",
     "output_type": "stream",
     "text": [
      "Epoch 1/10\n",
      "19/19 [==============================] - 8s 165ms/step - loss: 1.4873 - accuracy: 0.3913 - val_loss: 0.9868 - val_accuracy: 0.6656\n",
      "Epoch 2/10\n",
      "19/19 [==============================] - 2s 94ms/step - loss: 0.8599 - accuracy: 0.7027 - val_loss: 0.5489 - val_accuracy: 0.8227\n",
      "Epoch 3/10\n",
      "19/19 [==============================] - 2s 94ms/step - loss: 0.4006 - accuracy: 0.8809 - val_loss: 0.3411 - val_accuracy: 0.8863\n",
      "Epoch 4/10\n",
      "19/19 [==============================] - 2s 96ms/step - loss: 0.2094 - accuracy: 0.9326 - val_loss: 0.2947 - val_accuracy: 0.8963\n",
      "Epoch 5/10\n",
      "19/19 [==============================] - 2s 94ms/step - loss: 0.1198 - accuracy: 0.9592 - val_loss: 0.2726 - val_accuracy: 0.9164\n",
      "Epoch 6/10\n",
      "19/19 [==============================] - 2s 94ms/step - loss: 0.0962 - accuracy: 0.9709 - val_loss: 0.1237 - val_accuracy: 0.9532\n",
      "Epoch 7/10\n",
      "19/19 [==============================] - 2s 94ms/step - loss: 0.0508 - accuracy: 0.9858 - val_loss: 0.1194 - val_accuracy: 0.9532\n",
      "Epoch 8/10\n",
      "19/19 [==============================] - 2s 94ms/step - loss: 0.0376 - accuracy: 0.9892 - val_loss: 0.1124 - val_accuracy: 0.9666\n",
      "Epoch 9/10\n",
      "19/19 [==============================] - 2s 94ms/step - loss: 0.0284 - accuracy: 0.9917 - val_loss: 0.1736 - val_accuracy: 0.9431\n",
      "Epoch 10/10\n",
      "19/19 [==============================] - 2s 95ms/step - loss: 0.0138 - accuracy: 0.9958 - val_loss: 0.1518 - val_accuracy: 0.9431\n",
      "5/5 [==============================] - 0s 28ms/step - loss: 0.1518 - accuracy: 0.9431\n"
     ]
    },
    {
     "data": {
      "text/plain": [
       "[0.15178459882736206, 0.9431437849998474]"
      ]
     },
     "execution_count": 44,
     "metadata": {},
     "output_type": "execute_result"
    }
   ],
   "source": [
    "rnn3 = RNN(run_mode = 'init-fine-tune', cell_type= 'gru', network_type = 'uni-directional', embed_model= 'glove-wiki-gigaword-100', \n",
    "                 embed_size= 128, state_sizes = [64, 128], data_manager = dm)\n",
    "rnn3.build()\n",
    "opt = tf.keras.optimizers.RMSprop(learning_rate=0.001)\n",
    "rnn3.compile_model(optimizer=opt, loss='sparse_categorical_crossentropy', metrics=['accuracy'])\n",
    "rnn3.fit(dm.tf_train_set.batch(64), epochs=10, validation_data = dm.tf_valid_set.batch(64))\n",
    "\n",
    "rnn3.evaluate(dm.tf_valid_set.batch(64))"
   ]
  },
  {
   "cell_type": "markdown",
   "metadata": {},
   "source": [
    "#### <span style=\"color:red\">**Question 4.3.3**</span> \n",
    "\n",
    "**Run the above general RNN with at least five parameter sets and try to obtain the best performance. You can stick with the running mode *init-fine-tune* and use grid search to tune other parameters. Record your best model which will be used in the next part.**\n",
    "\n",
    "<div style=\"text-align: right\"><span style=\"color:red\">[2 points]</span></div>"
   ]
  },
  {
   "cell_type": "code",
   "execution_count": 45,
   "metadata": {},
   "outputs": [
    {
     "name": "stdout",
     "output_type": "stream",
     "text": [
      "Current cell type: gru + network_type: uni-directional\n"
     ]
    },
    {
     "name": "stderr",
     "output_type": "stream",
     "text": [
      "C:\\Users\\ngyij\\AppData\\Local\\Temp\\ipykernel_24372\\1809973733.py:24: DeprecationWarning: Call to deprecated `word_vec` (Use get_vector instead).\n",
      "  self.embed_matrix[idx] = self.word2vect.word_vec(word) # assign weight for the corresponding word and index\n"
     ]
    },
    {
     "name": "stdout",
     "output_type": "stream",
     "text": [
      "Epoch 1/10\n",
      "19/19 [==============================] - 7s 165ms/step - loss: 1.4511 - accuracy: 0.4205 - val_loss: 0.9443 - val_accuracy: 0.6923\n",
      "Epoch 2/10\n",
      "19/19 [==============================] - 2s 93ms/step - loss: 0.8578 - accuracy: 0.6928 - val_loss: 0.5866 - val_accuracy: 0.8161\n",
      "Epoch 3/10\n",
      "19/19 [==============================] - 2s 93ms/step - loss: 0.4598 - accuracy: 0.8609 - val_loss: 0.3929 - val_accuracy: 0.8763\n",
      "Epoch 4/10\n",
      "19/19 [==============================] - 2s 94ms/step - loss: 0.2171 - accuracy: 0.9367 - val_loss: 0.3214 - val_accuracy: 0.8963\n",
      "Epoch 5/10\n",
      "19/19 [==============================] - 2s 96ms/step - loss: 0.1326 - accuracy: 0.9542 - val_loss: 0.2673 - val_accuracy: 0.9130\n",
      "Epoch 6/10\n",
      "19/19 [==============================] - 2s 94ms/step - loss: 0.0900 - accuracy: 0.9734 - val_loss: 0.2471 - val_accuracy: 0.9298\n",
      "Epoch 7/10\n",
      "19/19 [==============================] - 2s 93ms/step - loss: 0.0529 - accuracy: 0.9833 - val_loss: 0.1815 - val_accuracy: 0.9465\n",
      "Epoch 8/10\n",
      "19/19 [==============================] - 2s 93ms/step - loss: 0.0507 - accuracy: 0.9833 - val_loss: 0.1708 - val_accuracy: 0.9498\n",
      "Epoch 9/10\n",
      "19/19 [==============================] - 2s 95ms/step - loss: 0.0273 - accuracy: 0.9933 - val_loss: 0.1084 - val_accuracy: 0.9565\n",
      "Epoch 10/10\n",
      "19/19 [==============================] - 2s 94ms/step - loss: 0.0185 - accuracy: 0.9950 - val_loss: 0.1158 - val_accuracy: 0.9599\n",
      "5/5 [==============================] - 0s 28ms/step - loss: 0.1158 - accuracy: 0.9599\n",
      "Cell type of gru + network_type of uni-directional having the current best valid_accuracy of 0.9598662257194519\n",
      "\n",
      "Current cell type: gru + network_type: bi-directional\n",
      "Epoch 1/10\n",
      "19/19 [==============================] - 7s 165ms/step - loss: 1.4677 - accuracy: 0.4163 - val_loss: 0.9384 - val_accuracy: 0.7124\n",
      "Epoch 2/10\n",
      "19/19 [==============================] - 2s 93ms/step - loss: 0.8229 - accuracy: 0.7027 - val_loss: 0.5617 - val_accuracy: 0.8161\n",
      "Epoch 3/10\n",
      "19/19 [==============================] - 2s 93ms/step - loss: 0.3820 - accuracy: 0.8726 - val_loss: 0.3092 - val_accuracy: 0.8963\n",
      "Epoch 4/10\n",
      "19/19 [==============================] - 2s 94ms/step - loss: 0.1920 - accuracy: 0.9442 - val_loss: 0.2441 - val_accuracy: 0.9097\n",
      "Epoch 5/10\n",
      "19/19 [==============================] - 2s 93ms/step - loss: 0.1259 - accuracy: 0.9550 - val_loss: 0.3178 - val_accuracy: 0.9164\n",
      "Epoch 6/10\n",
      "19/19 [==============================] - 2s 95ms/step - loss: 0.0912 - accuracy: 0.9642 - val_loss: 0.2447 - val_accuracy: 0.9331\n",
      "Epoch 7/10\n",
      "19/19 [==============================] - 2s 95ms/step - loss: 0.0522 - accuracy: 0.9850 - val_loss: 0.2433 - val_accuracy: 0.9465\n",
      "Epoch 8/10\n",
      "19/19 [==============================] - 2s 95ms/step - loss: 0.0439 - accuracy: 0.9867 - val_loss: 0.2282 - val_accuracy: 0.9465\n",
      "Epoch 9/10\n",
      "19/19 [==============================] - 2s 94ms/step - loss: 0.0222 - accuracy: 0.9933 - val_loss: 0.1456 - val_accuracy: 0.9532\n",
      "Epoch 10/10\n",
      "19/19 [==============================] - 2s 93ms/step - loss: 0.0165 - accuracy: 0.9958 - val_loss: 0.1675 - val_accuracy: 0.9565\n",
      "5/5 [==============================] - 0s 28ms/step - loss: 0.1675 - accuracy: 0.9565\n",
      "Cell type of gru + network_type of uni-directional having the current best valid_accuracy of 0.9598662257194519\n",
      "\n",
      "Current cell type: lstm + network_type: uni-directional\n",
      "Epoch 1/10\n",
      "19/19 [==============================] - 7s 183ms/step - loss: 1.3123 - accuracy: 0.4904 - val_loss: 0.8113 - val_accuracy: 0.7525\n",
      "Epoch 2/10\n",
      "19/19 [==============================] - 2s 110ms/step - loss: 0.5397 - accuracy: 0.8326 - val_loss: 0.3857 - val_accuracy: 0.9064\n",
      "Epoch 3/10\n",
      "19/19 [==============================] - 2s 109ms/step - loss: 0.2601 - accuracy: 0.9167 - val_loss: 0.3005 - val_accuracy: 0.9130\n",
      "Epoch 4/10\n",
      "19/19 [==============================] - 2s 111ms/step - loss: 0.1612 - accuracy: 0.9450 - val_loss: 0.2617 - val_accuracy: 0.9264\n",
      "Epoch 5/10\n",
      "19/19 [==============================] - 2s 110ms/step - loss: 0.0989 - accuracy: 0.9659 - val_loss: 0.2586 - val_accuracy: 0.9365\n",
      "Epoch 6/10\n",
      "19/19 [==============================] - 2s 114ms/step - loss: 0.1169 - accuracy: 0.9675 - val_loss: 0.1932 - val_accuracy: 0.9398\n",
      "Epoch 7/10\n",
      "19/19 [==============================] - 2s 110ms/step - loss: 0.0941 - accuracy: 0.9684 - val_loss: 0.1183 - val_accuracy: 0.9565\n",
      "Epoch 8/10\n",
      "19/19 [==============================] - 2s 110ms/step - loss: 0.0395 - accuracy: 0.9900 - val_loss: 0.2099 - val_accuracy: 0.9431\n",
      "Epoch 9/10\n",
      "19/19 [==============================] - 2s 111ms/step - loss: 0.0504 - accuracy: 0.9808 - val_loss: 0.0983 - val_accuracy: 0.9699\n",
      "Epoch 10/10\n",
      "19/19 [==============================] - 2s 110ms/step - loss: 0.0335 - accuracy: 0.9892 - val_loss: 0.1717 - val_accuracy: 0.9498\n",
      "5/5 [==============================] - 0s 48ms/step - loss: 0.1717 - accuracy: 0.9498\n",
      "Cell type of gru + network_type of uni-directional having the current best valid_accuracy of 0.9598662257194519\n",
      "\n",
      "Current cell type: lstm + network_type: bi-directional\n",
      "Epoch 1/10\n",
      "19/19 [==============================] - 7s 179ms/step - loss: 1.2205 - accuracy: 0.5620 - val_loss: 0.6614 - val_accuracy: 0.8161\n",
      "Epoch 2/10\n",
      "19/19 [==============================] - 2s 106ms/step - loss: 0.4635 - accuracy: 0.8684 - val_loss: 0.3670 - val_accuracy: 0.8930\n",
      "Epoch 3/10\n",
      "19/19 [==============================] - 2s 105ms/step - loss: 0.2370 - accuracy: 0.9234 - val_loss: 0.2640 - val_accuracy: 0.9097\n",
      "Epoch 4/10\n",
      "19/19 [==============================] - 2s 116ms/step - loss: 0.1415 - accuracy: 0.9525 - val_loss: 0.2139 - val_accuracy: 0.9365\n",
      "Epoch 5/10\n",
      "19/19 [==============================] - 2s 119ms/step - loss: 0.1087 - accuracy: 0.9650 - val_loss: 0.1554 - val_accuracy: 0.9465\n",
      "Epoch 6/10\n",
      "19/19 [==============================] - 2s 118ms/step - loss: 0.0748 - accuracy: 0.9767 - val_loss: 0.1747 - val_accuracy: 0.9498\n",
      "Epoch 7/10\n",
      "19/19 [==============================] - 2s 112ms/step - loss: 0.0556 - accuracy: 0.9817 - val_loss: 0.1275 - val_accuracy: 0.9532\n",
      "Epoch 8/10\n",
      "19/19 [==============================] - 2s 115ms/step - loss: 0.0503 - accuracy: 0.9842 - val_loss: 0.1170 - val_accuracy: 0.9498\n",
      "Epoch 9/10\n",
      "19/19 [==============================] - 2s 104ms/step - loss: 0.0435 - accuracy: 0.9858 - val_loss: 0.1088 - val_accuracy: 0.9498\n",
      "Epoch 10/10\n",
      "19/19 [==============================] - 2s 103ms/step - loss: 0.0287 - accuracy: 0.9908 - val_loss: 0.1231 - val_accuracy: 0.9498\n",
      "5/5 [==============================] - 0s 32ms/step - loss: 0.1231 - accuracy: 0.9498\n",
      "Cell type of gru + network_type of uni-directional having the current best valid_accuracy of 0.9598662257194519\n",
      "\n",
      "Current cell type: basic_rnn + network_type: uni-directional\n",
      "Epoch 1/10\n",
      "19/19 [==============================] - 3s 74ms/step - loss: 1.5009 - accuracy: 0.3972 - val_loss: 0.9296 - val_accuracy: 0.6622\n",
      "Epoch 2/10\n",
      "19/19 [==============================] - 1s 60ms/step - loss: 0.7911 - accuracy: 0.7194 - val_loss: 0.5386 - val_accuracy: 0.8161\n",
      "Epoch 3/10\n",
      "19/19 [==============================] - 1s 60ms/step - loss: 0.4587 - accuracy: 0.8343 - val_loss: 0.4502 - val_accuracy: 0.8361\n",
      "Epoch 4/10\n",
      "19/19 [==============================] - 1s 60ms/step - loss: 0.2525 - accuracy: 0.9234 - val_loss: 0.3711 - val_accuracy: 0.8662\n",
      "Epoch 5/10\n",
      "19/19 [==============================] - 1s 60ms/step - loss: 0.1623 - accuracy: 0.9492 - val_loss: 0.2472 - val_accuracy: 0.9130\n",
      "Epoch 6/10\n",
      "19/19 [==============================] - 1s 61ms/step - loss: 0.1366 - accuracy: 0.9550 - val_loss: 0.2028 - val_accuracy: 0.9264\n",
      "Epoch 7/10\n",
      "19/19 [==============================] - 1s 61ms/step - loss: 0.0608 - accuracy: 0.9883 - val_loss: 0.1826 - val_accuracy: 0.9365\n",
      "Epoch 8/10\n",
      "19/19 [==============================] - 1s 61ms/step - loss: 0.1000 - accuracy: 0.9675 - val_loss: 0.1712 - val_accuracy: 0.9465\n",
      "Epoch 9/10\n",
      "19/19 [==============================] - 1s 61ms/step - loss: 0.0342 - accuracy: 0.9925 - val_loss: 0.1569 - val_accuracy: 0.9465\n",
      "Epoch 10/10\n",
      "19/19 [==============================] - 1s 62ms/step - loss: 0.0465 - accuracy: 0.9842 - val_loss: 0.1390 - val_accuracy: 0.9465\n",
      "5/5 [==============================] - 0s 18ms/step - loss: 0.1390 - accuracy: 0.9465\n",
      "Cell type of gru + network_type of uni-directional having the current best valid_accuracy of 0.9598662257194519\n",
      "\n",
      "Current cell type: basic_rnn + network_type: bi-directional\n"
     ]
    },
    {
     "name": "stdout",
     "output_type": "stream",
     "text": [
      "Epoch 1/10\n",
      "19/19 [==============================] - 3s 76ms/step - loss: 1.5096 - accuracy: 0.4005 - val_loss: 1.2047 - val_accuracy: 0.5385\n",
      "Epoch 2/10\n",
      "19/19 [==============================] - 1s 63ms/step - loss: 0.8671 - accuracy: 0.7077 - val_loss: 0.5022 - val_accuracy: 0.8495\n",
      "Epoch 3/10\n",
      "19/19 [==============================] - 1s 63ms/step - loss: 0.4636 - accuracy: 0.8501 - val_loss: 0.3671 - val_accuracy: 0.8997\n",
      "Epoch 4/10\n",
      "19/19 [==============================] - 1s 63ms/step - loss: 0.3321 - accuracy: 0.8918 - val_loss: 0.2917 - val_accuracy: 0.9231\n",
      "Epoch 5/10\n",
      "19/19 [==============================] - 1s 64ms/step - loss: 0.1777 - accuracy: 0.9492 - val_loss: 0.2729 - val_accuracy: 0.9197\n",
      "Epoch 6/10\n",
      "19/19 [==============================] - 1s 66ms/step - loss: 0.1285 - accuracy: 0.9650 - val_loss: 0.2793 - val_accuracy: 0.9298\n",
      "Epoch 7/10\n",
      "19/19 [==============================] - 1s 66ms/step - loss: 0.0814 - accuracy: 0.9750 - val_loss: 0.1936 - val_accuracy: 0.9398\n",
      "Epoch 8/10\n",
      "19/19 [==============================] - 1s 70ms/step - loss: 0.1171 - accuracy: 0.9692 - val_loss: 0.1614 - val_accuracy: 0.9498\n",
      "Epoch 9/10\n",
      "19/19 [==============================] - 1s 73ms/step - loss: 0.0346 - accuracy: 0.9925 - val_loss: 0.1419 - val_accuracy: 0.9532\n",
      "Epoch 10/10\n",
      "19/19 [==============================] - 1s 69ms/step - loss: 0.0545 - accuracy: 0.9833 - val_loss: 0.1506 - val_accuracy: 0.9498\n",
      "5/5 [==============================] - 0s 17ms/step - loss: 0.1506 - accuracy: 0.9498\n",
      "Cell type of gru + network_type of uni-directional having the current best valid_accuracy of 0.9598662257194519\n",
      "\n"
     ]
    }
   ],
   "source": [
    "cell_type = ['gru', 'lstm', 'basic_rnn']\n",
    "network_type = ['uni-directional', 'bi-directional']\n",
    "best_accuracy = 0\n",
    "best_parameter_set = ['', '']\n",
    "for x in (cell_type):\n",
    "    for y in (network_type):\n",
    "        print(\"Current cell type: {} + network_type: {}\".format(x,y))\n",
    "        rnn = RNN(run_mode = 'init-fine-tune', cell_type= x, network_type = y, embed_model= 'glove-wiki-gigaword-100', \n",
    "                  embed_size= 128, state_sizes = [64, 128], data_manager = dm)\n",
    "        rnn.build()\n",
    "        opt = tf.keras.optimizers.RMSprop(learning_rate=0.001)\n",
    "        rnn.compile_model(optimizer=opt, loss='sparse_categorical_crossentropy', metrics=['accuracy'])\n",
    "        rnn.fit(dm.tf_train_set.batch(64), epochs=10, validation_data = dm.tf_valid_set.batch(64))\n",
    "        \n",
    "        \n",
    "        \n",
    "        model_loss, model_accuracy = rnn.evaluate(dm.tf_valid_set.batch(64))\n",
    "        if model_accuracy > best_accuracy:\n",
    "            best_parameter_set[0] = x\n",
    "            best_parameter_set[1] = y\n",
    "            best_accuracy = model_accuracy\n",
    "        print(\"Cell type of {} + network_type of {} having the current best valid_accuracy of {}\\n\".format(best_parameter_set[0], best_parameter_set[1], best_accuracy))"
   ]
  },
  {
   "cell_type": "markdown",
   "metadata": {},
   "source": [
    "#Report your results here\n",
    "\n",
    "Model 1 = (run_mode ='init-fine-tune', cell type: 'gru', network_type: 'uni-directional'): accuracy = 0.9599\n",
    "\n",
    "Model 2 = (run_mode ='init-fine-tune', cell type: 'gru', network_type: 'bi-directional'): accuracy = 0.9565\n",
    "\n",
    "Model 3 = (run_mode ='init-fine-tune', cell type: 'lstm', network_type: 'uni-directional'): accuracy = 0.9498\n",
    "\n",
    "Model 4 = (run_mode ='init-fine-tune', cell type: 'lstm', network_type: 'bi-directional'): accuracy = 0.9498\n",
    "\n",
    "Model 5 = (run_mode ='init-fine-tune', cell type: 'basic_rnn', network_type: 'uni-directional'): accuracy = 0.9465\n",
    "\n",
    "Model 6 = (run_mode ='init-fine-tune', cell type: 'basic_rnn', network_type: 'bi-directional'): accuracy = 0.9498"
   ]
  },
  {
   "cell_type": "code",
   "execution_count": 46,
   "metadata": {},
   "outputs": [
    {
     "name": "stderr",
     "output_type": "stream",
     "text": [
      "C:\\Users\\ngyij\\AppData\\Local\\Temp\\ipykernel_24372\\1809973733.py:24: DeprecationWarning: Call to deprecated `word_vec` (Use get_vector instead).\n",
      "  self.embed_matrix[idx] = self.word2vect.word_vec(word) # assign weight for the corresponding word and index\n"
     ]
    },
    {
     "name": "stdout",
     "output_type": "stream",
     "text": [
      "Epoch 1/10\n",
      "19/19 [==============================] - 9s 193ms/step - loss: 1.4832 - accuracy: 0.4072 - val_loss: 1.0147 - val_accuracy: 0.6254\n",
      "Epoch 2/10\n",
      "19/19 [==============================] - 2s 110ms/step - loss: 0.8773 - accuracy: 0.6878 - val_loss: 0.6185 - val_accuracy: 0.7926\n",
      "Epoch 3/10\n",
      "19/19 [==============================] - 2s 107ms/step - loss: 0.4373 - accuracy: 0.8668 - val_loss: 0.3720 - val_accuracy: 0.8896\n",
      "Epoch 4/10\n",
      "19/19 [==============================] - 2s 107ms/step - loss: 0.2175 - accuracy: 0.9392 - val_loss: 0.3094 - val_accuracy: 0.9097\n",
      "Epoch 5/10\n",
      "19/19 [==============================] - 2s 109ms/step - loss: 0.1431 - accuracy: 0.9550 - val_loss: 0.2745 - val_accuracy: 0.9164\n",
      "Epoch 6/10\n",
      "19/19 [==============================] - 2s 111ms/step - loss: 0.1126 - accuracy: 0.9592 - val_loss: 0.2405 - val_accuracy: 0.9264\n",
      "Epoch 7/10\n",
      "19/19 [==============================] - 2s 105ms/step - loss: 0.0884 - accuracy: 0.9684 - val_loss: 0.2945 - val_accuracy: 0.9197\n",
      "Epoch 8/10\n",
      "19/19 [==============================] - 2s 105ms/step - loss: 0.0487 - accuracy: 0.9867 - val_loss: 0.1228 - val_accuracy: 0.9632\n",
      "Epoch 9/10\n",
      "19/19 [==============================] - 2s 101ms/step - loss: 0.0423 - accuracy: 0.9883 - val_loss: 0.1355 - val_accuracy: 0.9532\n",
      "Epoch 10/10\n",
      "19/19 [==============================] - 2s 100ms/step - loss: 0.0331 - accuracy: 0.9875 - val_loss: 0.2184 - val_accuracy: 0.9498\n",
      "5/5 [==============================] - 0s 29ms/step - loss: 0.2184 - accuracy: 0.9498\n"
     ]
    }
   ],
   "source": [
    "#The run of your best model here\n",
    "my_best_rnn = RNN(run_mode = 'init-fine-tune', cell_type= best_parameter_set[0], \n",
    "                  network_type = best_parameter_set[1], embed_model= 'glove-wiki-gigaword-100', \n",
    "                  embed_size= 128, state_sizes = [64, 128], data_manager = dm)\n",
    "\n",
    "my_best_rnn.build()\n",
    "opt = tf.keras.optimizers.RMSprop(learning_rate=0.001)\n",
    "my_best_rnn.compile_model(optimizer=opt, loss='sparse_categorical_crossentropy', metrics=['accuracy'])\n",
    "my_best_rnn.fit(dm.tf_train_set.batch(64), epochs=10, validation_data = dm.tf_valid_set.batch(64))\n",
    "\n",
    "model_loss, model_accuracy = my_best_rnn.evaluate(dm.tf_valid_set.batch(64))"
   ]
  },
  {
   "cell_type": "markdown",
   "metadata": {},
   "source": [
    "### <span style=\"color:#0b486b\">4.4. RNNs with Standard Attention for Text and Sequence Classification</span> ###\n",
    "\n",
    "**In what follows, you are required to implement a RNN with the attention machenism for text and sequence classification. This attention mechanism is applied at the last hidden layer of our RNN. Specifically, let $h_1, h_2,...,h_{L-1}, h_L$ be the hidden states at the last hidden layer where $L$ is the sequence length. We compute the context vector $c$ as $c=\\sum_{i=1}^{L}a_{i}h_{i}$ where $a_1,...,a_L$ are the allignment weights (i.e., $a_i\\geq 0$ and $\\sum_{i=1}^{L}a_{i}=1$).**\n",
    "\n",
    "**The allignment weights are computed as follows:**\n",
    "- $a=[a_{i}]_{i=1}^{L}=softmax([s_{i}]_{i=1}^{L})$ where $s= [s_{i}]_{i=1}^{L}$ consists of the allignment scores.\n",
    "- The assigment scores $s= [s_{i}]_{i=1}^{L}$ are computed as $s=tanh(hU)V$ where $h=\\left[\\begin{array}{c}\n",
    "h_{1}\\\\\n",
    "h_{2}\\\\\n",
    "...\\\\\n",
    "h_{L-1}\\\\\n",
    "h_{L}\n",
    "\\end{array}\\right]\\in\\mathbb{R}^{L\\times state\\_size_{3}}$, $U\\in\\mathbb{R}^{state\\_size_{3}\\times output\\_length}$, $V\\in\\mathbb{R}^{output\\_length\\times1}$, and $output\\_length$ is a hyper-parameter. Note that if we consider a mini-batch, the shape of $h$ is $batch\\_size \\times L \\times state\\_size_3$ where $state\\_size_3$ is the hidden size of the last hidden layer.\n",
    "\n",
    "After having the context vector $c$, we concatenate with the last hidden state $h_L$. On top of this concatenation, we conduct the output layer with the softmax activation.\n",
    "\n",
    "<img src=\"./images/attention.png\" align=\"center\" width=1200/>\n",
    "\n",
    "<div style=\"text-align: right\"><span style=\"color:red; font-weight:bold\">[Total marks for this part: 10 points]<span></div>"
   ]
  },
  {
   "cell_type": "markdown",
   "metadata": {},
   "source": [
    "#### <span style=\"color:red\">**Question 4.4.1**</span>\n",
    "\n",
    "**We declare the  layer `MyStandardAttention` as a class inherited from `tf.keras.layers.Layer` to realize our attention mechanism. You are required to provide the code for this class. Note that in the `def call(self, all_states, last_state)` method, `all_states` is the collection of all hidden states and `last_state` is the last hidden state.**\n",
    "\n",
    "<div style=\"text-align: right\"><span style=\"color:red\">[4 points]</span></div>"
   ]
  },
  {
   "cell_type": "code",
   "execution_count": 47,
   "metadata": {},
   "outputs": [],
   "source": [
    "class MyStandardAttention(tf.keras.layers.Layer):\n",
    "    def __init__(self, output_length= 50):\n",
    "        super(MyStandardAttention, self).__init__()\n",
    "        #Inser your code here\n",
    "        self.W1 = tf.keras.layers.Dense(output_length)\n",
    "        self.W2 = tf.keras.layers.Dense(output_length)\n",
    "        self.V = tf.keras.layers.Dense(1)\n",
    "    \n",
    "    #all_states is the collection of all hidden states and last_state is the last hidden state\n",
    "    def call(self, all_states, last_state):\n",
    "        #Insert your code here\n",
    "        last_state_extend = tf.expand_dims(last_state, axis=1)\n",
    "        \n",
    "        # compute score [batch_size, num_timesteps, 1]\n",
    "        attention_score = self.V(tf.keras.activations.tanh(self.W1(all_states) + self.W2(last_state_extend)))\n",
    "        # compute weight [batch_size, num_timesteps, 1]\n",
    "        attention_weight = tf.nn.softmax(attention_score, axis=1)\n",
    "        # compute context [batch_size, decoder_dim]\n",
    "        context = tf.reduce_sum(tf.linalg.matmul(tf.transpose(attention_weight, perm=[0,2,1]), all_states), axis=1)\n",
    "        return context, attention_weight"
   ]
  },
  {
   "cell_type": "markdown",
   "metadata": {},
   "source": [
    "#### <span style=\"color:red\">**Question 4.4.2**</span> \n",
    "\n",
    "**You are required to extend the class `RNN` in Section `4.3.1` to achieve the class `StandardAttention_RNN` in which the attention mechanism mentioned above is applied at the last hidden layer.**\n",
    "\n",
    "<div style=\"text-align: right\"><span style=\"color:red\">[4 points]</span></div>"
   ]
  },
  {
   "cell_type": "code",
   "execution_count": 48,
   "metadata": {},
   "outputs": [],
   "source": [
    "class StandardAttention_RNN:\n",
    "    def __init__(self, run_mode = 'scratch', cell_type= 'gru', network_type = 'uni-directional', embed_model= 'glove-wiki-gigaword-100', \n",
    "                 embed_size= 128, state_sizes = [64, 64], data_manager = None):\n",
    "        self.run_mode = run_mode\n",
    "        self.data_manager = data_manager\n",
    "        self.cell_type = cell_type\n",
    "        self.network_type = network_type\n",
    "        self.state_sizes = state_sizes\n",
    "        self.embed_model = embed_model\n",
    "        self.embed_size = embed_size\n",
    "        if self.run_mode != 'scratch':\n",
    "            self.embed_size = int(self.embed_model.split(\"-\")[-1])\n",
    "        self.data_manager = data_manager\n",
    "        self.vocab_size = dm.vocab_size +1\n",
    "        self.word2idx = dm.word2idx\n",
    "        self.word2vect = api.load(self.embed_model) \n",
    "        self.embed_matrix = np.zeros(shape= [self.vocab_size, self.embed_size])\n",
    "    \n",
    "    def build_embedding_matrix(self):\n",
    "        #Insert your code here\n",
    "        self.word2vect = api.load(self.embed_model) # load embedding model\n",
    "        for word, idx in self.word2idx.items():\n",
    "            try:\n",
    "                self.embed_matrix[idx] = self.word2vect.word_vec(word) # assign weight for the corresponding word and index\n",
    "            except KeyError: # word cannot be found\n",
    "                pass  # zero vector\n",
    "    \n",
    "    @staticmethod\n",
    "    def get_layer(cell_type= 'gru', network_type= 'uni-directional', state_size= 128, return_sequences= False, activation = 'tanh'):\n",
    "        #Insert your code here\n",
    "        if network_type == 'uni-directional':\n",
    "            if cell_type=='gru':\n",
    "                return tf.keras.layers.GRU(state_size, return_sequences=return_sequences)\n",
    "            elif cell_type== 'lstm':\n",
    "                return tf.keras.layers.LSTM(state_size, return_sequences=return_sequences)\n",
    "            else:\n",
    "                return tf.keras.layers.SimpleRNN(state_size, return_sequences=return_sequences)\n",
    "            \n",
    "            \n",
    "        else:\n",
    "            if cell_type=='gru':\n",
    "                return tf.keras.layers.Bidirectional(tf.keras.layers.GRU(state_size, return_sequences=return_sequences))\n",
    "            elif cell_type== 'lstm':\n",
    "                return tf.keras.layers.Bidirectional(tf.keras.layers.LSTM(state_size, return_sequences=return_sequences))\n",
    "            else:\n",
    "                return tf.keras.layers.Bidirectional(tf.keras.layers.SimpleRNN(state_size, return_sequences=return_sequences))\n",
    "            \n",
    "    \n",
    "    def build(self):\n",
    "        #Insert your code here\n",
    "        x = tf.keras.layers.Input(shape=[None])\n",
    "        \n",
    "        if self.run_mode == \"scratch\":\n",
    "            self.embedding_layer = tf.keras.layers.Embedding(self.vocab_size, self.embed_size, mask_zero=True, trainable=True)\n",
    "            \n",
    "        elif self.run_mode == \"init-only\":\n",
    "            self.build_embedding_matrix()\n",
    "            self.embedding_layer = tf.keras.layers.Embedding(self.vocab_size, self.embed_size, mask_zero=True, trainable=False,\n",
    "                                                        weights=[self.embed_matrix])\n",
    "        else: # fine-tuned\n",
    "            self.build_embedding_matrix()\n",
    "            self.embedding_layer = tf.keras.layers.Embedding(self.vocab_size, self.embed_size, mask_zero=True, trainable=True,\n",
    "                                                        weights=[self.embed_matrix])\n",
    "        \n",
    "        h = self.embedding_layer(x)\n",
    "        num_layers = len(self.state_sizes)\n",
    "        \n",
    "        for i in range(num_layers):\n",
    "            if i != num_layers-1:\n",
    "                h = self.get_layer(cell_type= self.cell_type, state_size= self.state_sizes[i], return_sequences= True)(h)\n",
    "            else:\n",
    "                all_state = self.get_layer(cell_type= self.cell_type, state_size= self.state_sizes[i], return_sequences= True)(h)\n",
    "                h = self.get_layer(cell_type= self.cell_type, state_size= self.state_sizes[i])(h)\n",
    "            \n",
    "        \n",
    "        b_attn = MyStandardAttention()\n",
    "        context, attention_weight = b_attn(all_state, h)\n",
    "        h = tf.keras.layers.Concatenate()([context, h])\n",
    "        \n",
    "        h = tf.keras.layers.Dense(dm.num_classes, activation='softmax')(h)\n",
    "        self.model = tf.keras.Model(inputs=x, outputs=h)\n",
    "        \n",
    "    def compile_model(self, *args, **kwargs):\n",
    "        self.model.compile(*args, **kwargs)\n",
    "    \n",
    "    def fit(self, *args, **kwargs):\n",
    "        return self.model.fit(*args, **kwargs)\n",
    "    \n",
    "    def evaluate(self, *args, **kwargs):\n",
    "        self.model.evaluate(*args, **kwargs)       \n"
   ]
  },
  {
   "cell_type": "code",
   "execution_count": 49,
   "metadata": {},
   "outputs": [
    {
     "name": "stderr",
     "output_type": "stream",
     "text": [
      "C:\\Users\\ngyij\\AppData\\Local\\Temp\\ipykernel_24372\\2278504239.py:24: DeprecationWarning: Call to deprecated `word_vec` (Use get_vector instead).\n",
      "  self.embed_matrix[idx] = self.word2vect.word_vec(word) # assign weight for the corresponding word and index\n"
     ]
    },
    {
     "name": "stdout",
     "output_type": "stream",
     "text": [
      "Epoch 1/20\n",
      "19/19 [==============================] - 10s 251ms/step - loss: 1.3608 - accuracy: 0.4721 - val_loss: 0.8263 - val_accuracy: 0.7124\n",
      "Epoch 2/20\n",
      "19/19 [==============================] - 3s 141ms/step - loss: 0.6817 - accuracy: 0.7752 - val_loss: 0.4876 - val_accuracy: 0.8428\n",
      "Epoch 3/20\n",
      "19/19 [==============================] - 3s 142ms/step - loss: 0.2884 - accuracy: 0.9092 - val_loss: 0.3459 - val_accuracy: 0.8930\n",
      "Epoch 4/20\n",
      "19/19 [==============================] - 3s 142ms/step - loss: 0.1468 - accuracy: 0.9467 - val_loss: 0.2007 - val_accuracy: 0.9331\n",
      "Epoch 5/20\n",
      "19/19 [==============================] - 3s 144ms/step - loss: 0.0795 - accuracy: 0.9750 - val_loss: 0.1980 - val_accuracy: 0.9398\n",
      "Epoch 6/20\n",
      "19/19 [==============================] - 3s 142ms/step - loss: 0.0536 - accuracy: 0.9833 - val_loss: 0.1546 - val_accuracy: 0.9465\n",
      "Epoch 7/20\n",
      "19/19 [==============================] - 3s 142ms/step - loss: 0.0358 - accuracy: 0.9917 - val_loss: 0.1623 - val_accuracy: 0.9498\n",
      "Epoch 8/20\n",
      "19/19 [==============================] - 3s 141ms/step - loss: 0.0205 - accuracy: 0.9950 - val_loss: 0.1545 - val_accuracy: 0.9498\n",
      "Epoch 9/20\n",
      "19/19 [==============================] - 3s 144ms/step - loss: 0.0149 - accuracy: 0.9967 - val_loss: 0.1384 - val_accuracy: 0.9599\n",
      "Epoch 10/20\n",
      "19/19 [==============================] - 3s 143ms/step - loss: 0.0073 - accuracy: 0.9992 - val_loss: 0.2067 - val_accuracy: 0.9599\n",
      "Epoch 11/20\n",
      "19/19 [==============================] - 3s 146ms/step - loss: 0.0137 - accuracy: 0.9950 - val_loss: 0.1418 - val_accuracy: 0.9666\n",
      "Epoch 12/20\n",
      "19/19 [==============================] - 3s 143ms/step - loss: 0.0139 - accuracy: 0.9958 - val_loss: 0.1403 - val_accuracy: 0.9699\n",
      "Epoch 13/20\n",
      "19/19 [==============================] - 3s 143ms/step - loss: 0.0040 - accuracy: 0.9975 - val_loss: 0.1569 - val_accuracy: 0.9699\n",
      "Epoch 14/20\n",
      "19/19 [==============================] - 3s 145ms/step - loss: 6.1211e-04 - accuracy: 1.0000 - val_loss: 0.1589 - val_accuracy: 0.9699\n",
      "Epoch 15/20\n",
      "19/19 [==============================] - 3s 162ms/step - loss: 3.2549e-04 - accuracy: 1.0000 - val_loss: 0.1670 - val_accuracy: 0.9699\n",
      "Epoch 16/20\n",
      "19/19 [==============================] - 3s 168ms/step - loss: 0.0107 - accuracy: 0.9983 - val_loss: 0.1815 - val_accuracy: 0.9699\n",
      "Epoch 17/20\n",
      "19/19 [==============================] - 3s 163ms/step - loss: 2.9449e-04 - accuracy: 1.0000 - val_loss: 0.1872 - val_accuracy: 0.9732\n",
      "Epoch 18/20\n",
      "19/19 [==============================] - 3s 147ms/step - loss: 8.5199e-05 - accuracy: 1.0000 - val_loss: 0.1824 - val_accuracy: 0.9699\n",
      "Epoch 19/20\n",
      "19/19 [==============================] - 3s 163ms/step - loss: 4.4006e-05 - accuracy: 1.0000 - val_loss: 0.1853 - val_accuracy: 0.9699\n",
      "Epoch 20/20\n",
      "19/19 [==============================] - 3s 166ms/step - loss: 2.2848e-05 - accuracy: 1.0000 - val_loss: 0.1938 - val_accuracy: 0.9666\n",
      "5/5 [==============================] - 0s 44ms/step - loss: 0.1938 - accuracy: 0.9666\n"
     ]
    }
   ],
   "source": [
    "stand_att_rnn = StandardAttention_RNN(run_mode = 'init-fine-tune', cell_type= best_parameter_set[0], \n",
    "                  network_type = best_parameter_set[1], embed_model= 'glove-wiki-gigaword-100', \n",
    "                  embed_size= 128, state_sizes = [64, 128], data_manager = dm)\n",
    "\n",
    "stand_att_rnn.build()\n",
    "opt = tf.keras.optimizers.RMSprop(learning_rate=0.001)\n",
    "stand_att_rnn.compile_model(optimizer=opt, loss='sparse_categorical_crossentropy', metrics=['accuracy'])\n",
    "\n",
    "stand_att_rnn.fit(dm.tf_train_set.batch(64), epochs=20, validation_data = dm.tf_valid_set.batch(64))\n",
    "stand_att_rnn.evaluate(dm.tf_valid_set.batch(64))"
   ]
  },
  {
   "cell_type": "markdown",
   "metadata": {
    "tags": []
   },
   "source": [
    "#### <span style=\"color:red\">**Question 4.4.3.**</span> \n",
    "\n",
    "**Choose a common setting for standard RNN and RNN with standard attention and conduct experiments to compare them. A setting here means `cell_type`, `network_type`, and list of `state sizes`**.\n",
    "\n",
    "<div style=\"text-align: right\"><span style=\"color:red\">[2 points]</span></div>"
   ]
  },
  {
   "cell_type": "markdown",
   "metadata": {},
   "source": [
    "valid accuracy of:\n",
    "\n",
    "    standard RNN                = 0.9699\n",
    "    RNN with standard attention = 0.9666\n"
   ]
  },
  {
   "cell_type": "code",
   "execution_count": 50,
   "metadata": {},
   "outputs": [
    {
     "name": "stderr",
     "output_type": "stream",
     "text": [
      "C:\\Users\\ngyij\\AppData\\Local\\Temp\\ipykernel_24372\\2278504239.py:24: DeprecationWarning: Call to deprecated `word_vec` (Use get_vector instead).\n",
      "  self.embed_matrix[idx] = self.word2vect.word_vec(word) # assign weight for the corresponding word and index\n"
     ]
    },
    {
     "name": "stdout",
     "output_type": "stream",
     "text": [
      "Epoch 1/20\n",
      "19/19 [==============================] - 12s 318ms/step - loss: 1.3554 - accuracy: 0.4580 - val_loss: 0.7996 - val_accuracy: 0.7291\n",
      "Epoch 2/20\n",
      "19/19 [==============================] - 3s 158ms/step - loss: 0.7030 - accuracy: 0.7585 - val_loss: 0.4936 - val_accuracy: 0.8161\n",
      "Epoch 3/20\n",
      "19/19 [==============================] - 3s 173ms/step - loss: 0.2757 - accuracy: 0.9159 - val_loss: 0.3325 - val_accuracy: 0.8896\n",
      "Epoch 4/20\n",
      "19/19 [==============================] - 3s 151ms/step - loss: 0.1466 - accuracy: 0.9525 - val_loss: 0.2388 - val_accuracy: 0.9331\n",
      "Epoch 5/20\n",
      "19/19 [==============================] - 3s 159ms/step - loss: 0.0911 - accuracy: 0.9667 - val_loss: 0.2011 - val_accuracy: 0.9365\n",
      "Epoch 6/20\n",
      "19/19 [==============================] - 3s 166ms/step - loss: 0.0603 - accuracy: 0.9817 - val_loss: 0.1768 - val_accuracy: 0.9498\n",
      "Epoch 7/20\n",
      "19/19 [==============================] - 3s 156ms/step - loss: 0.0385 - accuracy: 0.9883 - val_loss: 0.1531 - val_accuracy: 0.9532\n",
      "Epoch 8/20\n",
      "19/19 [==============================] - 3s 158ms/step - loss: 0.0241 - accuracy: 0.9917 - val_loss: 0.1105 - val_accuracy: 0.9599\n",
      "Epoch 9/20\n",
      "19/19 [==============================] - 3s 170ms/step - loss: 0.0227 - accuracy: 0.9967 - val_loss: 0.0954 - val_accuracy: 0.9666\n",
      "Epoch 10/20\n",
      "19/19 [==============================] - 3s 151ms/step - loss: 0.0129 - accuracy: 0.9958 - val_loss: 0.1066 - val_accuracy: 0.9666\n",
      "Epoch 11/20\n",
      "19/19 [==============================] - 3s 154ms/step - loss: 0.0128 - accuracy: 0.9950 - val_loss: 0.1234 - val_accuracy: 0.9666\n",
      "Epoch 12/20\n",
      "19/19 [==============================] - 3s 155ms/step - loss: 0.0027 - accuracy: 1.0000 - val_loss: 0.1348 - val_accuracy: 0.9666\n",
      "Epoch 13/20\n",
      "19/19 [==============================] - 3s 146ms/step - loss: 7.6795e-04 - accuracy: 1.0000 - val_loss: 0.1356 - val_accuracy: 0.9699\n",
      "Epoch 14/20\n",
      "19/19 [==============================] - 3s 152ms/step - loss: 2.3711e-04 - accuracy: 1.0000 - val_loss: 0.1404 - val_accuracy: 0.9699\n",
      "Epoch 15/20\n",
      "19/19 [==============================] - 3s 155ms/step - loss: 9.4960e-05 - accuracy: 1.0000 - val_loss: 0.1488 - val_accuracy: 0.9699\n",
      "Epoch 16/20\n",
      "19/19 [==============================] - 3s 153ms/step - loss: 3.8575e-05 - accuracy: 1.0000 - val_loss: 0.1607 - val_accuracy: 0.9699\n",
      "Epoch 17/20\n",
      "19/19 [==============================] - 3s 157ms/step - loss: 1.4117e-05 - accuracy: 1.0000 - val_loss: 0.1729 - val_accuracy: 0.9666\n",
      "Epoch 18/20\n",
      "19/19 [==============================] - 3s 150ms/step - loss: 5.1580e-06 - accuracy: 1.0000 - val_loss: 0.1881 - val_accuracy: 0.9666\n",
      "Epoch 19/20\n",
      "19/19 [==============================] - 3s 157ms/step - loss: 0.0062 - accuracy: 0.9983 - val_loss: 0.1861 - val_accuracy: 0.9699\n",
      "Epoch 20/20\n",
      "19/19 [==============================] - 3s 151ms/step - loss: 0.0125 - accuracy: 0.9958 - val_loss: 0.2217 - val_accuracy: 0.9699\n",
      "5/5 [==============================] - 0s 41ms/step - loss: 0.2217 - accuracy: 0.9699\n"
     ]
    }
   ],
   "source": [
    "#Your trial here\n",
    "stand_att_rnn1 = StandardAttention_RNN(run_mode = 'init-fine-tune', cell_type= best_parameter_set[0], \n",
    "                  network_type = best_parameter_set[1], embed_model= 'glove-wiki-gigaword-100', \n",
    "                  embed_size= 128, state_sizes = [64, 128], data_manager = dm)\n",
    "\n",
    "stand_att_rnn1.build()\n",
    "opt = tf.keras.optimizers.RMSprop(learning_rate=0.001)\n",
    "stand_att_rnn1.compile_model(optimizer=opt, loss='sparse_categorical_crossentropy', metrics=['accuracy'])\n",
    "\n",
    "stand_att_rnn1.fit(dm.tf_train_set.batch(64), epochs=20, validation_data = dm.tf_valid_set.batch(64))\n",
    "stand_att_rnn1.evaluate(dm.tf_valid_set.batch(64))"
   ]
  },
  {
   "cell_type": "code",
   "execution_count": 51,
   "metadata": {},
   "outputs": [
    {
     "name": "stderr",
     "output_type": "stream",
     "text": [
      "C:\\Users\\ngyij\\AppData\\Local\\Temp\\ipykernel_24372\\1809973733.py:24: DeprecationWarning: Call to deprecated `word_vec` (Use get_vector instead).\n",
      "  self.embed_matrix[idx] = self.word2vect.word_vec(word) # assign weight for the corresponding word and index\n"
     ]
    },
    {
     "name": "stdout",
     "output_type": "stream",
     "text": [
      "Epoch 1/20\n",
      "19/19 [==============================] - 7s 167ms/step - loss: 1.4861 - accuracy: 0.4005 - val_loss: 0.9965 - val_accuracy: 0.7191\n",
      "Epoch 2/20\n",
      "19/19 [==============================] - 2s 97ms/step - loss: 0.8514 - accuracy: 0.6969 - val_loss: 0.5819 - val_accuracy: 0.7893\n",
      "Epoch 3/20\n",
      "19/19 [==============================] - 2s 102ms/step - loss: 0.3950 - accuracy: 0.8593 - val_loss: 0.3548 - val_accuracy: 0.8896\n",
      "Epoch 4/20\n",
      "19/19 [==============================] - 2s 100ms/step - loss: 0.1839 - accuracy: 0.9359 - val_loss: 0.2759 - val_accuracy: 0.9197\n",
      "Epoch 5/20\n",
      "19/19 [==============================] - 2s 105ms/step - loss: 0.0850 - accuracy: 0.9759 - val_loss: 0.2487 - val_accuracy: 0.9398\n",
      "Epoch 6/20\n",
      "19/19 [==============================] - 2s 102ms/step - loss: 0.0749 - accuracy: 0.9775 - val_loss: 0.1593 - val_accuracy: 0.9498\n",
      "Epoch 7/20\n",
      "19/19 [==============================] - 2s 100ms/step - loss: 0.0402 - accuracy: 0.9900 - val_loss: 0.1300 - val_accuracy: 0.9599\n",
      "Epoch 8/20\n",
      "19/19 [==============================] - 2s 96ms/step - loss: 0.0329 - accuracy: 0.9875 - val_loss: 0.1082 - val_accuracy: 0.9599\n",
      "Epoch 9/20\n",
      "19/19 [==============================] - 2s 96ms/step - loss: 0.0363 - accuracy: 0.9883 - val_loss: 0.0967 - val_accuracy: 0.9599\n",
      "Epoch 10/20\n",
      "19/19 [==============================] - 2s 101ms/step - loss: 0.0134 - accuracy: 0.9967 - val_loss: 0.0906 - val_accuracy: 0.9666\n",
      "Epoch 11/20\n",
      "19/19 [==============================] - 2s 97ms/step - loss: 0.0114 - accuracy: 0.9950 - val_loss: 0.1045 - val_accuracy: 0.9666\n",
      "Epoch 12/20\n",
      "19/19 [==============================] - 2s 95ms/step - loss: 0.0111 - accuracy: 0.9958 - val_loss: 0.1124 - val_accuracy: 0.9699\n",
      "Epoch 13/20\n",
      "19/19 [==============================] - 2s 99ms/step - loss: 0.0061 - accuracy: 0.9983 - val_loss: 0.1171 - val_accuracy: 0.9699\n",
      "Epoch 14/20\n",
      "19/19 [==============================] - 2s 100ms/step - loss: 0.0011 - accuracy: 1.0000 - val_loss: 0.1362 - val_accuracy: 0.9699\n",
      "Epoch 15/20\n",
      "19/19 [==============================] - 2s 98ms/step - loss: 4.8393e-04 - accuracy: 1.0000 - val_loss: 0.1440 - val_accuracy: 0.9732\n",
      "Epoch 16/20\n",
      "19/19 [==============================] - 2s 103ms/step - loss: 2.3509e-04 - accuracy: 1.0000 - val_loss: 0.1520 - val_accuracy: 0.9732\n",
      "Epoch 17/20\n",
      "19/19 [==============================] - 2s 105ms/step - loss: 1.0248e-04 - accuracy: 1.0000 - val_loss: 0.1654 - val_accuracy: 0.9732\n",
      "Epoch 18/20\n",
      "19/19 [==============================] - 2s 104ms/step - loss: 3.8992e-05 - accuracy: 1.0000 - val_loss: 0.1742 - val_accuracy: 0.9732\n",
      "Epoch 19/20\n",
      "19/19 [==============================] - 2s 107ms/step - loss: 1.6655e-05 - accuracy: 1.0000 - val_loss: 0.1895 - val_accuracy: 0.9699\n",
      "Epoch 20/20\n",
      "19/19 [==============================] - 2s 104ms/step - loss: 0.0282 - accuracy: 0.9958 - val_loss: 0.2092 - val_accuracy: 0.9666\n",
      "5/5 [==============================] - 0s 33ms/step - loss: 0.2092 - accuracy: 0.9666\n"
     ]
    },
    {
     "data": {
      "text/plain": [
       "[0.20923899114131927, 0.9665551781654358]"
      ]
     },
     "execution_count": 51,
     "metadata": {},
     "output_type": "execute_result"
    }
   ],
   "source": [
    "my_rnn_1 = RNN(run_mode = 'init-fine-tune', cell_type= best_parameter_set[0], \n",
    "                  network_type = best_parameter_set[1], embed_model= 'glove-wiki-gigaword-100', \n",
    "                  embed_size= 128, state_sizes = [64, 128], data_manager = dm)\n",
    "\n",
    "my_rnn_1.build()\n",
    "opt = tf.keras.optimizers.RMSprop(learning_rate=0.001)\n",
    "my_rnn_1.compile_model(optimizer=opt, loss='sparse_categorical_crossentropy', metrics=['accuracy'])\n",
    "my_rnn_1.fit(dm.tf_train_set.batch(64), epochs=20, validation_data = dm.tf_valid_set.batch(64))\n",
    "my_rnn_1.evaluate(dm.tf_valid_set.batch(64))"
   ]
  },
  {
   "cell_type": "markdown",
   "metadata": {},
   "source": [
    "### <span style=\"color:#0b486b\">4.5. RNN with Self-Attention for Text and Sequence Classification</span> ###\n",
    "\n",
    "**In what follows, you are required to implement a RNN with the attention machenism for text and sequence classification. This attention mechanism is applied at the last hidden layer of our RNN. Specifically, let $h_1, h_2,...,h_{L-1}, h_L$ be the hidden states at the last hidden layer where $L$ is the sequence length.**\n",
    "\n",
    "**You need to implement the self-attention (SA) mechanism as in this paper [link](https://proceedings.neurips.cc/paper/2017/file/3f5ee243547dee91fbd053c1c4a845aa-Paper.pdf) and this useful blog [link](https://jalammar.github.io/illustrated-transformer/) to work out the new hidden states $h_1, h_2,...,h_{L-1}, h_L$. Finally, you need take average of them $\\bar{h}=\\frac{h_{1}+...+h_{L}}{L}$ and rely on $\\bar{h}$ to conduct the output layer for making predictions.**\n",
    "\n",
    "\n",
    "<div style=\"text-align: right\"><span style=\"color:red; font-weight:bold\">[Total marks for this part: 10 points]<span></div>"
   ]
  },
  {
   "cell_type": "markdown",
   "metadata": {},
   "source": [
    "#### <span style=\"color:red\">**Question 4.5.1.**</span>\n",
    "\n",
    "**We declare the  layer `MySelfAttention` as a class inherited from `tf.keras.layers.Layer` to realize our attention mechanism. You are required to provide the code for this class. Note that in the `def call(self, all_states, last_state)` method, `all_states` is the collection of all hidden states and `last_state` is the last hidden state.**\n",
    "\n",
    "**Please note that in the class `MySelfAttention`, `key_dim` is the parameter $d_k$ and `value_dim` is  the parameter $d_v$ in the main paper** \n",
    "\n",
    "\n",
    "<div style=\"text-align: right\"><span style=\"color:red\">[4 points]</span></div>"
   ]
  },
  {
   "cell_type": "code",
   "execution_count": 52,
   "metadata": {},
   "outputs": [],
   "source": [
    "class MySelfAttention(tf.keras.layers.Layer):\n",
    "    #key_dim is dk and value_dim is dv in the main paper\n",
    "    def __init__(self, key_dim = 128, value_dim = 64):\n",
    "        super(MySelfAttention, self).__init__()\n",
    "        #Inser your code here\n",
    "        self.dk = tf.cast(key_dim, tf.float32)\n",
    "        self.dv = tf.cast(value_dim, tf.float32)\n",
    "        self.wQ = tf.keras.layers.Dense(self.dk)\n",
    "        self.wK = tf.keras.layers.Dense(self.dk)\n",
    "        self.wV = tf.keras.layers.Dense(self.dv)\n",
    "    \n",
    "    #all_states is the collection of all hidden states and last_state is the last hidden state\n",
    "    def call(self, all_states, last_state):\n",
    "        #Insert your code here\n",
    "        q = self.wQ(all_states)\n",
    "        k = self.wK(all_states)\n",
    "        v = self.wV(all_states)\n",
    "        \n",
    "        attention_score = (tf.matmul(q, k, transpose_b=True)) / tf.math.sqrt(self.dk)\n",
    "        \n",
    "        # compute weight \n",
    "        attention_weight = tf.nn.softmax(attention_score, axis=1)\n",
    "        # compute context \n",
    "        context = tf.matmul(attention_weight, v)\n",
    "        return context, attention_weight"
   ]
  },
  {
   "cell_type": "markdown",
   "metadata": {},
   "source": [
    "#### <span style=\"color:red\">**Question 4.5.2**</span> \n",
    "\n",
    "**You are required to extend the class `RNN` in Section `4.3.1` to achieve the class `SelfAttention_RNN` in which the attention mechanism mentioned above is applied at the last hidden layer.**\n",
    "\n",
    "<div style=\"text-align: right\"><span style=\"color:red\">[4 points]</span></div>"
   ]
  },
  {
   "cell_type": "code",
   "execution_count": 53,
   "metadata": {},
   "outputs": [],
   "source": [
    "class SelfAttention_RNN:\n",
    "    def __init__(self, run_mode = 'scratch', cell_type= 'gru', network_type = 'uni-directional', embed_model= 'glove-wiki-gigaword-100', \n",
    "                 embed_size= 128, state_sizes = [64, 64], data_manager = None):\n",
    "        self.run_mode = run_mode\n",
    "        self.data_manager = data_manager\n",
    "        self.cell_type = cell_type\n",
    "        self.network_type = network_type\n",
    "        self.state_sizes = state_sizes\n",
    "        self.embed_model = embed_model\n",
    "        self.embed_size = embed_size\n",
    "        if self.run_mode != 'scratch':\n",
    "            self.embed_size = int(self.embed_model.split(\"-\")[-1])\n",
    "        self.data_manager = data_manager\n",
    "        self.vocab_size = dm.vocab_size +1\n",
    "        self.word2idx = dm.word2idx\n",
    "        self.word2vect = api.load(self.embed_model) \n",
    "        self.embed_matrix = np.zeros(shape= [self.vocab_size, self.embed_size])\n",
    "    \n",
    "    def build_embedding_matrix(self):\n",
    "        #Insert your code here\n",
    "        self.word2vect = api.load(self.embed_model) # load embedding model\n",
    "        for word, idx in self.word2idx.items():\n",
    "            try:\n",
    "                self.embed_matrix[idx] = self.word2vect.word_vec(word) # assign weight for the corresponding word and index\n",
    "            except KeyError: # word cannot be found\n",
    "                pass  # zero vector\n",
    "    \n",
    "    @staticmethod\n",
    "    def get_layer(cell_type= 'gru', network_type= 'uni-directional', state_size= 128, return_sequences= False, activation = 'tanh'):\n",
    "        #Insert your code here\n",
    "        if network_type == 'uni-directional':\n",
    "            if cell_type=='gru':\n",
    "                return tf.keras.layers.GRU(state_size, return_sequences=return_sequences)\n",
    "            elif cell_type== 'lstm':\n",
    "                return tf.keras.layers.LSTM(state_size, return_sequences=return_sequences)\n",
    "            else:\n",
    "                return tf.keras.layers.SimpleRNN(state_size, return_sequences=return_sequences)\n",
    "            \n",
    "            \n",
    "        else:\n",
    "            if cell_type=='gru':\n",
    "                return tf.keras.layers.Bidirectional(tf.keras.layers.GRU(state_size, return_sequences=return_sequences))\n",
    "            elif cell_type== 'lstm':\n",
    "                return tf.keras.layers.Bidirectional(tf.keras.layers.LSTM(state_size, return_sequences=return_sequences))\n",
    "            else:\n",
    "                return tf.keras.layers.Bidirectional(tf.keras.layers.SimpleRNN(state_size, return_sequences=return_sequences))\n",
    "            \n",
    "    \n",
    "    def build(self):\n",
    "        #Insert your code here\n",
    "        x = tf.keras.layers.Input(shape=[None])\n",
    "        \n",
    "        if self.run_mode == \"scratch\":\n",
    "            self.embedding_layer = tf.keras.layers.Embedding(self.vocab_size, self.embed_size, mask_zero=True, trainable=True)\n",
    "            \n",
    "        elif self.run_mode == \"init-only\":\n",
    "            self.build_embedding_matrix()\n",
    "            self.embedding_layer = tf.keras.layers.Embedding(self.vocab_size, self.embed_size, mask_zero=True, trainable=False,\n",
    "                                                        weights=[self.embed_matrix])\n",
    "        else: # fine-tuned\n",
    "            self.build_embedding_matrix()\n",
    "            self.embedding_layer = tf.keras.layers.Embedding(self.vocab_size, self.embed_size, mask_zero=True, trainable=True,\n",
    "                                                        weights=[self.embed_matrix])\n",
    "        \n",
    "        h = self.embedding_layer(x)\n",
    "        num_layers = len(self.state_sizes)\n",
    "        \n",
    "        rnn_layers = []\n",
    "        \n",
    "        for i in range(num_layers):\n",
    "            self_att = MySelfAttention()\n",
    "            if i == 0:\n",
    "                h = self.get_layer(cell_type= self.cell_type, state_size= self.state_sizes[i], return_sequences= True)(h)\n",
    "                context, attention_weight = self_att(h, _)\n",
    "            \n",
    "            elif i != num_layers-1:\n",
    "                h = self.get_layer(cell_type= self.cell_type, state_size= self.state_sizes[i], return_sequences= True)(context)\n",
    "                context, attention_weight = self_att(h, _)\n",
    "                \n",
    "            else:\n",
    "                all_state = self.get_layer(cell_type= self.cell_type, state_size= self.state_sizes[i], return_sequences= True)(context)\n",
    "                context, attention_weight = self_att(all_state, _)\n",
    "                \n",
    "                h = self.get_layer(cell_type= self.cell_type, state_size= self.state_sizes[i])(context)\n",
    "                \n",
    "            rnn_layers.append(context)\n",
    "            \n",
    "        concatenated_contexts = tf.keras.layers.Concatenate()(rnn_layers)\n",
    "        avg_context = tf.keras.layers.Lambda(lambda x: tf.reduce_mean(x, axis=1))(concatenated_contexts)\n",
    "        \n",
    "        output_layer = tf.keras.layers.Dense(dm.num_classes, activation='softmax')(avg_context)\n",
    "        # h = tf.keras.layers.Dense(dm.num_classes, activation='softmax')(h)\n",
    "        self.model = tf.keras.Model(inputs=x, outputs=output_layer)\n",
    "        \n",
    "    def compile_model(self, *args, **kwargs):\n",
    "        self.model.compile(*args, **kwargs)\n",
    "    \n",
    "    def fit(self, *args, **kwargs):\n",
    "        return self.model.fit(*args, **kwargs)\n",
    "    \n",
    "    def evaluate(self, *args, **kwargs):\n",
    "        self.model.evaluate(*args, **kwargs)       \n"
   ]
  },
  {
   "cell_type": "markdown",
   "metadata": {},
   "source": [
    "#### <span style=\"color:red\">**Question 4.5.3.**</span> \n",
    "\n",
    "**Choose a common setting for standard RNN and RNN with self attention and conduct experiments to compare them. A setting here means `cell_type`, `network_type`, and list of `state sizes`**.\n",
    "\n",
    "<div style=\"text-align: right\"><span style=\"color:red\">[2 points]</span></div>"
   ]
  },
  {
   "cell_type": "markdown",
   "metadata": {},
   "source": [
    "valid accuracy of:\n",
    "\n",
    "    standard RNN            = 0.9666\n",
    "    RNN with self attention = 0.9599"
   ]
  },
  {
   "cell_type": "code",
   "execution_count": 54,
   "metadata": {},
   "outputs": [
    {
     "name": "stderr",
     "output_type": "stream",
     "text": [
      "C:\\Users\\ngyij\\AppData\\Local\\Temp\\ipykernel_24372\\898341435.py:24: DeprecationWarning: Call to deprecated `word_vec` (Use get_vector instead).\n",
      "  self.embed_matrix[idx] = self.word2vect.word_vec(word) # assign weight for the corresponding word and index\n"
     ]
    },
    {
     "name": "stdout",
     "output_type": "stream",
     "text": [
      "Epoch 1/20\n",
      "19/19 [==============================] - 7s 164ms/step - loss: 1.5451 - accuracy: 0.3564 - val_loss: 1.2192 - val_accuracy: 0.5686\n",
      "Epoch 2/20\n",
      "19/19 [==============================] - 2s 113ms/step - loss: 1.2047 - accuracy: 0.5354 - val_loss: 0.9440 - val_accuracy: 0.6856\n",
      "Epoch 3/20\n",
      "19/19 [==============================] - 2s 100ms/step - loss: 0.8278 - accuracy: 0.7052 - val_loss: 0.6626 - val_accuracy: 0.7893\n",
      "Epoch 4/20\n",
      "19/19 [==============================] - 2s 108ms/step - loss: 0.4862 - accuracy: 0.8301 - val_loss: 0.4100 - val_accuracy: 0.8395\n",
      "Epoch 5/20\n",
      "19/19 [==============================] - 2s 118ms/step - loss: 0.2503 - accuracy: 0.9126 - val_loss: 0.3035 - val_accuracy: 0.8930\n",
      "Epoch 6/20\n",
      "19/19 [==============================] - 3s 135ms/step - loss: 0.1366 - accuracy: 0.9567 - val_loss: 0.3077 - val_accuracy: 0.9264\n",
      "Epoch 7/20\n",
      "19/19 [==============================] - 2s 105ms/step - loss: 0.1057 - accuracy: 0.9692 - val_loss: 0.2634 - val_accuracy: 0.9365\n",
      "Epoch 8/20\n",
      "19/19 [==============================] - 2s 109ms/step - loss: 0.0371 - accuracy: 0.9892 - val_loss: 0.2168 - val_accuracy: 0.9365\n",
      "Epoch 9/20\n",
      "19/19 [==============================] - 2s 107ms/step - loss: 0.0169 - accuracy: 0.9950 - val_loss: 0.5444 - val_accuracy: 0.9130\n",
      "Epoch 10/20\n",
      "19/19 [==============================] - 2s 119ms/step - loss: 0.0295 - accuracy: 0.9892 - val_loss: 0.1847 - val_accuracy: 0.9365\n",
      "Epoch 11/20\n",
      "19/19 [==============================] - 2s 129ms/step - loss: 0.0031 - accuracy: 0.9992 - val_loss: 0.1770 - val_accuracy: 0.9565\n",
      "Epoch 12/20\n",
      "19/19 [==============================] - 2s 110ms/step - loss: 5.2591e-04 - accuracy: 1.0000 - val_loss: 0.1846 - val_accuracy: 0.9599\n",
      "Epoch 13/20\n",
      "19/19 [==============================] - 2s 110ms/step - loss: 2.0883e-04 - accuracy: 1.0000 - val_loss: 0.1987 - val_accuracy: 0.9599\n",
      "Epoch 14/20\n",
      "19/19 [==============================] - 2s 110ms/step - loss: 7.5260e-05 - accuracy: 1.0000 - val_loss: 0.2191 - val_accuracy: 0.9599\n",
      "Epoch 15/20\n",
      "19/19 [==============================] - 2s 111ms/step - loss: 2.6278e-05 - accuracy: 1.0000 - val_loss: 0.2451 - val_accuracy: 0.9599\n",
      "Epoch 16/20\n",
      "19/19 [==============================] - 2s 109ms/step - loss: 9.2741e-06 - accuracy: 1.0000 - val_loss: 0.2739 - val_accuracy: 0.9599\n",
      "Epoch 17/20\n",
      "19/19 [==============================] - 2s 109ms/step - loss: 3.3496e-06 - accuracy: 1.0000 - val_loss: 0.3035 - val_accuracy: 0.9599\n",
      "Epoch 18/20\n",
      "19/19 [==============================] - 2s 123ms/step - loss: 1.2541e-06 - accuracy: 1.0000 - val_loss: 0.3327 - val_accuracy: 0.9599\n",
      "Epoch 19/20\n",
      "19/19 [==============================] - 2s 107ms/step - loss: 4.9589e-07 - accuracy: 1.0000 - val_loss: 0.3597 - val_accuracy: 0.9599\n",
      "Epoch 20/20\n",
      "19/19 [==============================] - 2s 115ms/step - loss: 2.1360e-07 - accuracy: 1.0000 - val_loss: 0.3827 - val_accuracy: 0.9599\n",
      "5/5 [==============================] - 0s 31ms/step - loss: 0.3827 - accuracy: 0.9599\n"
     ]
    }
   ],
   "source": [
    "#Your trial here\n",
    "self_att_rnn = SelfAttention_RNN(run_mode = 'init-fine-tune', cell_type= best_parameter_set[0], \n",
    "                  network_type = best_parameter_set[1], embed_model= 'glove-wiki-gigaword-100', \n",
    "                  embed_size= 128, state_sizes = [64, 128], data_manager = dm)\n",
    "\n",
    "self_att_rnn.build()\n",
    "opt = tf.keras.optimizers.RMSprop(learning_rate=0.001)\n",
    "self_att_rnn.compile_model(optimizer=opt, loss='sparse_categorical_crossentropy', metrics=['accuracy'])\n",
    "self_att_rnn.fit(dm.tf_train_set.batch(64), epochs=20, validation_data = dm.tf_valid_set.batch(64))\n",
    "\n",
    "self_att_rnn.evaluate(dm.tf_valid_set.batch(64))"
   ]
  },
  {
   "cell_type": "code",
   "execution_count": 55,
   "metadata": {},
   "outputs": [
    {
     "name": "stderr",
     "output_type": "stream",
     "text": [
      "C:\\Users\\ngyij\\AppData\\Local\\Temp\\ipykernel_24372\\1809973733.py:24: DeprecationWarning: Call to deprecated `word_vec` (Use get_vector instead).\n",
      "  self.embed_matrix[idx] = self.word2vect.word_vec(word) # assign weight for the corresponding word and index\n"
     ]
    },
    {
     "name": "stdout",
     "output_type": "stream",
     "text": [
      "Epoch 1/20\n",
      "19/19 [==============================] - 7s 183ms/step - loss: 1.4377 - accuracy: 0.4230 - val_loss: 0.9080 - val_accuracy: 0.6990\n",
      "Epoch 2/20\n",
      "19/19 [==============================] - 2s 98ms/step - loss: 0.7978 - accuracy: 0.7102 - val_loss: 0.5336 - val_accuracy: 0.8227\n",
      "Epoch 3/20\n",
      "19/19 [==============================] - 2s 95ms/step - loss: 0.4393 - accuracy: 0.8385 - val_loss: 0.3691 - val_accuracy: 0.8662\n",
      "Epoch 4/20\n",
      "19/19 [==============================] - 2s 93ms/step - loss: 0.2311 - accuracy: 0.9309 - val_loss: 0.3174 - val_accuracy: 0.8963\n",
      "Epoch 5/20\n",
      "19/19 [==============================] - 2s 93ms/step - loss: 0.1214 - accuracy: 0.9592 - val_loss: 0.2512 - val_accuracy: 0.9331\n",
      "Epoch 6/20\n",
      "19/19 [==============================] - 2s 95ms/step - loss: 0.0738 - accuracy: 0.9775 - val_loss: 0.2174 - val_accuracy: 0.9398\n",
      "Epoch 7/20\n",
      "19/19 [==============================] - 2s 94ms/step - loss: 0.0568 - accuracy: 0.9833 - val_loss: 0.2789 - val_accuracy: 0.9398\n",
      "Epoch 8/20\n",
      "19/19 [==============================] - 2s 94ms/step - loss: 0.0348 - accuracy: 0.9892 - val_loss: 0.1602 - val_accuracy: 0.9498\n",
      "Epoch 9/20\n",
      "19/19 [==============================] - 2s 97ms/step - loss: 0.0258 - accuracy: 0.9900 - val_loss: 0.2686 - val_accuracy: 0.9465\n",
      "Epoch 10/20\n",
      "19/19 [==============================] - 2s 93ms/step - loss: 0.0126 - accuracy: 0.9958 - val_loss: 0.1286 - val_accuracy: 0.9565\n",
      "Epoch 11/20\n",
      "19/19 [==============================] - 2s 94ms/step - loss: 0.0202 - accuracy: 0.9958 - val_loss: 0.1522 - val_accuracy: 0.9498\n",
      "Epoch 12/20\n",
      "19/19 [==============================] - 2s 97ms/step - loss: 0.0226 - accuracy: 0.9917 - val_loss: 0.1301 - val_accuracy: 0.9632\n",
      "Epoch 13/20\n",
      "19/19 [==============================] - 2s 93ms/step - loss: 0.0530 - accuracy: 0.9867 - val_loss: 0.1372 - val_accuracy: 0.9666\n",
      "Epoch 14/20\n",
      "19/19 [==============================] - 2s 94ms/step - loss: 0.0020 - accuracy: 1.0000 - val_loss: 0.1346 - val_accuracy: 0.9666\n",
      "Epoch 15/20\n",
      "19/19 [==============================] - 2s 94ms/step - loss: 0.0014 - accuracy: 1.0000 - val_loss: 0.1420 - val_accuracy: 0.9666\n",
      "Epoch 16/20\n",
      "19/19 [==============================] - 2s 94ms/step - loss: 8.2081e-04 - accuracy: 1.0000 - val_loss: 0.1556 - val_accuracy: 0.9699\n",
      "Epoch 17/20\n",
      "19/19 [==============================] - 2s 94ms/step - loss: 4.2139e-04 - accuracy: 1.0000 - val_loss: 0.1732 - val_accuracy: 0.9699\n",
      "Epoch 18/20\n",
      "19/19 [==============================] - 2s 99ms/step - loss: 1.6415e-04 - accuracy: 1.0000 - val_loss: 0.1875 - val_accuracy: 0.9632\n",
      "Epoch 19/20\n",
      "19/19 [==============================] - 2s 101ms/step - loss: 6.8537e-05 - accuracy: 1.0000 - val_loss: 0.2019 - val_accuracy: 0.9666\n",
      "Epoch 20/20\n",
      "19/19 [==============================] - 2s 98ms/step - loss: 2.9164e-05 - accuracy: 1.0000 - val_loss: 0.2173 - val_accuracy: 0.9666\n",
      "5/5 [==============================] - 0s 30ms/step - loss: 0.2173 - accuracy: 0.9666\n"
     ]
    },
    {
     "data": {
      "text/plain": [
       "[0.21734552085399628, 0.9665551781654358]"
      ]
     },
     "execution_count": 55,
     "metadata": {},
     "output_type": "execute_result"
    }
   ],
   "source": [
    "my_rnn_2 = RNN(run_mode = 'init-fine-tune', cell_type= best_parameter_set[0], \n",
    "                  network_type = best_parameter_set[1], embed_model= 'glove-wiki-gigaword-100', \n",
    "                  embed_size= 128, state_sizes = [64, 128], data_manager = dm)\n",
    "\n",
    "my_rnn_2.build()\n",
    "opt = tf.keras.optimizers.RMSprop(learning_rate=0.001)\n",
    "my_rnn_2.compile_model(optimizer=opt, loss='sparse_categorical_crossentropy', metrics=['accuracy'])\n",
    "my_rnn_2.fit(dm.tf_train_set.batch(64), epochs=20, validation_data = dm.tf_valid_set.batch(64))\n",
    "\n",
    "my_rnn_2.evaluate(dm.tf_valid_set.batch(64))"
   ]
  },
  {
   "cell_type": "markdown",
   "metadata": {},
   "source": [
    "### <span style=\"color:#0b486b\">4.6. Investigating the embedding vectors from the embedding matrix</span> ###\n",
    "\n",
    "<div style=\"text-align: right\"><span style=\"color:red; font-weight:bold\">[Total marks for this part: 10 points]<span></div>"
   ]
  },
  {
   "cell_type": "markdown",
   "metadata": {},
   "source": [
    "**As you know, the embedding matrix is a collection of embedding vectors, each is for one word. In this part, you will base on the cosine similarity of the embedding vectors for the words to find the top-k most relevant words for a given word.**\n",
    "\n",
    "**Good embeddings should have words close in meaning near each other by some similarity metrics. The similarity metric we'll use is the `consine` similarity, which is defined for two vector $\\mathbf{u}$ and $\\mathbf{v}$ as $\\cos(\\mathbf{u}, \\mathbf{v})=\\frac{\\mathbf{u} \\cdot \\mathbf{v}}{\\left\\Vert{\\mathbf{u}}\\right\\Vert\\left\\Vert{\\mathbf{v}}\\right\\Vert}$ where $\\cdot$ means dot product and $\\left\\Vert\\cdot\\right\\Vert$ means the $\\mathcal{L}_2$ norm.**"
   ]
  },
  {
   "cell_type": "code",
   "execution_count": 56,
   "metadata": {},
   "outputs": [],
   "source": [
    "def cosine_similarity(u,v):\n",
    "    return np.dot(u,v)/(np.linalg.norm(u)*np.linalg.norm(v))"
   ]
  },
  {
   "cell_type": "markdown",
   "metadata": {},
   "source": [
    "#### <span style=\"color:red\">**Question 4.6.1**</span> \n",
    "\n",
    "**You are required to write the code for the function `find_most_similar(word= None, k=5, model= None)`. As its name, this function returns the `top-k most relevant word` for a given word based on the cosine similarity of the embedding vectors.**\n",
    "\n",
    "<div style=\"text-align: right\"><span style=\"color:red\">[5 points]</span></div>"
   ]
  },
  {
   "cell_type": "code",
   "execution_count": 57,
   "metadata": {},
   "outputs": [],
   "source": [
    "def find_most_similar(word= None, k=5, model= None):\n",
    "    try:\n",
    "        #Insert your code here\n",
    "        words_similarities = []\n",
    "        word_vector = model.word2vect.get_vector(word)\n",
    "\n",
    "        for vocab_word in model.word2idx.keys():\n",
    "            if vocab_word != word and vocab_word in model.word2vect:\n",
    "                similarity = cosine_similarity(word_vector, model.word2vect.get_vector(vocab_word))\n",
    "                words_similarities.append((vocab_word, similarity))\n",
    "\n",
    "        words_similarities.sort(key=lambda x: x[1], reverse=True)\n",
    "\n",
    "        # top-k similar words\n",
    "        top_similar_words = words_similarities[:k]\n",
    "\n",
    "        return top_similar_words       \n",
    "                \n",
    "    except: #word not in the vocabulary\n",
    "        print(\"Word is not in the dictionary!\")\n",
    "        return []"
   ]
  },
  {
   "cell_type": "markdown",
   "metadata": {},
   "source": [
    "Here is the example of the above function. As you can observe, the result makes sense which demonstrates that we obtain a good model with the meaningful embedding matrix."
   ]
  },
  {
   "cell_type": "code",
   "execution_count": 58,
   "metadata": {},
   "outputs": [
    {
     "data": {
      "text/plain": [
       "[('germany', 0.7552423),\n",
       " ('russia', 0.6653887),\n",
       " ('republic', 0.6456413),\n",
       " ('netherlands', 0.62823284),\n",
       " ('italy', 0.6275121),\n",
       " ('belgium', 0.62377894),\n",
       " ('europe', 0.6231109),\n",
       " ('soviet', 0.61341584),\n",
       " ('turkey', 0.591007),\n",
       " ('malta', 0.5892649)]"
      ]
     },
     "execution_count": 58,
     "metadata": {},
     "output_type": "execute_result"
    }
   ],
   "source": [
    "find_most_similar(word='poland', k=10, model= my_best_rnn)"
   ]
  },
  {
   "cell_type": "markdown",
   "metadata": {},
   "source": [
    "#### <span style=\"color:red\">**Question 4.6.2**</span> \n",
    "​\n",
    "**You are required to write the code for the function `plot3D_with_labels(word= None, model= None, k= 10)`. As its name, this function visualizes the `top-k most relevant word` for a given word based on the cosine similarity of the embedding vectors by using tSNE to project the embedding vectors to a 3D space.**\n",
    "​\n",
    "\n",
    "<img src=\"./images/3D_plots.png\" align=\"center\" width=600/>\n",
    "<div style=\"text-align: right\"><span style=\"color:red\">[5 points]</span></div>"
   ]
  },
  {
   "cell_type": "code",
   "execution_count": 59,
   "metadata": {},
   "outputs": [],
   "source": [
    "from mpl_toolkits.mplot3d import Axes3D\n",
    "from sklearn.manifold import TSNE\n",
    "tsne = TSNE(perplexity=15, n_components=3, init='pca', n_iter=5000) \n",
    "\n",
    "\n",
    "def plot3D_with_labels(word= None, model= None, k= 10):\n",
    "    #Insert yout code here\n",
    "    similarities = find_most_similar(word=word, k=k, model= model)\n",
    "    labels = [word]\n",
    "    label_colors = ['b'] \n",
    "    word_colors = ['r'] \n",
    "    \n",
    "    for x in similarities:\n",
    "        labels.append(x[0])\n",
    "        label_colors.append('b')\n",
    "        word_colors.append('g')\n",
    "\n",
    "    embeddings= np.array([model.word2vect.get_vector(word) for word in labels])\n",
    "    low_dim_embs = tsne.fit_transform(embeddings)\n",
    "\n",
    "    fig = plt.figure(figsize=(20, 20))\n",
    "    ax = fig.add_subplot(111, projection='3d')\n",
    "    \n",
    "    for i, label in enumerate(labels):\n",
    "        x,y,z =  low_dim_embs[i,:]\n",
    "        ax.scatter(x, y, z, color=label_colors[i])\n",
    "        ax.text(x, y, z, label, color=word_colors[i])\n",
    "        \n",
    "    ax.set_xlabel('dim-one')\n",
    "    ax.set_ylabel('dim-two')\n",
    "    ax.set_zlabel('dim-three')\n",
    "    plt.show()"
   ]
  },
  {
   "cell_type": "code",
   "execution_count": 60,
   "metadata": {},
   "outputs": [
    {
     "data": {
      "image/png": "[encoded data removed]",
      "text/plain": [
       "<Figure size 2000x2000 with 1 Axes>"
      ]
     },
     "metadata": {},
     "output_type": "display_data"
    }
   ],
   "source": [
    "plot3D_with_labels(word='poland', k=20, model= my_best_rnn)"
   ]
  },
  {
   "cell_type": "markdown",
   "metadata": {},
   "source": [
    "--- \n",
    "<div style=\"text-align: center\"> <span style=\"color:green\">GOOD LUCK WITH YOUR ASSIGNMENT 2!</span> </div>\n",
    "<div style=\"text-align: center\"> <span style=\"color:black\">END OF ASSIGNMENT</span> </div>"
   ]
  }
 ],
 "metadata": {
  "kernelspec": {
   "display_name": "Python 3 (ipykernel)",
   "language": "python",
   "name": "python3"
  },
  "language_info": {
   "codemirror_mode": {
    "name": "ipython",
    "version": 3
   },
   "file_extension": ".py",
   "mimetype": "text/x-python",
   "name": "python",
   "nbconvert_exporter": "python",
   "pygments_lexer": "ipython3",
   "version": "3.9.17"
  }
 },
 "nbformat": 4,
 "nbformat_minor": 4
}
